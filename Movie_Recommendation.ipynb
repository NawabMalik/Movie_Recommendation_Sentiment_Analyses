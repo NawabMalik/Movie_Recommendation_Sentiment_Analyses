{
 "cells": [
  {
   "cell_type": "code",
   "execution_count": 1,
   "metadata": {},
   "outputs": [],
   "source": [
    "# Importing the libraries:\n",
    "import pandas as pd\n",
    "import numpy as np\n",
    "import seaborn as sb\n",
    "import matplotlib.pyplot as plt"
   ]
  },
  {
   "cell_type": "markdown",
   "metadata": {},
   "source": [
    "# Importing IMDB Movie_data (Movie_Metadata)"
   ]
  },
  {
   "cell_type": "code",
   "execution_count": 2,
   "metadata": {},
   "outputs": [],
   "source": [
    "# data source from kaggle:      \"https://www.kaggle.com/carolzhangdc/imdb-5000-movie-dataset\"\n",
    "data=pd.read_csv(\"D:\\\\Study\\\\Python\\\\scripts\\\\Machine_Learning\\\\Supervised_Model\\\\Movie_Recommendation\\\\movie_metadata.csv\")"
   ]
  },
  {
   "cell_type": "code",
   "execution_count": 3,
   "metadata": {},
   "outputs": [
    {
     "data": {
      "text/html": [
       "<div>\n",
       "<style scoped>\n",
       "    .dataframe tbody tr th:only-of-type {\n",
       "        vertical-align: middle;\n",
       "    }\n",
       "\n",
       "    .dataframe tbody tr th {\n",
       "        vertical-align: top;\n",
       "    }\n",
       "\n",
       "    .dataframe thead th {\n",
       "        text-align: right;\n",
       "    }\n",
       "</style>\n",
       "<table border=\"1\" class=\"dataframe\">\n",
       "  <thead>\n",
       "    <tr style=\"text-align: right;\">\n",
       "      <th></th>\n",
       "      <th>color</th>\n",
       "      <th>director_name</th>\n",
       "      <th>num_critic_for_reviews</th>\n",
       "      <th>duration</th>\n",
       "      <th>director_facebook_likes</th>\n",
       "      <th>actor_3_facebook_likes</th>\n",
       "      <th>actor_2_name</th>\n",
       "      <th>actor_1_facebook_likes</th>\n",
       "      <th>gross</th>\n",
       "      <th>genres</th>\n",
       "      <th>...</th>\n",
       "      <th>num_user_for_reviews</th>\n",
       "      <th>language</th>\n",
       "      <th>country</th>\n",
       "      <th>content_rating</th>\n",
       "      <th>budget</th>\n",
       "      <th>title_year</th>\n",
       "      <th>actor_2_facebook_likes</th>\n",
       "      <th>imdb_score</th>\n",
       "      <th>aspect_ratio</th>\n",
       "      <th>movie_facebook_likes</th>\n",
       "    </tr>\n",
       "  </thead>\n",
       "  <tbody>\n",
       "    <tr>\n",
       "      <th>0</th>\n",
       "      <td>Color</td>\n",
       "      <td>James Cameron</td>\n",
       "      <td>723.0</td>\n",
       "      <td>178.0</td>\n",
       "      <td>0.0</td>\n",
       "      <td>855.0</td>\n",
       "      <td>Joel David Moore</td>\n",
       "      <td>1000.0</td>\n",
       "      <td>760505847.0</td>\n",
       "      <td>Action|Adventure|Fantasy|Sci-Fi</td>\n",
       "      <td>...</td>\n",
       "      <td>3054.0</td>\n",
       "      <td>English</td>\n",
       "      <td>USA</td>\n",
       "      <td>PG-13</td>\n",
       "      <td>237000000.0</td>\n",
       "      <td>2009.0</td>\n",
       "      <td>936.0</td>\n",
       "      <td>7.9</td>\n",
       "      <td>1.78</td>\n",
       "      <td>33000</td>\n",
       "    </tr>\n",
       "    <tr>\n",
       "      <th>1</th>\n",
       "      <td>Color</td>\n",
       "      <td>Gore Verbinski</td>\n",
       "      <td>302.0</td>\n",
       "      <td>169.0</td>\n",
       "      <td>563.0</td>\n",
       "      <td>1000.0</td>\n",
       "      <td>Orlando Bloom</td>\n",
       "      <td>40000.0</td>\n",
       "      <td>309404152.0</td>\n",
       "      <td>Action|Adventure|Fantasy</td>\n",
       "      <td>...</td>\n",
       "      <td>1238.0</td>\n",
       "      <td>English</td>\n",
       "      <td>USA</td>\n",
       "      <td>PG-13</td>\n",
       "      <td>300000000.0</td>\n",
       "      <td>2007.0</td>\n",
       "      <td>5000.0</td>\n",
       "      <td>7.1</td>\n",
       "      <td>2.35</td>\n",
       "      <td>0</td>\n",
       "    </tr>\n",
       "    <tr>\n",
       "      <th>2</th>\n",
       "      <td>Color</td>\n",
       "      <td>Sam Mendes</td>\n",
       "      <td>602.0</td>\n",
       "      <td>148.0</td>\n",
       "      <td>0.0</td>\n",
       "      <td>161.0</td>\n",
       "      <td>Rory Kinnear</td>\n",
       "      <td>11000.0</td>\n",
       "      <td>200074175.0</td>\n",
       "      <td>Action|Adventure|Thriller</td>\n",
       "      <td>...</td>\n",
       "      <td>994.0</td>\n",
       "      <td>English</td>\n",
       "      <td>UK</td>\n",
       "      <td>PG-13</td>\n",
       "      <td>245000000.0</td>\n",
       "      <td>2015.0</td>\n",
       "      <td>393.0</td>\n",
       "      <td>6.8</td>\n",
       "      <td>2.35</td>\n",
       "      <td>85000</td>\n",
       "    </tr>\n",
       "    <tr>\n",
       "      <th>3</th>\n",
       "      <td>Color</td>\n",
       "      <td>Christopher Nolan</td>\n",
       "      <td>813.0</td>\n",
       "      <td>164.0</td>\n",
       "      <td>22000.0</td>\n",
       "      <td>23000.0</td>\n",
       "      <td>Christian Bale</td>\n",
       "      <td>27000.0</td>\n",
       "      <td>448130642.0</td>\n",
       "      <td>Action|Thriller</td>\n",
       "      <td>...</td>\n",
       "      <td>2701.0</td>\n",
       "      <td>English</td>\n",
       "      <td>USA</td>\n",
       "      <td>PG-13</td>\n",
       "      <td>250000000.0</td>\n",
       "      <td>2012.0</td>\n",
       "      <td>23000.0</td>\n",
       "      <td>8.5</td>\n",
       "      <td>2.35</td>\n",
       "      <td>164000</td>\n",
       "    </tr>\n",
       "    <tr>\n",
       "      <th>4</th>\n",
       "      <td>NaN</td>\n",
       "      <td>Doug Walker</td>\n",
       "      <td>NaN</td>\n",
       "      <td>NaN</td>\n",
       "      <td>131.0</td>\n",
       "      <td>NaN</td>\n",
       "      <td>Rob Walker</td>\n",
       "      <td>131.0</td>\n",
       "      <td>NaN</td>\n",
       "      <td>Documentary</td>\n",
       "      <td>...</td>\n",
       "      <td>NaN</td>\n",
       "      <td>NaN</td>\n",
       "      <td>NaN</td>\n",
       "      <td>NaN</td>\n",
       "      <td>NaN</td>\n",
       "      <td>NaN</td>\n",
       "      <td>12.0</td>\n",
       "      <td>7.1</td>\n",
       "      <td>NaN</td>\n",
       "      <td>0</td>\n",
       "    </tr>\n",
       "  </tbody>\n",
       "</table>\n",
       "<p>5 rows × 28 columns</p>\n",
       "</div>"
      ],
      "text/plain": [
       "   color      director_name  num_critic_for_reviews  duration  \\\n",
       "0  Color      James Cameron                   723.0     178.0   \n",
       "1  Color     Gore Verbinski                   302.0     169.0   \n",
       "2  Color         Sam Mendes                   602.0     148.0   \n",
       "3  Color  Christopher Nolan                   813.0     164.0   \n",
       "4    NaN        Doug Walker                     NaN       NaN   \n",
       "\n",
       "   director_facebook_likes  actor_3_facebook_likes      actor_2_name  \\\n",
       "0                      0.0                   855.0  Joel David Moore   \n",
       "1                    563.0                  1000.0     Orlando Bloom   \n",
       "2                      0.0                   161.0      Rory Kinnear   \n",
       "3                  22000.0                 23000.0    Christian Bale   \n",
       "4                    131.0                     NaN        Rob Walker   \n",
       "\n",
       "   actor_1_facebook_likes        gross                           genres  ...  \\\n",
       "0                  1000.0  760505847.0  Action|Adventure|Fantasy|Sci-Fi  ...   \n",
       "1                 40000.0  309404152.0         Action|Adventure|Fantasy  ...   \n",
       "2                 11000.0  200074175.0        Action|Adventure|Thriller  ...   \n",
       "3                 27000.0  448130642.0                  Action|Thriller  ...   \n",
       "4                   131.0          NaN                      Documentary  ...   \n",
       "\n",
       "  num_user_for_reviews language  country  content_rating       budget  \\\n",
       "0               3054.0  English      USA           PG-13  237000000.0   \n",
       "1               1238.0  English      USA           PG-13  300000000.0   \n",
       "2                994.0  English       UK           PG-13  245000000.0   \n",
       "3               2701.0  English      USA           PG-13  250000000.0   \n",
       "4                  NaN      NaN      NaN             NaN          NaN   \n",
       "\n",
       "   title_year actor_2_facebook_likes imdb_score  aspect_ratio  \\\n",
       "0      2009.0                  936.0        7.9          1.78   \n",
       "1      2007.0                 5000.0        7.1          2.35   \n",
       "2      2015.0                  393.0        6.8          2.35   \n",
       "3      2012.0                23000.0        8.5          2.35   \n",
       "4         NaN                   12.0        7.1           NaN   \n",
       "\n",
       "  movie_facebook_likes  \n",
       "0                33000  \n",
       "1                    0  \n",
       "2                85000  \n",
       "3               164000  \n",
       "4                    0  \n",
       "\n",
       "[5 rows x 28 columns]"
      ]
     },
     "execution_count": 3,
     "metadata": {},
     "output_type": "execute_result"
    }
   ],
   "source": [
    "data.head()"
   ]
  },
  {
   "cell_type": "code",
   "execution_count": 4,
   "metadata": {},
   "outputs": [
    {
     "data": {
      "text/plain": [
       "(5043, 28)"
      ]
     },
     "execution_count": 4,
     "metadata": {},
     "output_type": "execute_result"
    }
   ],
   "source": [
    "data.shape"
   ]
  },
  {
   "cell_type": "code",
   "execution_count": 5,
   "metadata": {},
   "outputs": [
    {
     "data": {
      "text/plain": [
       "Index(['color', 'director_name', 'num_critic_for_reviews', 'duration',\n",
       "       'director_facebook_likes', 'actor_3_facebook_likes', 'actor_2_name',\n",
       "       'actor_1_facebook_likes', 'gross', 'genres', 'actor_1_name',\n",
       "       'movie_title', 'num_voted_users', 'cast_total_facebook_likes',\n",
       "       'actor_3_name', 'facenumber_in_poster', 'plot_keywords',\n",
       "       'movie_imdb_link', 'num_user_for_reviews', 'language', 'country',\n",
       "       'content_rating', 'budget', 'title_year', 'actor_2_facebook_likes',\n",
       "       'imdb_score', 'aspect_ratio', 'movie_facebook_likes'],\n",
       "      dtype='object')"
      ]
     },
     "execution_count": 5,
     "metadata": {},
     "output_type": "execute_result"
    }
   ],
   "source": [
    "data.columns"
   ]
  },
  {
   "cell_type": "code",
   "execution_count": 6,
   "metadata": {},
   "outputs": [
    {
     "data": {
      "image/png": "[encoded data removed]",
      "text/plain": [
       "<Figure size 1080x1296 with 1 Axes>"
      ]
     },
     "metadata": {
      "needs_background": "light"
     },
     "output_type": "display_data"
    }
   ],
   "source": [
    "# lets see how many movies got released in each year: as per graph-dataset is present only till 2016:\n",
    "x=data.title_year.value_counts(dropna=False).sort_index()\n",
    "x.plot(kind='barh', figsize=(15,18))\n",
    "plt.show()"
   ]
  },
  {
   "cell_type": "code",
   "execution_count": 7,
   "metadata": {},
   "outputs": [
    {
     "data": {
      "text/plain": [
       "0                                                 Avatar \n",
       "1               Pirates of the Caribbean: At World's End \n",
       "2                                                Spectre \n",
       "3                                  The Dark Knight Rises \n",
       "4       Star Wars: Episode VII - The Force Awakens    ...\n",
       "                              ...                        \n",
       "5038                             Signed Sealed Delivered \n",
       "5039                           The Following             \n",
       "5040                                A Plague So Pleasant \n",
       "5041                                    Shanghai Calling \n",
       "5042                                   My Date with Drew \n",
       "Name: movie_title, Length: 5043, dtype: object"
      ]
     },
     "execution_count": 7,
     "metadata": {},
     "output_type": "execute_result"
    }
   ],
   "source": [
    "data.movie_title"
   ]
  },
  {
   "cell_type": "code",
   "execution_count": 8,
   "metadata": {},
   "outputs": [
    {
     "data": {
      "text/plain": [
       "1"
      ]
     },
     "execution_count": 8,
     "metadata": {},
     "output_type": "execute_result"
    }
   ],
   "source": [
    "# lets see Number of movies \"Avatar\"\n",
    "(data.movie_title=='Avatar\\xa0').sum()      # 'xa0' present at the end of every movie title, will remove this later:"
   ]
  },
  {
   "cell_type": "code",
   "execution_count": 9,
   "metadata": {},
   "outputs": [
    {
     "data": {
      "text/plain": [
       "Pan                            3\n",
       "The Fast and the Furious       3\n",
       "Ben-Hur                        3\n",
       "Home                           3\n",
       "Victor Frankenstein            3\n",
       "                              ..\n",
       "Glee: The 3D Concert Movie     1\n",
       "The Warrior's Way              1\n",
       "Hollow Man                     1\n",
       "Motherhood                     1\n",
       "Talk Radio                     1\n",
       "Name: movie_title, Length: 4917, dtype: int64"
      ]
     },
     "execution_count": 9,
     "metadata": {},
     "output_type": "execute_result"
    }
   ],
   "source": [
    "# Number of movies in entire dataset:\n",
    "data.movie_title.value_counts()"
   ]
  },
  {
   "cell_type": "code",
   "execution_count": 10,
   "metadata": {},
   "outputs": [],
   "source": [
    "# lets collect the most important features from this data as per our requirements:\n",
    "data=data.loc[:,['director_name','actor_1_name','actor_2_name','actor_3_name','genres','movie_title']]"
   ]
  },
  {
   "cell_type": "code",
   "execution_count": 11,
   "metadata": {},
   "outputs": [
    {
     "data": {
      "text/html": [
       "<div>\n",
       "<style scoped>\n",
       "    .dataframe tbody tr th:only-of-type {\n",
       "        vertical-align: middle;\n",
       "    }\n",
       "\n",
       "    .dataframe tbody tr th {\n",
       "        vertical-align: top;\n",
       "    }\n",
       "\n",
       "    .dataframe thead th {\n",
       "        text-align: right;\n",
       "    }\n",
       "</style>\n",
       "<table border=\"1\" class=\"dataframe\">\n",
       "  <thead>\n",
       "    <tr style=\"text-align: right;\">\n",
       "      <th></th>\n",
       "      <th>director_name</th>\n",
       "      <th>actor_1_name</th>\n",
       "      <th>actor_2_name</th>\n",
       "      <th>actor_3_name</th>\n",
       "      <th>genres</th>\n",
       "      <th>movie_title</th>\n",
       "    </tr>\n",
       "  </thead>\n",
       "  <tbody>\n",
       "    <tr>\n",
       "      <th>0</th>\n",
       "      <td>James Cameron</td>\n",
       "      <td>CCH Pounder</td>\n",
       "      <td>Joel David Moore</td>\n",
       "      <td>Wes Studi</td>\n",
       "      <td>Action|Adventure|Fantasy|Sci-Fi</td>\n",
       "      <td>Avatar</td>\n",
       "    </tr>\n",
       "    <tr>\n",
       "      <th>1</th>\n",
       "      <td>Gore Verbinski</td>\n",
       "      <td>Johnny Depp</td>\n",
       "      <td>Orlando Bloom</td>\n",
       "      <td>Jack Davenport</td>\n",
       "      <td>Action|Adventure|Fantasy</td>\n",
       "      <td>Pirates of the Caribbean: At World's End</td>\n",
       "    </tr>\n",
       "    <tr>\n",
       "      <th>2</th>\n",
       "      <td>Sam Mendes</td>\n",
       "      <td>Christoph Waltz</td>\n",
       "      <td>Rory Kinnear</td>\n",
       "      <td>Stephanie Sigman</td>\n",
       "      <td>Action|Adventure|Thriller</td>\n",
       "      <td>Spectre</td>\n",
       "    </tr>\n",
       "    <tr>\n",
       "      <th>3</th>\n",
       "      <td>Christopher Nolan</td>\n",
       "      <td>Tom Hardy</td>\n",
       "      <td>Christian Bale</td>\n",
       "      <td>Joseph Gordon-Levitt</td>\n",
       "      <td>Action|Thriller</td>\n",
       "      <td>The Dark Knight Rises</td>\n",
       "    </tr>\n",
       "    <tr>\n",
       "      <th>4</th>\n",
       "      <td>Doug Walker</td>\n",
       "      <td>Doug Walker</td>\n",
       "      <td>Rob Walker</td>\n",
       "      <td>NaN</td>\n",
       "      <td>Documentary</td>\n",
       "      <td>Star Wars: Episode VII - The Force Awakens    ...</td>\n",
       "    </tr>\n",
       "  </tbody>\n",
       "</table>\n",
       "</div>"
      ],
      "text/plain": [
       "       director_name     actor_1_name      actor_2_name          actor_3_name  \\\n",
       "0      James Cameron      CCH Pounder  Joel David Moore             Wes Studi   \n",
       "1     Gore Verbinski      Johnny Depp     Orlando Bloom        Jack Davenport   \n",
       "2         Sam Mendes  Christoph Waltz      Rory Kinnear      Stephanie Sigman   \n",
       "3  Christopher Nolan        Tom Hardy    Christian Bale  Joseph Gordon-Levitt   \n",
       "4        Doug Walker      Doug Walker        Rob Walker                   NaN   \n",
       "\n",
       "                            genres  \\\n",
       "0  Action|Adventure|Fantasy|Sci-Fi   \n",
       "1         Action|Adventure|Fantasy   \n",
       "2        Action|Adventure|Thriller   \n",
       "3                  Action|Thriller   \n",
       "4                      Documentary   \n",
       "\n",
       "                                         movie_title  \n",
       "0                                            Avatar   \n",
       "1          Pirates of the Caribbean: At World's End   \n",
       "2                                           Spectre   \n",
       "3                             The Dark Knight Rises   \n",
       "4  Star Wars: Episode VII - The Force Awakens    ...  "
      ]
     },
     "execution_count": 11,
     "metadata": {},
     "output_type": "execute_result"
    }
   ],
   "source": [
    "data.head()"
   ]
  },
  {
   "cell_type": "code",
   "execution_count": 12,
   "metadata": {},
   "outputs": [
    {
     "data": {
      "text/plain": [
       "director_name    104\n",
       "actor_1_name       7\n",
       "actor_2_name      13\n",
       "actor_3_name      23\n",
       "genres             0\n",
       "movie_title        0\n",
       "dtype: int64"
      ]
     },
     "execution_count": 12,
     "metadata": {},
     "output_type": "execute_result"
    }
   ],
   "source": [
    "# lets handle the missing values:\n",
    "data.isnull().sum()"
   ]
  },
  {
   "cell_type": "code",
   "execution_count": 13,
   "metadata": {},
   "outputs": [],
   "source": [
    "# Replace entire values by \"unknown\" using Numpy library:\n",
    "data['director_name']=data.director_name.replace(to_replace=np.nan, value='unknown')\n",
    "data['actor_1_name']=data.actor_1_name.replace(to_replace=np.nan, value='unknown')\n",
    "data['actor_2_name']=data.actor_2_name.replace(to_replace=np.nan, value='unknown')\n",
    "data['actor_3_name']=data.actor_3_name.replace(to_replace=np.nan, value='unknown')"
   ]
  },
  {
   "cell_type": "code",
   "execution_count": 14,
   "metadata": {},
   "outputs": [],
   "source": [
    "# lets replace a symble '|' by space ' ' from genres column:\n",
    "data['genres']=data.genres.str.replace('|', ' ')"
   ]
  },
  {
   "cell_type": "code",
   "execution_count": 15,
   "metadata": {},
   "outputs": [],
   "source": [
    "# lower the movie_title in order to remove case sensetive mismatch:\n",
    "data['movie_title']=data.movie_title.str.lower()"
   ]
  },
  {
   "cell_type": "code",
   "execution_count": 16,
   "metadata": {},
   "outputs": [
    {
     "data": {
      "text/plain": [
       "\"pirates of the caribbean: at world's end\\xa0\""
      ]
     },
     "execution_count": 16,
     "metadata": {},
     "output_type": "execute_result"
    }
   ],
   "source": [
    "data.movie_title[1]"
   ]
  },
  {
   "cell_type": "code",
   "execution_count": 17,
   "metadata": {},
   "outputs": [],
   "source": [
    "# lets remove symble 'xa0' from the end of movie title:\n",
    "data['movie_title']=data.movie_title.apply(lambda y: y[:-1])"
   ]
  },
  {
   "cell_type": "code",
   "execution_count": 18,
   "metadata": {},
   "outputs": [
    {
     "data": {
      "text/plain": [
       "\"pirates of the caribbean: at world's end\""
      ]
     },
     "execution_count": 18,
     "metadata": {},
     "output_type": "execute_result"
    }
   ],
   "source": [
    "data.movie_title[1]"
   ]
  },
  {
   "cell_type": "code",
   "execution_count": 19,
   "metadata": {},
   "outputs": [
    {
     "data": {
      "text/html": [
       "<div>\n",
       "<style scoped>\n",
       "    .dataframe tbody tr th:only-of-type {\n",
       "        vertical-align: middle;\n",
       "    }\n",
       "\n",
       "    .dataframe tbody tr th {\n",
       "        vertical-align: top;\n",
       "    }\n",
       "\n",
       "    .dataframe thead th {\n",
       "        text-align: right;\n",
       "    }\n",
       "</style>\n",
       "<table border=\"1\" class=\"dataframe\">\n",
       "  <thead>\n",
       "    <tr style=\"text-align: right;\">\n",
       "      <th></th>\n",
       "      <th>director_name</th>\n",
       "      <th>actor_1_name</th>\n",
       "      <th>actor_2_name</th>\n",
       "      <th>actor_3_name</th>\n",
       "      <th>genres</th>\n",
       "      <th>movie_title</th>\n",
       "    </tr>\n",
       "  </thead>\n",
       "  <tbody>\n",
       "    <tr>\n",
       "      <th>0</th>\n",
       "      <td>James Cameron</td>\n",
       "      <td>CCH Pounder</td>\n",
       "      <td>Joel David Moore</td>\n",
       "      <td>Wes Studi</td>\n",
       "      <td>Action Adventure Fantasy Sci-Fi</td>\n",
       "      <td>avatar</td>\n",
       "    </tr>\n",
       "    <tr>\n",
       "      <th>1</th>\n",
       "      <td>Gore Verbinski</td>\n",
       "      <td>Johnny Depp</td>\n",
       "      <td>Orlando Bloom</td>\n",
       "      <td>Jack Davenport</td>\n",
       "      <td>Action Adventure Fantasy</td>\n",
       "      <td>pirates of the caribbean: at world's end</td>\n",
       "    </tr>\n",
       "    <tr>\n",
       "      <th>2</th>\n",
       "      <td>Sam Mendes</td>\n",
       "      <td>Christoph Waltz</td>\n",
       "      <td>Rory Kinnear</td>\n",
       "      <td>Stephanie Sigman</td>\n",
       "      <td>Action Adventure Thriller</td>\n",
       "      <td>spectre</td>\n",
       "    </tr>\n",
       "    <tr>\n",
       "      <th>3</th>\n",
       "      <td>Christopher Nolan</td>\n",
       "      <td>Tom Hardy</td>\n",
       "      <td>Christian Bale</td>\n",
       "      <td>Joseph Gordon-Levitt</td>\n",
       "      <td>Action Thriller</td>\n",
       "      <td>the dark knight rises</td>\n",
       "    </tr>\n",
       "    <tr>\n",
       "      <th>4</th>\n",
       "      <td>Doug Walker</td>\n",
       "      <td>Doug Walker</td>\n",
       "      <td>Rob Walker</td>\n",
       "      <td>unknown</td>\n",
       "      <td>Documentary</td>\n",
       "      <td>star wars: episode vii - the force awakens    ...</td>\n",
       "    </tr>\n",
       "  </tbody>\n",
       "</table>\n",
       "</div>"
      ],
      "text/plain": [
       "       director_name     actor_1_name      actor_2_name          actor_3_name  \\\n",
       "0      James Cameron      CCH Pounder  Joel David Moore             Wes Studi   \n",
       "1     Gore Verbinski      Johnny Depp     Orlando Bloom        Jack Davenport   \n",
       "2         Sam Mendes  Christoph Waltz      Rory Kinnear      Stephanie Sigman   \n",
       "3  Christopher Nolan        Tom Hardy    Christian Bale  Joseph Gordon-Levitt   \n",
       "4        Doug Walker      Doug Walker        Rob Walker               unknown   \n",
       "\n",
       "                            genres  \\\n",
       "0  Action Adventure Fantasy Sci-Fi   \n",
       "1         Action Adventure Fantasy   \n",
       "2        Action Adventure Thriller   \n",
       "3                  Action Thriller   \n",
       "4                      Documentary   \n",
       "\n",
       "                                         movie_title  \n",
       "0                                             avatar  \n",
       "1           pirates of the caribbean: at world's end  \n",
       "2                                            spectre  \n",
       "3                              the dark knight rises  \n",
       "4  star wars: episode vii - the force awakens    ...  "
      ]
     },
     "execution_count": 19,
     "metadata": {},
     "output_type": "execute_result"
    }
   ],
   "source": [
    "data.head()           # movies present only till 2016"
   ]
  },
  {
   "cell_type": "code",
   "execution_count": 20,
   "metadata": {},
   "outputs": [],
   "source": [
    "# lets create a new column 'Combinations' with entire information \n",
    "data['Combinations']=data['actor_1_name']+', '+data['actor_2_name']+', '+data['actor_3_name']+', '+data['director_name']+', '+data['genres']"
   ]
  },
  {
   "cell_type": "code",
   "execution_count": 21,
   "metadata": {},
   "outputs": [
    {
     "data": {
      "text/html": [
       "<div>\n",
       "<style scoped>\n",
       "    .dataframe tbody tr th:only-of-type {\n",
       "        vertical-align: middle;\n",
       "    }\n",
       "\n",
       "    .dataframe tbody tr th {\n",
       "        vertical-align: top;\n",
       "    }\n",
       "\n",
       "    .dataframe thead th {\n",
       "        text-align: right;\n",
       "    }\n",
       "</style>\n",
       "<table border=\"1\" class=\"dataframe\">\n",
       "  <thead>\n",
       "    <tr style=\"text-align: right;\">\n",
       "      <th></th>\n",
       "      <th>director_name</th>\n",
       "      <th>actor_1_name</th>\n",
       "      <th>actor_2_name</th>\n",
       "      <th>actor_3_name</th>\n",
       "      <th>genres</th>\n",
       "      <th>movie_title</th>\n",
       "      <th>Combinations</th>\n",
       "    </tr>\n",
       "  </thead>\n",
       "  <tbody>\n",
       "    <tr>\n",
       "      <th>0</th>\n",
       "      <td>James Cameron</td>\n",
       "      <td>CCH Pounder</td>\n",
       "      <td>Joel David Moore</td>\n",
       "      <td>Wes Studi</td>\n",
       "      <td>Action Adventure Fantasy Sci-Fi</td>\n",
       "      <td>avatar</td>\n",
       "      <td>CCH Pounder, Joel David Moore, Wes Studi, Jame...</td>\n",
       "    </tr>\n",
       "    <tr>\n",
       "      <th>1</th>\n",
       "      <td>Gore Verbinski</td>\n",
       "      <td>Johnny Depp</td>\n",
       "      <td>Orlando Bloom</td>\n",
       "      <td>Jack Davenport</td>\n",
       "      <td>Action Adventure Fantasy</td>\n",
       "      <td>pirates of the caribbean: at world's end</td>\n",
       "      <td>Johnny Depp, Orlando Bloom, Jack Davenport, Go...</td>\n",
       "    </tr>\n",
       "    <tr>\n",
       "      <th>2</th>\n",
       "      <td>Sam Mendes</td>\n",
       "      <td>Christoph Waltz</td>\n",
       "      <td>Rory Kinnear</td>\n",
       "      <td>Stephanie Sigman</td>\n",
       "      <td>Action Adventure Thriller</td>\n",
       "      <td>spectre</td>\n",
       "      <td>Christoph Waltz, Rory Kinnear, Stephanie Sigma...</td>\n",
       "    </tr>\n",
       "    <tr>\n",
       "      <th>3</th>\n",
       "      <td>Christopher Nolan</td>\n",
       "      <td>Tom Hardy</td>\n",
       "      <td>Christian Bale</td>\n",
       "      <td>Joseph Gordon-Levitt</td>\n",
       "      <td>Action Thriller</td>\n",
       "      <td>the dark knight rises</td>\n",
       "      <td>Tom Hardy, Christian Bale, Joseph Gordon-Levit...</td>\n",
       "    </tr>\n",
       "    <tr>\n",
       "      <th>4</th>\n",
       "      <td>Doug Walker</td>\n",
       "      <td>Doug Walker</td>\n",
       "      <td>Rob Walker</td>\n",
       "      <td>unknown</td>\n",
       "      <td>Documentary</td>\n",
       "      <td>star wars: episode vii - the force awakens    ...</td>\n",
       "      <td>Doug Walker, Rob Walker, unknown, Doug Walker,...</td>\n",
       "    </tr>\n",
       "  </tbody>\n",
       "</table>\n",
       "</div>"
      ],
      "text/plain": [
       "       director_name     actor_1_name      actor_2_name          actor_3_name  \\\n",
       "0      James Cameron      CCH Pounder  Joel David Moore             Wes Studi   \n",
       "1     Gore Verbinski      Johnny Depp     Orlando Bloom        Jack Davenport   \n",
       "2         Sam Mendes  Christoph Waltz      Rory Kinnear      Stephanie Sigman   \n",
       "3  Christopher Nolan        Tom Hardy    Christian Bale  Joseph Gordon-Levitt   \n",
       "4        Doug Walker      Doug Walker        Rob Walker               unknown   \n",
       "\n",
       "                            genres  \\\n",
       "0  Action Adventure Fantasy Sci-Fi   \n",
       "1         Action Adventure Fantasy   \n",
       "2        Action Adventure Thriller   \n",
       "3                  Action Thriller   \n",
       "4                      Documentary   \n",
       "\n",
       "                                         movie_title  \\\n",
       "0                                             avatar   \n",
       "1           pirates of the caribbean: at world's end   \n",
       "2                                            spectre   \n",
       "3                              the dark knight rises   \n",
       "4  star wars: episode vii - the force awakens    ...   \n",
       "\n",
       "                                        Combinations  \n",
       "0  CCH Pounder, Joel David Moore, Wes Studi, Jame...  \n",
       "1  Johnny Depp, Orlando Bloom, Jack Davenport, Go...  \n",
       "2  Christoph Waltz, Rory Kinnear, Stephanie Sigma...  \n",
       "3  Tom Hardy, Christian Bale, Joseph Gordon-Levit...  \n",
       "4  Doug Walker, Rob Walker, unknown, Doug Walker,...  "
      ]
     },
     "execution_count": 21,
     "metadata": {},
     "output_type": "execute_result"
    }
   ],
   "source": [
    "data.head()"
   ]
  },
  {
   "cell_type": "code",
   "execution_count": 22,
   "metadata": {},
   "outputs": [],
   "source": [
    "data.to_csv('D:\\\\Study\\\\Python\\\\scripts\\\\Machine_Learning\\\\Supervised_Model\\\\Movie_Recommendation\\\\MY_Prectice\\\\data.csv', index=False)"
   ]
  },
  {
   "cell_type": "code",
   "execution_count": 23,
   "metadata": {},
   "outputs": [
    {
     "data": {
      "text/plain": [
       "'C:\\\\Users\\\\Dell\\\\Project\\\\Movie_Recommendation'"
      ]
     },
     "execution_count": 23,
     "metadata": {},
     "output_type": "execute_result"
    }
   ],
   "source": [
    "# csv file saved at this location:\n",
    "import os\n",
    "os.getcwd()"
   ]
  },
  {
   "cell_type": "code",
   "execution_count": null,
   "metadata": {},
   "outputs": [],
   "source": []
  },
  {
   "cell_type": "markdown",
   "metadata": {},
   "source": [
    "# importing Credits and Movies_metadata now:"
   ]
  },
  {
   "cell_type": "code",
   "execution_count": 24,
   "metadata": {},
   "outputs": [
    {
     "name": "stderr",
     "output_type": "stream",
     "text": [
      "C:\\Users\\Dell\\Anaconda3\\lib\\site-packages\\IPython\\core\\interactiveshell.py:3147: DtypeWarning: Columns (10) have mixed types.Specify dtype option on import or set low_memory=False.\n",
      "  interactivity=interactivity, compiler=compiler, result=result)\n"
     ]
    }
   ],
   "source": [
    "# data source from kaggle:    \"https://www.kaggle.com/rounakbanik/the-movies-dataset\"\n",
    "credits=pd.read_csv(\"D:\\\\Study\\\\Python\\\\scripts\\\\Machine_Learning\\\\Supervised_Model\\\\Movie_Recommendation\\\\credits.csv\")\n",
    "meta=pd.read_csv(\"D:\\\\Study\\\\Python\\\\scripts\\\\Machine_Learning\\\\Supervised_Model\\\\Movie_Recommendation\\\\movies_metadata.csv\")"
   ]
  },
  {
   "cell_type": "code",
   "execution_count": 25,
   "metadata": {},
   "outputs": [
    {
     "data": {
      "text/html": [
       "<div>\n",
       "<style scoped>\n",
       "    .dataframe tbody tr th:only-of-type {\n",
       "        vertical-align: middle;\n",
       "    }\n",
       "\n",
       "    .dataframe tbody tr th {\n",
       "        vertical-align: top;\n",
       "    }\n",
       "\n",
       "    .dataframe thead th {\n",
       "        text-align: right;\n",
       "    }\n",
       "</style>\n",
       "<table border=\"1\" class=\"dataframe\">\n",
       "  <thead>\n",
       "    <tr style=\"text-align: right;\">\n",
       "      <th></th>\n",
       "      <th>cast</th>\n",
       "      <th>crew</th>\n",
       "      <th>id</th>\n",
       "    </tr>\n",
       "  </thead>\n",
       "  <tbody>\n",
       "    <tr>\n",
       "      <th>0</th>\n",
       "      <td>[{'cast_id': 14, 'character': 'Woody (voice)',...</td>\n",
       "      <td>[{'credit_id': '52fe4284c3a36847f8024f49', 'de...</td>\n",
       "      <td>862</td>\n",
       "    </tr>\n",
       "    <tr>\n",
       "      <th>1</th>\n",
       "      <td>[{'cast_id': 1, 'character': 'Alan Parrish', '...</td>\n",
       "      <td>[{'credit_id': '52fe44bfc3a36847f80a7cd1', 'de...</td>\n",
       "      <td>8844</td>\n",
       "    </tr>\n",
       "    <tr>\n",
       "      <th>2</th>\n",
       "      <td>[{'cast_id': 2, 'character': 'Max Goldman', 'c...</td>\n",
       "      <td>[{'credit_id': '52fe466a9251416c75077a89', 'de...</td>\n",
       "      <td>15602</td>\n",
       "    </tr>\n",
       "    <tr>\n",
       "      <th>3</th>\n",
       "      <td>[{'cast_id': 1, 'character': \"Savannah 'Vannah...</td>\n",
       "      <td>[{'credit_id': '52fe44779251416c91011acb', 'de...</td>\n",
       "      <td>31357</td>\n",
       "    </tr>\n",
       "    <tr>\n",
       "      <th>4</th>\n",
       "      <td>[{'cast_id': 1, 'character': 'George Banks', '...</td>\n",
       "      <td>[{'credit_id': '52fe44959251416c75039ed7', 'de...</td>\n",
       "      <td>11862</td>\n",
       "    </tr>\n",
       "  </tbody>\n",
       "</table>\n",
       "</div>"
      ],
      "text/plain": [
       "                                                cast  \\\n",
       "0  [{'cast_id': 14, 'character': 'Woody (voice)',...   \n",
       "1  [{'cast_id': 1, 'character': 'Alan Parrish', '...   \n",
       "2  [{'cast_id': 2, 'character': 'Max Goldman', 'c...   \n",
       "3  [{'cast_id': 1, 'character': \"Savannah 'Vannah...   \n",
       "4  [{'cast_id': 1, 'character': 'George Banks', '...   \n",
       "\n",
       "                                                crew     id  \n",
       "0  [{'credit_id': '52fe4284c3a36847f8024f49', 'de...    862  \n",
       "1  [{'credit_id': '52fe44bfc3a36847f80a7cd1', 'de...   8844  \n",
       "2  [{'credit_id': '52fe466a9251416c75077a89', 'de...  15602  \n",
       "3  [{'credit_id': '52fe44779251416c91011acb', 'de...  31357  \n",
       "4  [{'credit_id': '52fe44959251416c75039ed7', 'de...  11862  "
      ]
     },
     "execution_count": 25,
     "metadata": {},
     "output_type": "execute_result"
    }
   ],
   "source": [
    "credits.head()"
   ]
  },
  {
   "cell_type": "code",
   "execution_count": 26,
   "metadata": {},
   "outputs": [
    {
     "name": "stdout",
     "output_type": "stream",
     "text": [
      "Index(['cast', 'crew', 'id'], dtype='object') (45476, 3)\n"
     ]
    }
   ],
   "source": [
    "print(credits.columns,credits.shape)"
   ]
  },
  {
   "cell_type": "code",
   "execution_count": 27,
   "metadata": {},
   "outputs": [
    {
     "data": {
      "text/html": [
       "<div>\n",
       "<style scoped>\n",
       "    .dataframe tbody tr th:only-of-type {\n",
       "        vertical-align: middle;\n",
       "    }\n",
       "\n",
       "    .dataframe tbody tr th {\n",
       "        vertical-align: top;\n",
       "    }\n",
       "\n",
       "    .dataframe thead th {\n",
       "        text-align: right;\n",
       "    }\n",
       "</style>\n",
       "<table border=\"1\" class=\"dataframe\">\n",
       "  <thead>\n",
       "    <tr style=\"text-align: right;\">\n",
       "      <th></th>\n",
       "      <th>adult</th>\n",
       "      <th>belongs_to_collection</th>\n",
       "      <th>budget</th>\n",
       "      <th>genres</th>\n",
       "      <th>homepage</th>\n",
       "      <th>id</th>\n",
       "      <th>imdb_id</th>\n",
       "      <th>original_language</th>\n",
       "      <th>original_title</th>\n",
       "      <th>overview</th>\n",
       "      <th>...</th>\n",
       "      <th>release_date</th>\n",
       "      <th>revenue</th>\n",
       "      <th>runtime</th>\n",
       "      <th>spoken_languages</th>\n",
       "      <th>status</th>\n",
       "      <th>tagline</th>\n",
       "      <th>title</th>\n",
       "      <th>video</th>\n",
       "      <th>vote_average</th>\n",
       "      <th>vote_count</th>\n",
       "    </tr>\n",
       "  </thead>\n",
       "  <tbody>\n",
       "    <tr>\n",
       "      <th>0</th>\n",
       "      <td>False</td>\n",
       "      <td>{'id': 10194, 'name': 'Toy Story Collection', ...</td>\n",
       "      <td>30000000</td>\n",
       "      <td>[{'id': 16, 'name': 'Animation'}, {'id': 35, '...</td>\n",
       "      <td>http://toystory.disney.com/toy-story</td>\n",
       "      <td>862</td>\n",
       "      <td>tt0114709</td>\n",
       "      <td>en</td>\n",
       "      <td>Toy Story</td>\n",
       "      <td>Led by Woody, Andy's toys live happily in his ...</td>\n",
       "      <td>...</td>\n",
       "      <td>1995-10-30</td>\n",
       "      <td>373554033.0</td>\n",
       "      <td>81.0</td>\n",
       "      <td>[{'iso_639_1': 'en', 'name': 'English'}]</td>\n",
       "      <td>Released</td>\n",
       "      <td>NaN</td>\n",
       "      <td>Toy Story</td>\n",
       "      <td>False</td>\n",
       "      <td>7.7</td>\n",
       "      <td>5415.0</td>\n",
       "    </tr>\n",
       "    <tr>\n",
       "      <th>1</th>\n",
       "      <td>False</td>\n",
       "      <td>NaN</td>\n",
       "      <td>65000000</td>\n",
       "      <td>[{'id': 12, 'name': 'Adventure'}, {'id': 14, '...</td>\n",
       "      <td>NaN</td>\n",
       "      <td>8844</td>\n",
       "      <td>tt0113497</td>\n",
       "      <td>en</td>\n",
       "      <td>Jumanji</td>\n",
       "      <td>When siblings Judy and Peter discover an encha...</td>\n",
       "      <td>...</td>\n",
       "      <td>1995-12-15</td>\n",
       "      <td>262797249.0</td>\n",
       "      <td>104.0</td>\n",
       "      <td>[{'iso_639_1': 'en', 'name': 'English'}, {'iso...</td>\n",
       "      <td>Released</td>\n",
       "      <td>Roll the dice and unleash the excitement!</td>\n",
       "      <td>Jumanji</td>\n",
       "      <td>False</td>\n",
       "      <td>6.9</td>\n",
       "      <td>2413.0</td>\n",
       "    </tr>\n",
       "    <tr>\n",
       "      <th>2</th>\n",
       "      <td>False</td>\n",
       "      <td>{'id': 119050, 'name': 'Grumpy Old Men Collect...</td>\n",
       "      <td>0</td>\n",
       "      <td>[{'id': 10749, 'name': 'Romance'}, {'id': 35, ...</td>\n",
       "      <td>NaN</td>\n",
       "      <td>15602</td>\n",
       "      <td>tt0113228</td>\n",
       "      <td>en</td>\n",
       "      <td>Grumpier Old Men</td>\n",
       "      <td>A family wedding reignites the ancient feud be...</td>\n",
       "      <td>...</td>\n",
       "      <td>1995-12-22</td>\n",
       "      <td>0.0</td>\n",
       "      <td>101.0</td>\n",
       "      <td>[{'iso_639_1': 'en', 'name': 'English'}]</td>\n",
       "      <td>Released</td>\n",
       "      <td>Still Yelling. Still Fighting. Still Ready for...</td>\n",
       "      <td>Grumpier Old Men</td>\n",
       "      <td>False</td>\n",
       "      <td>6.5</td>\n",
       "      <td>92.0</td>\n",
       "    </tr>\n",
       "  </tbody>\n",
       "</table>\n",
       "<p>3 rows × 24 columns</p>\n",
       "</div>"
      ],
      "text/plain": [
       "   adult                              belongs_to_collection    budget  \\\n",
       "0  False  {'id': 10194, 'name': 'Toy Story Collection', ...  30000000   \n",
       "1  False                                                NaN  65000000   \n",
       "2  False  {'id': 119050, 'name': 'Grumpy Old Men Collect...         0   \n",
       "\n",
       "                                              genres  \\\n",
       "0  [{'id': 16, 'name': 'Animation'}, {'id': 35, '...   \n",
       "1  [{'id': 12, 'name': 'Adventure'}, {'id': 14, '...   \n",
       "2  [{'id': 10749, 'name': 'Romance'}, {'id': 35, ...   \n",
       "\n",
       "                               homepage     id    imdb_id original_language  \\\n",
       "0  http://toystory.disney.com/toy-story    862  tt0114709                en   \n",
       "1                                   NaN   8844  tt0113497                en   \n",
       "2                                   NaN  15602  tt0113228                en   \n",
       "\n",
       "     original_title                                           overview  ...  \\\n",
       "0         Toy Story  Led by Woody, Andy's toys live happily in his ...  ...   \n",
       "1           Jumanji  When siblings Judy and Peter discover an encha...  ...   \n",
       "2  Grumpier Old Men  A family wedding reignites the ancient feud be...  ...   \n",
       "\n",
       "  release_date      revenue runtime  \\\n",
       "0   1995-10-30  373554033.0    81.0   \n",
       "1   1995-12-15  262797249.0   104.0   \n",
       "2   1995-12-22          0.0   101.0   \n",
       "\n",
       "                                    spoken_languages    status  \\\n",
       "0           [{'iso_639_1': 'en', 'name': 'English'}]  Released   \n",
       "1  [{'iso_639_1': 'en', 'name': 'English'}, {'iso...  Released   \n",
       "2           [{'iso_639_1': 'en', 'name': 'English'}]  Released   \n",
       "\n",
       "                                             tagline             title  video  \\\n",
       "0                                                NaN         Toy Story  False   \n",
       "1          Roll the dice and unleash the excitement!           Jumanji  False   \n",
       "2  Still Yelling. Still Fighting. Still Ready for...  Grumpier Old Men  False   \n",
       "\n",
       "  vote_average vote_count  \n",
       "0          7.7     5415.0  \n",
       "1          6.9     2413.0  \n",
       "2          6.5       92.0  \n",
       "\n",
       "[3 rows x 24 columns]"
      ]
     },
     "execution_count": 27,
     "metadata": {},
     "output_type": "execute_result"
    }
   ],
   "source": [
    "meta.head(3)"
   ]
  },
  {
   "cell_type": "code",
   "execution_count": 28,
   "metadata": {},
   "outputs": [
    {
     "name": "stdout",
     "output_type": "stream",
     "text": [
      "Index(['adult', 'belongs_to_collection', 'budget', 'genres', 'homepage', 'id',\n",
      "       'imdb_id', 'original_language', 'original_title', 'overview',\n",
      "       'popularity', 'poster_path', 'production_companies',\n",
      "       'production_countries', 'release_date', 'revenue', 'runtime',\n",
      "       'spoken_languages', 'status', 'tagline', 'title', 'video',\n",
      "       'vote_average', 'vote_count'],\n",
      "      dtype='object') (45466, 24)\n"
     ]
    }
   ],
   "source": [
    "print(meta.columns, meta.shape)"
   ]
  },
  {
   "cell_type": "markdown",
   "metadata": {},
   "source": [
    "# From both these datasets we need to collect same features as first data.csv file we previosly created: so lets take meta dataset first:"
   ]
  },
  {
   "cell_type": "code",
   "execution_count": 29,
   "metadata": {},
   "outputs": [],
   "source": [
    "# we need take above data than year 2016:\n",
    "meta['release_date']=pd.to_datetime(meta['release_date'], errors='coerce')\n",
    "# errors='coerce' to convert unparsable data to NaT (not a time), errors='raise/ignore/coerce':"
   ]
  },
  {
   "cell_type": "code",
   "execution_count": 30,
   "metadata": {},
   "outputs": [],
   "source": [
    "#adding new column 'year' as we need above 2016 movies\n",
    "meta['year']=meta['release_date'].dt.year"
   ]
  },
  {
   "cell_type": "code",
   "execution_count": 31,
   "metadata": {},
   "outputs": [
    {
     "data": {
      "text/plain": [
       "1874.0       1\n",
       "1878.0       1\n",
       "1883.0       1\n",
       "1887.0       1\n",
       "1888.0       2\n",
       "          ... \n",
       "2015.0    1905\n",
       "2016.0    1604\n",
       "2017.0     532\n",
       "2018.0       5\n",
       "2020.0       1\n",
       "Name: year, Length: 135, dtype: int64"
      ]
     },
     "execution_count": 31,
     "metadata": {},
     "output_type": "execute_result"
    }
   ],
   "source": [
    "meta['year'].value_counts().sort_index()     # only few movies for 2018 and 2020 so we need to get this data from website."
   ]
  },
  {
   "cell_type": "code",
   "execution_count": 32,
   "metadata": {},
   "outputs": [],
   "source": [
    "# Now lets take only 2017 released moveies data from here. \n",
    "new_meta=meta.loc[meta.year==2017,['genres','id','title','year']]"
   ]
  },
  {
   "cell_type": "code",
   "execution_count": 33,
   "metadata": {},
   "outputs": [
    {
     "data": {
      "text/html": [
       "<div>\n",
       "<style scoped>\n",
       "    .dataframe tbody tr th:only-of-type {\n",
       "        vertical-align: middle;\n",
       "    }\n",
       "\n",
       "    .dataframe tbody tr th {\n",
       "        vertical-align: top;\n",
       "    }\n",
       "\n",
       "    .dataframe thead th {\n",
       "        text-align: right;\n",
       "    }\n",
       "</style>\n",
       "<table border=\"1\" class=\"dataframe\">\n",
       "  <thead>\n",
       "    <tr style=\"text-align: right;\">\n",
       "      <th></th>\n",
       "      <th>genres</th>\n",
       "      <th>id</th>\n",
       "      <th>title</th>\n",
       "      <th>year</th>\n",
       "    </tr>\n",
       "  </thead>\n",
       "  <tbody>\n",
       "    <tr>\n",
       "      <th>26560</th>\n",
       "      <td>[{'id': 12, 'name': 'Adventure'}, {'id': 28, '...</td>\n",
       "      <td>166426</td>\n",
       "      <td>Pirates of the Caribbean: Dead Men Tell No Tales</td>\n",
       "      <td>2017.0</td>\n",
       "    </tr>\n",
       "    <tr>\n",
       "      <th>26561</th>\n",
       "      <td>[{'id': 28, 'name': 'Action'}, {'id': 12, 'nam...</td>\n",
       "      <td>141052</td>\n",
       "      <td>Justice League</td>\n",
       "      <td>2017.0</td>\n",
       "    </tr>\n",
       "    <tr>\n",
       "      <th>26565</th>\n",
       "      <td>[{'id': 28, 'name': 'Action'}, {'id': 12, 'nam...</td>\n",
       "      <td>284053</td>\n",
       "      <td>Thor: Ragnarok</td>\n",
       "      <td>2017.0</td>\n",
       "    </tr>\n",
       "    <tr>\n",
       "      <th>26566</th>\n",
       "      <td>[{'id': 28, 'name': 'Action'}, {'id': 12, 'nam...</td>\n",
       "      <td>283995</td>\n",
       "      <td>Guardians of the Galaxy Vol. 2</td>\n",
       "      <td>2017.0</td>\n",
       "    </tr>\n",
       "    <tr>\n",
       "      <th>30536</th>\n",
       "      <td>[{'id': 14, 'name': 'Fantasy'}, {'id': 28, 'na...</td>\n",
       "      <td>245842</td>\n",
       "      <td>The King's Daughter</td>\n",
       "      <td>2017.0</td>\n",
       "    </tr>\n",
       "  </tbody>\n",
       "</table>\n",
       "</div>"
      ],
      "text/plain": [
       "                                                  genres      id  \\\n",
       "26560  [{'id': 12, 'name': 'Adventure'}, {'id': 28, '...  166426   \n",
       "26561  [{'id': 28, 'name': 'Action'}, {'id': 12, 'nam...  141052   \n",
       "26565  [{'id': 28, 'name': 'Action'}, {'id': 12, 'nam...  284053   \n",
       "26566  [{'id': 28, 'name': 'Action'}, {'id': 12, 'nam...  283995   \n",
       "30536  [{'id': 14, 'name': 'Fantasy'}, {'id': 28, 'na...  245842   \n",
       "\n",
       "                                                  title    year  \n",
       "26560  Pirates of the Caribbean: Dead Men Tell No Tales  2017.0  \n",
       "26561                                    Justice League  2017.0  \n",
       "26565                                    Thor: Ragnarok  2017.0  \n",
       "26566                    Guardians of the Galaxy Vol. 2  2017.0  \n",
       "30536                               The King's Daughter  2017.0  "
      ]
     },
     "execution_count": 33,
     "metadata": {},
     "output_type": "execute_result"
    }
   ],
   "source": [
    "new_meta.head()"
   ]
  },
  {
   "cell_type": "code",
   "execution_count": 34,
   "metadata": {},
   "outputs": [],
   "source": [
    "new_meta['id']=new_meta['id'].astype(int)"
   ]
  },
  {
   "cell_type": "code",
   "execution_count": 35,
   "metadata": {},
   "outputs": [],
   "source": [
    "# lets merge the new_meta with credits data on the basis of 'id':\n",
    "data_1=pd.merge(new_meta,credits, on='id')"
   ]
  },
  {
   "cell_type": "code",
   "execution_count": 36,
   "metadata": {},
   "outputs": [
    {
     "data": {
      "text/html": [
       "<div>\n",
       "<style scoped>\n",
       "    .dataframe tbody tr th:only-of-type {\n",
       "        vertical-align: middle;\n",
       "    }\n",
       "\n",
       "    .dataframe tbody tr th {\n",
       "        vertical-align: top;\n",
       "    }\n",
       "\n",
       "    .dataframe thead th {\n",
       "        text-align: right;\n",
       "    }\n",
       "</style>\n",
       "<table border=\"1\" class=\"dataframe\">\n",
       "  <thead>\n",
       "    <tr style=\"text-align: right;\">\n",
       "      <th></th>\n",
       "      <th>genres</th>\n",
       "      <th>id</th>\n",
       "      <th>title</th>\n",
       "      <th>year</th>\n",
       "      <th>cast</th>\n",
       "      <th>crew</th>\n",
       "    </tr>\n",
       "  </thead>\n",
       "  <tbody>\n",
       "    <tr>\n",
       "      <th>0</th>\n",
       "      <td>[{'id': 12, 'name': 'Adventure'}, {'id': 28, 'name': 'Action'}, {'id': 14, 'name': 'Fantasy...</td>\n",
       "      <td>166426</td>\n",
       "      <td>Pirates of the Caribbean: Dead Men Tell No Tales</td>\n",
       "      <td>2017.0</td>\n",
       "      <td>[{'cast_id': 1, 'character': 'Captain Jack Sparrow', 'credit_id': '52fe4c9cc3a36847f8236a53...</td>\n",
       "      <td>[{'credit_id': '52fe4c9cc3a36847f8236a65', 'department': 'Production', 'gender': 2, 'id': 7...</td>\n",
       "    </tr>\n",
       "    <tr>\n",
       "      <th>1</th>\n",
       "      <td>[{'id': 28, 'name': 'Action'}, {'id': 12, 'name': 'Adventure'}, {'id': 14, 'name': 'Fantasy...</td>\n",
       "      <td>141052</td>\n",
       "      <td>Justice League</td>\n",
       "      <td>2017.0</td>\n",
       "      <td>[{'cast_id': 2, 'character': 'Bruce Wayne / Batman', 'credit_id': '535e68db0e0a264fe10065f5...</td>\n",
       "      <td>[{'credit_id': '55ef66dbc3a3686f1700a52d', 'department': 'Production', 'gender': 0, 'id': 2...</td>\n",
       "    </tr>\n",
       "    <tr>\n",
       "      <th>2</th>\n",
       "      <td>[{'id': 28, 'name': 'Action'}, {'id': 12, 'name': 'Adventure'}, {'id': 14, 'name': 'Fantasy...</td>\n",
       "      <td>284053</td>\n",
       "      <td>Thor: Ragnarok</td>\n",
       "      <td>2017.0</td>\n",
       "      <td>[{'cast_id': 0, 'character': 'Thor Odinson', 'credit_id': '545d46a80e0a261fb3004e81', 'gend...</td>\n",
       "      <td>[{'credit_id': '56a93fa4c3a36872db001e7a', 'department': 'Writing', 'gender': 2, 'id': 1056...</td>\n",
       "    </tr>\n",
       "  </tbody>\n",
       "</table>\n",
       "</div>"
      ],
      "text/plain": [
       "                                                                                           genres  \\\n",
       "0  [{'id': 12, 'name': 'Adventure'}, {'id': 28, 'name': 'Action'}, {'id': 14, 'name': 'Fantasy...   \n",
       "1  [{'id': 28, 'name': 'Action'}, {'id': 12, 'name': 'Adventure'}, {'id': 14, 'name': 'Fantasy...   \n",
       "2  [{'id': 28, 'name': 'Action'}, {'id': 12, 'name': 'Adventure'}, {'id': 14, 'name': 'Fantasy...   \n",
       "\n",
       "       id                                             title    year  \\\n",
       "0  166426  Pirates of the Caribbean: Dead Men Tell No Tales  2017.0   \n",
       "1  141052                                    Justice League  2017.0   \n",
       "2  284053                                    Thor: Ragnarok  2017.0   \n",
       "\n",
       "                                                                                             cast  \\\n",
       "0  [{'cast_id': 1, 'character': 'Captain Jack Sparrow', 'credit_id': '52fe4c9cc3a36847f8236a53...   \n",
       "1  [{'cast_id': 2, 'character': 'Bruce Wayne / Batman', 'credit_id': '535e68db0e0a264fe10065f5...   \n",
       "2  [{'cast_id': 0, 'character': 'Thor Odinson', 'credit_id': '545d46a80e0a261fb3004e81', 'gend...   \n",
       "\n",
       "                                                                                             crew  \n",
       "0  [{'credit_id': '52fe4c9cc3a36847f8236a65', 'department': 'Production', 'gender': 2, 'id': 7...  \n",
       "1  [{'credit_id': '55ef66dbc3a3686f1700a52d', 'department': 'Production', 'gender': 0, 'id': 2...  \n",
       "2  [{'credit_id': '56a93fa4c3a36872db001e7a', 'department': 'Writing', 'gender': 2, 'id': 1056...  "
      ]
     },
     "execution_count": 36,
     "metadata": {},
     "output_type": "execute_result"
    }
   ],
   "source": [
    "pd.set_option('display.max_colwidth',95)   # it increase the width of columns\n",
    "data_1.head(3)"
   ]
  },
  {
   "cell_type": "code",
   "execution_count": 37,
   "metadata": {},
   "outputs": [
    {
     "data": {
      "text/plain": [
       "dtype('O')"
      ]
     },
     "execution_count": 37,
     "metadata": {},
     "output_type": "execute_result"
    }
   ],
   "source": [
    "data_1['genres'].dtype            #its object or string in dict form, its a list of dict elements, dict in key and pair forms:"
   ]
  },
  {
   "cell_type": "code",
   "execution_count": 38,
   "metadata": {},
   "outputs": [],
   "source": [
    "# lets import the ast library and convert string into list:\n",
    "import ast\n",
    "data_1['genres']=data_1['genres'].map(lambda y: ast.literal_eval(y))     #convert string(generes) into list from genres.\n",
    "data_1['cast']=data_1['cast'].map(lambda y: ast.literal_eval(y))        # convert actors name from string to list.\n",
    "data_1['crew']=data_1['crew'].map(lambda y: ast.literal_eval(y))        # convert directors name from string to list."
   ]
  },
  {
   "cell_type": "code",
   "execution_count": 39,
   "metadata": {},
   "outputs": [
    {
     "data": {
      "text/html": [
       "<div>\n",
       "<style scoped>\n",
       "    .dataframe tbody tr th:only-of-type {\n",
       "        vertical-align: middle;\n",
       "    }\n",
       "\n",
       "    .dataframe tbody tr th {\n",
       "        vertical-align: top;\n",
       "    }\n",
       "\n",
       "    .dataframe thead th {\n",
       "        text-align: right;\n",
       "    }\n",
       "</style>\n",
       "<table border=\"1\" class=\"dataframe\">\n",
       "  <thead>\n",
       "    <tr style=\"text-align: right;\">\n",
       "      <th></th>\n",
       "      <th>genres</th>\n",
       "      <th>id</th>\n",
       "      <th>title</th>\n",
       "      <th>year</th>\n",
       "      <th>cast</th>\n",
       "      <th>crew</th>\n",
       "    </tr>\n",
       "  </thead>\n",
       "  <tbody>\n",
       "    <tr>\n",
       "      <th>0</th>\n",
       "      <td>[{'id': 12, 'name': 'Adventure'}, {'id': 28, 'name': 'Action'}, {'id': 14, 'name': 'Fantasy...</td>\n",
       "      <td>166426</td>\n",
       "      <td>Pirates of the Caribbean: Dead Men Tell No Tales</td>\n",
       "      <td>2017.0</td>\n",
       "      <td>[{'cast_id': 1, 'character': 'Captain Jack Sparrow', 'credit_id': '52fe4c9cc3a36847f8236a53...</td>\n",
       "      <td>[{'credit_id': '52fe4c9cc3a36847f8236a65', 'department': 'Production', 'gender': 2, 'id': 7...</td>\n",
       "    </tr>\n",
       "    <tr>\n",
       "      <th>1</th>\n",
       "      <td>[{'id': 28, 'name': 'Action'}, {'id': 12, 'name': 'Adventure'}, {'id': 14, 'name': 'Fantasy...</td>\n",
       "      <td>141052</td>\n",
       "      <td>Justice League</td>\n",
       "      <td>2017.0</td>\n",
       "      <td>[{'cast_id': 2, 'character': 'Bruce Wayne / Batman', 'credit_id': '535e68db0e0a264fe10065f5...</td>\n",
       "      <td>[{'credit_id': '55ef66dbc3a3686f1700a52d', 'department': 'Production', 'gender': 0, 'id': 2...</td>\n",
       "    </tr>\n",
       "    <tr>\n",
       "      <th>2</th>\n",
       "      <td>[{'id': 28, 'name': 'Action'}, {'id': 12, 'name': 'Adventure'}, {'id': 14, 'name': 'Fantasy...</td>\n",
       "      <td>284053</td>\n",
       "      <td>Thor: Ragnarok</td>\n",
       "      <td>2017.0</td>\n",
       "      <td>[{'cast_id': 0, 'character': 'Thor Odinson', 'credit_id': '545d46a80e0a261fb3004e81', 'gend...</td>\n",
       "      <td>[{'credit_id': '56a93fa4c3a36872db001e7a', 'department': 'Writing', 'gender': 2, 'id': 1056...</td>\n",
       "    </tr>\n",
       "  </tbody>\n",
       "</table>\n",
       "</div>"
      ],
      "text/plain": [
       "                                                                                           genres  \\\n",
       "0  [{'id': 12, 'name': 'Adventure'}, {'id': 28, 'name': 'Action'}, {'id': 14, 'name': 'Fantasy...   \n",
       "1  [{'id': 28, 'name': 'Action'}, {'id': 12, 'name': 'Adventure'}, {'id': 14, 'name': 'Fantasy...   \n",
       "2  [{'id': 28, 'name': 'Action'}, {'id': 12, 'name': 'Adventure'}, {'id': 14, 'name': 'Fantasy...   \n",
       "\n",
       "       id                                             title    year  \\\n",
       "0  166426  Pirates of the Caribbean: Dead Men Tell No Tales  2017.0   \n",
       "1  141052                                    Justice League  2017.0   \n",
       "2  284053                                    Thor: Ragnarok  2017.0   \n",
       "\n",
       "                                                                                             cast  \\\n",
       "0  [{'cast_id': 1, 'character': 'Captain Jack Sparrow', 'credit_id': '52fe4c9cc3a36847f8236a53...   \n",
       "1  [{'cast_id': 2, 'character': 'Bruce Wayne / Batman', 'credit_id': '535e68db0e0a264fe10065f5...   \n",
       "2  [{'cast_id': 0, 'character': 'Thor Odinson', 'credit_id': '545d46a80e0a261fb3004e81', 'gend...   \n",
       "\n",
       "                                                                                             crew  \n",
       "0  [{'credit_id': '52fe4c9cc3a36847f8236a65', 'department': 'Production', 'gender': 2, 'id': 7...  \n",
       "1  [{'credit_id': '55ef66dbc3a3686f1700a52d', 'department': 'Production', 'gender': 0, 'id': 2...  \n",
       "2  [{'credit_id': '56a93fa4c3a36872db001e7a', 'department': 'Writing', 'gender': 2, 'id': 1056...  "
      ]
     },
     "execution_count": 39,
     "metadata": {},
     "output_type": "execute_result"
    }
   ],
   "source": [
    "data_1.head(3)"
   ]
  },
  {
   "cell_type": "code",
   "execution_count": 40,
   "metadata": {},
   "outputs": [
    {
     "data": {
      "text/plain": [
       "dtype('O')"
      ]
     },
     "execution_count": 40,
     "metadata": {},
     "output_type": "execute_result"
    }
   ],
   "source": [
    "data_1['genres'].dtype"
   ]
  },
  {
   "cell_type": "code",
   "execution_count": 41,
   "metadata": {},
   "outputs": [],
   "source": [
    "# lets make a function to collect all genres from a columns genres:\n",
    "def make_genresList(x):\n",
    "    gen=[]\n",
    "    st=' '\n",
    "    for i in x:                                     # for loop in list to iterate a dict:\n",
    "        if i.get('name') =='Science Fiction':       # condition in dict: i.get('key/value/pair')\n",
    "            scifi ='Sci-Fi'\n",
    "            gen.append(scifi)\n",
    "        else:\n",
    "            gen.append(i.get('name'))\n",
    "    if gen==[]:\n",
    "        return np.NaN\n",
    "    else:\n",
    "        return st.join(gen)"
   ]
  },
  {
   "cell_type": "code",
   "execution_count": 42,
   "metadata": {},
   "outputs": [],
   "source": [
    "# added a new column 'genres_list' by mapping 'make_genresList' function to entire values of genres feature:\n",
    "data_1['genres_list']=data_1['genres'].map(lambda x: make_genresList(x))"
   ]
  },
  {
   "cell_type": "code",
   "execution_count": 43,
   "metadata": {},
   "outputs": [
    {
     "data": {
      "text/plain": [
       "0      Adventure Action Fantasy Comedy\n",
       "1      Action Adventure Fantasy Sci-Fi\n",
       "2      Action Adventure Fantasy Sci-Fi\n",
       "3       Action Adventure Comedy Sci-Fi\n",
       "4             Fantasy Action Adventure\n",
       "                    ...               \n",
       "526                     Romance Comedy\n",
       "527         Crime Comedy Action Family\n",
       "528    Family Animation Romance Comedy\n",
       "529               Crime Drama Thriller\n",
       "530                                NaN\n",
       "Name: genres_list, Length: 531, dtype: object"
      ]
     },
     "execution_count": 43,
     "metadata": {},
     "output_type": "execute_result"
    }
   ],
   "source": [
    "data_1['genres_list']"
   ]
  },
  {
   "cell_type": "code",
   "execution_count": 44,
   "metadata": {},
   "outputs": [],
   "source": [
    "# Now from cast feature, we need to fetch actors infomration, so lets make a function to collect first actor name:\n",
    "def get_actor_1(x):\n",
    "    act=[]\n",
    "    for i in x:\n",
    "        act.append(i.get('name'))     # getting only values by key from dict:\n",
    "    if act==[]:\n",
    "        return np.NaN\n",
    "    else:\n",
    "        return (act[0])    # taking only first actor name"
   ]
  },
  {
   "cell_type": "code",
   "execution_count": 45,
   "metadata": {},
   "outputs": [],
   "source": [
    "# Added a new column 'actor_1_name' by mapping 'get_actor_1' function to entire values of cast feature:\n",
    "data_1['actor_1_name']=data_1['cast'].map(lambda x: get_actor_1(x))"
   ]
  },
  {
   "cell_type": "code",
   "execution_count": 46,
   "metadata": {},
   "outputs": [],
   "source": [
    "# similary getting 2nd and 3rd actor name:\n",
    "def get_actor_2(x):\n",
    "    act=[]\n",
    "    for i in x:\n",
    "        act.append(i.get('name'))\n",
    "    if act==[] or len(act)<=1:\n",
    "        return np.NaN\n",
    "    else:\n",
    "        return (act[1])    # getting 2nd actor name"
   ]
  },
  {
   "cell_type": "code",
   "execution_count": 47,
   "metadata": {},
   "outputs": [],
   "source": [
    "data_1['actor_2_name']=data_1['cast'].map(lambda x: get_actor_2(x))"
   ]
  },
  {
   "cell_type": "code",
   "execution_count": 48,
   "metadata": {},
   "outputs": [],
   "source": [
    "def get_actor_3(x):\n",
    "    act=[]\n",
    "    for i in x:\n",
    "        act.append(i.get('name'))\n",
    "    if act==[] or len(act)<=2:\n",
    "        return np.NaN\n",
    "    else:\n",
    "        return (act[2])     # getting 3rd actor name"
   ]
  },
  {
   "cell_type": "code",
   "execution_count": 49,
   "metadata": {},
   "outputs": [],
   "source": [
    "data_1['actor_3_name']=data_1['cast'].map(lambda x: get_actor_3(x))"
   ]
  },
  {
   "cell_type": "code",
   "execution_count": 50,
   "metadata": {},
   "outputs": [
    {
     "data": {
      "text/html": [
       "<div>\n",
       "<style scoped>\n",
       "    .dataframe tbody tr th:only-of-type {\n",
       "        vertical-align: middle;\n",
       "    }\n",
       "\n",
       "    .dataframe tbody tr th {\n",
       "        vertical-align: top;\n",
       "    }\n",
       "\n",
       "    .dataframe thead th {\n",
       "        text-align: right;\n",
       "    }\n",
       "</style>\n",
       "<table border=\"1\" class=\"dataframe\">\n",
       "  <thead>\n",
       "    <tr style=\"text-align: right;\">\n",
       "      <th></th>\n",
       "      <th>genres</th>\n",
       "      <th>id</th>\n",
       "      <th>title</th>\n",
       "      <th>year</th>\n",
       "      <th>cast</th>\n",
       "      <th>crew</th>\n",
       "      <th>genres_list</th>\n",
       "      <th>actor_1_name</th>\n",
       "      <th>actor_2_name</th>\n",
       "      <th>actor_3_name</th>\n",
       "    </tr>\n",
       "  </thead>\n",
       "  <tbody>\n",
       "    <tr>\n",
       "      <th>0</th>\n",
       "      <td>[{'id': 12, 'name': 'Adventure'}, {'id': 28, 'name': 'Action'}, {'id': 14, 'name': 'Fantasy...</td>\n",
       "      <td>166426</td>\n",
       "      <td>Pirates of the Caribbean: Dead Men Tell No Tales</td>\n",
       "      <td>2017.0</td>\n",
       "      <td>[{'cast_id': 1, 'character': 'Captain Jack Sparrow', 'credit_id': '52fe4c9cc3a36847f8236a53...</td>\n",
       "      <td>[{'credit_id': '52fe4c9cc3a36847f8236a65', 'department': 'Production', 'gender': 2, 'id': 7...</td>\n",
       "      <td>Adventure Action Fantasy Comedy</td>\n",
       "      <td>Johnny Depp</td>\n",
       "      <td>Javier Bardem</td>\n",
       "      <td>Geoffrey Rush</td>\n",
       "    </tr>\n",
       "    <tr>\n",
       "      <th>1</th>\n",
       "      <td>[{'id': 28, 'name': 'Action'}, {'id': 12, 'name': 'Adventure'}, {'id': 14, 'name': 'Fantasy...</td>\n",
       "      <td>141052</td>\n",
       "      <td>Justice League</td>\n",
       "      <td>2017.0</td>\n",
       "      <td>[{'cast_id': 2, 'character': 'Bruce Wayne / Batman', 'credit_id': '535e68db0e0a264fe10065f5...</td>\n",
       "      <td>[{'credit_id': '55ef66dbc3a3686f1700a52d', 'department': 'Production', 'gender': 0, 'id': 2...</td>\n",
       "      <td>Action Adventure Fantasy Sci-Fi</td>\n",
       "      <td>Ben Affleck</td>\n",
       "      <td>Henry Cavill</td>\n",
       "      <td>Gal Gadot</td>\n",
       "    </tr>\n",
       "    <tr>\n",
       "      <th>2</th>\n",
       "      <td>[{'id': 28, 'name': 'Action'}, {'id': 12, 'name': 'Adventure'}, {'id': 14, 'name': 'Fantasy...</td>\n",
       "      <td>284053</td>\n",
       "      <td>Thor: Ragnarok</td>\n",
       "      <td>2017.0</td>\n",
       "      <td>[{'cast_id': 0, 'character': 'Thor Odinson', 'credit_id': '545d46a80e0a261fb3004e81', 'gend...</td>\n",
       "      <td>[{'credit_id': '56a93fa4c3a36872db001e7a', 'department': 'Writing', 'gender': 2, 'id': 1056...</td>\n",
       "      <td>Action Adventure Fantasy Sci-Fi</td>\n",
       "      <td>Chris Hemsworth</td>\n",
       "      <td>Tom Hiddleston</td>\n",
       "      <td>Cate Blanchett</td>\n",
       "    </tr>\n",
       "  </tbody>\n",
       "</table>\n",
       "</div>"
      ],
      "text/plain": [
       "                                                                                           genres  \\\n",
       "0  [{'id': 12, 'name': 'Adventure'}, {'id': 28, 'name': 'Action'}, {'id': 14, 'name': 'Fantasy...   \n",
       "1  [{'id': 28, 'name': 'Action'}, {'id': 12, 'name': 'Adventure'}, {'id': 14, 'name': 'Fantasy...   \n",
       "2  [{'id': 28, 'name': 'Action'}, {'id': 12, 'name': 'Adventure'}, {'id': 14, 'name': 'Fantasy...   \n",
       "\n",
       "       id                                             title    year  \\\n",
       "0  166426  Pirates of the Caribbean: Dead Men Tell No Tales  2017.0   \n",
       "1  141052                                    Justice League  2017.0   \n",
       "2  284053                                    Thor: Ragnarok  2017.0   \n",
       "\n",
       "                                                                                             cast  \\\n",
       "0  [{'cast_id': 1, 'character': 'Captain Jack Sparrow', 'credit_id': '52fe4c9cc3a36847f8236a53...   \n",
       "1  [{'cast_id': 2, 'character': 'Bruce Wayne / Batman', 'credit_id': '535e68db0e0a264fe10065f5...   \n",
       "2  [{'cast_id': 0, 'character': 'Thor Odinson', 'credit_id': '545d46a80e0a261fb3004e81', 'gend...   \n",
       "\n",
       "                                                                                             crew  \\\n",
       "0  [{'credit_id': '52fe4c9cc3a36847f8236a65', 'department': 'Production', 'gender': 2, 'id': 7...   \n",
       "1  [{'credit_id': '55ef66dbc3a3686f1700a52d', 'department': 'Production', 'gender': 0, 'id': 2...   \n",
       "2  [{'credit_id': '56a93fa4c3a36872db001e7a', 'department': 'Writing', 'gender': 2, 'id': 1056...   \n",
       "\n",
       "                       genres_list     actor_1_name    actor_2_name  \\\n",
       "0  Adventure Action Fantasy Comedy      Johnny Depp   Javier Bardem   \n",
       "1  Action Adventure Fantasy Sci-Fi      Ben Affleck    Henry Cavill   \n",
       "2  Action Adventure Fantasy Sci-Fi  Chris Hemsworth  Tom Hiddleston   \n",
       "\n",
       "     actor_3_name  \n",
       "0   Geoffrey Rush  \n",
       "1       Gal Gadot  \n",
       "2  Cate Blanchett  "
      ]
     },
     "execution_count": 50,
     "metadata": {},
     "output_type": "execute_result"
    }
   ],
   "source": [
    "data_1.head(3)"
   ]
  },
  {
   "cell_type": "code",
   "execution_count": 51,
   "metadata": {},
   "outputs": [],
   "source": [
    "# In a similar fashion, collect director name as well from 'crew' feature:\n",
    "def get_directors(x):\n",
    "    dir=[]\n",
    "    st_1=' '\n",
    "    for i in x:\n",
    "        if i.get('job')=='Director':\n",
    "            dir.append(i.get('name'))\n",
    "    if dir==[]:\n",
    "        return np.NaN\n",
    "    else:\n",
    "        return st_1.join(dir)"
   ]
  },
  {
   "cell_type": "code",
   "execution_count": 52,
   "metadata": {},
   "outputs": [],
   "source": [
    "data_1['director_name']=data_1['crew'].map(lambda x: get_directors(x))"
   ]
  },
  {
   "cell_type": "code",
   "execution_count": 53,
   "metadata": {},
   "outputs": [
    {
     "data": {
      "text/html": [
       "<div>\n",
       "<style scoped>\n",
       "    .dataframe tbody tr th:only-of-type {\n",
       "        vertical-align: middle;\n",
       "    }\n",
       "\n",
       "    .dataframe tbody tr th {\n",
       "        vertical-align: top;\n",
       "    }\n",
       "\n",
       "    .dataframe thead th {\n",
       "        text-align: right;\n",
       "    }\n",
       "</style>\n",
       "<table border=\"1\" class=\"dataframe\">\n",
       "  <thead>\n",
       "    <tr style=\"text-align: right;\">\n",
       "      <th></th>\n",
       "      <th>genres</th>\n",
       "      <th>id</th>\n",
       "      <th>title</th>\n",
       "      <th>year</th>\n",
       "      <th>cast</th>\n",
       "      <th>crew</th>\n",
       "      <th>genres_list</th>\n",
       "      <th>actor_1_name</th>\n",
       "      <th>actor_2_name</th>\n",
       "      <th>actor_3_name</th>\n",
       "      <th>director_name</th>\n",
       "    </tr>\n",
       "  </thead>\n",
       "  <tbody>\n",
       "    <tr>\n",
       "      <th>0</th>\n",
       "      <td>[{'id': 12, 'name': 'Adventure'}, {'id': 28, 'name': 'Action'}, {'id': 14, 'name': 'Fantasy...</td>\n",
       "      <td>166426</td>\n",
       "      <td>Pirates of the Caribbean: Dead Men Tell No Tales</td>\n",
       "      <td>2017.0</td>\n",
       "      <td>[{'cast_id': 1, 'character': 'Captain Jack Sparrow', 'credit_id': '52fe4c9cc3a36847f8236a53...</td>\n",
       "      <td>[{'credit_id': '52fe4c9cc3a36847f8236a65', 'department': 'Production', 'gender': 2, 'id': 7...</td>\n",
       "      <td>Adventure Action Fantasy Comedy</td>\n",
       "      <td>Johnny Depp</td>\n",
       "      <td>Javier Bardem</td>\n",
       "      <td>Geoffrey Rush</td>\n",
       "      <td>Joachim Rønning Espen Sandberg</td>\n",
       "    </tr>\n",
       "    <tr>\n",
       "      <th>1</th>\n",
       "      <td>[{'id': 28, 'name': 'Action'}, {'id': 12, 'name': 'Adventure'}, {'id': 14, 'name': 'Fantasy...</td>\n",
       "      <td>141052</td>\n",
       "      <td>Justice League</td>\n",
       "      <td>2017.0</td>\n",
       "      <td>[{'cast_id': 2, 'character': 'Bruce Wayne / Batman', 'credit_id': '535e68db0e0a264fe10065f5...</td>\n",
       "      <td>[{'credit_id': '55ef66dbc3a3686f1700a52d', 'department': 'Production', 'gender': 0, 'id': 2...</td>\n",
       "      <td>Action Adventure Fantasy Sci-Fi</td>\n",
       "      <td>Ben Affleck</td>\n",
       "      <td>Henry Cavill</td>\n",
       "      <td>Gal Gadot</td>\n",
       "      <td>Zack Snyder</td>\n",
       "    </tr>\n",
       "  </tbody>\n",
       "</table>\n",
       "</div>"
      ],
      "text/plain": [
       "                                                                                           genres  \\\n",
       "0  [{'id': 12, 'name': 'Adventure'}, {'id': 28, 'name': 'Action'}, {'id': 14, 'name': 'Fantasy...   \n",
       "1  [{'id': 28, 'name': 'Action'}, {'id': 12, 'name': 'Adventure'}, {'id': 14, 'name': 'Fantasy...   \n",
       "\n",
       "       id                                             title    year  \\\n",
       "0  166426  Pirates of the Caribbean: Dead Men Tell No Tales  2017.0   \n",
       "1  141052                                    Justice League  2017.0   \n",
       "\n",
       "                                                                                             cast  \\\n",
       "0  [{'cast_id': 1, 'character': 'Captain Jack Sparrow', 'credit_id': '52fe4c9cc3a36847f8236a53...   \n",
       "1  [{'cast_id': 2, 'character': 'Bruce Wayne / Batman', 'credit_id': '535e68db0e0a264fe10065f5...   \n",
       "\n",
       "                                                                                             crew  \\\n",
       "0  [{'credit_id': '52fe4c9cc3a36847f8236a65', 'department': 'Production', 'gender': 2, 'id': 7...   \n",
       "1  [{'credit_id': '55ef66dbc3a3686f1700a52d', 'department': 'Production', 'gender': 0, 'id': 2...   \n",
       "\n",
       "                       genres_list actor_1_name   actor_2_name   actor_3_name  \\\n",
       "0  Adventure Action Fantasy Comedy  Johnny Depp  Javier Bardem  Geoffrey Rush   \n",
       "1  Action Adventure Fantasy Sci-Fi  Ben Affleck   Henry Cavill      Gal Gadot   \n",
       "\n",
       "                    director_name  \n",
       "0  Joachim Rønning Espen Sandberg  \n",
       "1                     Zack Snyder  "
      ]
     },
     "execution_count": 53,
     "metadata": {},
     "output_type": "execute_result"
    }
   ],
   "source": [
    "data_1.head(2)"
   ]
  },
  {
   "cell_type": "code",
   "execution_count": 54,
   "metadata": {},
   "outputs": [],
   "source": [
    "# lets collect the same feature as 'data.csv' file:\n",
    "movie=data_1.loc[:,['director_name','actor_1_name','actor_2_name','actor_3_name','genres_list','title']]"
   ]
  },
  {
   "cell_type": "code",
   "execution_count": 55,
   "metadata": {},
   "outputs": [
    {
     "data": {
      "text/html": [
       "<div>\n",
       "<style scoped>\n",
       "    .dataframe tbody tr th:only-of-type {\n",
       "        vertical-align: middle;\n",
       "    }\n",
       "\n",
       "    .dataframe tbody tr th {\n",
       "        vertical-align: top;\n",
       "    }\n",
       "\n",
       "    .dataframe thead th {\n",
       "        text-align: right;\n",
       "    }\n",
       "</style>\n",
       "<table border=\"1\" class=\"dataframe\">\n",
       "  <thead>\n",
       "    <tr style=\"text-align: right;\">\n",
       "      <th></th>\n",
       "      <th>director_name</th>\n",
       "      <th>actor_1_name</th>\n",
       "      <th>actor_2_name</th>\n",
       "      <th>actor_3_name</th>\n",
       "      <th>genres_list</th>\n",
       "      <th>title</th>\n",
       "    </tr>\n",
       "  </thead>\n",
       "  <tbody>\n",
       "    <tr>\n",
       "      <th>0</th>\n",
       "      <td>Joachim Rønning Espen Sandberg</td>\n",
       "      <td>Johnny Depp</td>\n",
       "      <td>Javier Bardem</td>\n",
       "      <td>Geoffrey Rush</td>\n",
       "      <td>Adventure Action Fantasy Comedy</td>\n",
       "      <td>Pirates of the Caribbean: Dead Men Tell No Tales</td>\n",
       "    </tr>\n",
       "    <tr>\n",
       "      <th>1</th>\n",
       "      <td>Zack Snyder</td>\n",
       "      <td>Ben Affleck</td>\n",
       "      <td>Henry Cavill</td>\n",
       "      <td>Gal Gadot</td>\n",
       "      <td>Action Adventure Fantasy Sci-Fi</td>\n",
       "      <td>Justice League</td>\n",
       "    </tr>\n",
       "    <tr>\n",
       "      <th>2</th>\n",
       "      <td>Taika Waititi</td>\n",
       "      <td>Chris Hemsworth</td>\n",
       "      <td>Tom Hiddleston</td>\n",
       "      <td>Cate Blanchett</td>\n",
       "      <td>Action Adventure Fantasy Sci-Fi</td>\n",
       "      <td>Thor: Ragnarok</td>\n",
       "    </tr>\n",
       "    <tr>\n",
       "      <th>3</th>\n",
       "      <td>James Gunn</td>\n",
       "      <td>Chris Pratt</td>\n",
       "      <td>Zoe Saldana</td>\n",
       "      <td>Dave Bautista</td>\n",
       "      <td>Action Adventure Comedy Sci-Fi</td>\n",
       "      <td>Guardians of the Galaxy Vol. 2</td>\n",
       "    </tr>\n",
       "    <tr>\n",
       "      <th>4</th>\n",
       "      <td>Sean McNamara</td>\n",
       "      <td>Pierce Brosnan</td>\n",
       "      <td>William Hurt</td>\n",
       "      <td>Benjamin Walker</td>\n",
       "      <td>Fantasy Action Adventure</td>\n",
       "      <td>The King's Daughter</td>\n",
       "    </tr>\n",
       "  </tbody>\n",
       "</table>\n",
       "</div>"
      ],
      "text/plain": [
       "                    director_name     actor_1_name    actor_2_name  \\\n",
       "0  Joachim Rønning Espen Sandberg      Johnny Depp   Javier Bardem   \n",
       "1                     Zack Snyder      Ben Affleck    Henry Cavill   \n",
       "2                   Taika Waititi  Chris Hemsworth  Tom Hiddleston   \n",
       "3                      James Gunn      Chris Pratt     Zoe Saldana   \n",
       "4                   Sean McNamara   Pierce Brosnan    William Hurt   \n",
       "\n",
       "      actor_3_name                      genres_list  \\\n",
       "0    Geoffrey Rush  Adventure Action Fantasy Comedy   \n",
       "1        Gal Gadot  Action Adventure Fantasy Sci-Fi   \n",
       "2   Cate Blanchett  Action Adventure Fantasy Sci-Fi   \n",
       "3    Dave Bautista   Action Adventure Comedy Sci-Fi   \n",
       "4  Benjamin Walker         Fantasy Action Adventure   \n",
       "\n",
       "                                              title  \n",
       "0  Pirates of the Caribbean: Dead Men Tell No Tales  \n",
       "1                                    Justice League  \n",
       "2                                    Thor: Ragnarok  \n",
       "3                    Guardians of the Galaxy Vol. 2  \n",
       "4                               The King's Daughter  "
      ]
     },
     "execution_count": 55,
     "metadata": {},
     "output_type": "execute_result"
    }
   ],
   "source": [
    "movie.head()"
   ]
  },
  {
   "cell_type": "code",
   "execution_count": 56,
   "metadata": {},
   "outputs": [
    {
     "data": {
      "text/plain": [
       "director_name     4\n",
       "actor_1_name     22\n",
       "actor_2_name     55\n",
       "actor_3_name     70\n",
       "genres_list       7\n",
       "title             0\n",
       "dtype: int64"
      ]
     },
     "execution_count": 56,
     "metadata": {},
     "output_type": "execute_result"
    }
   ],
   "source": [
    "# lets handle the missing values: \n",
    "movie.isnull().sum()"
   ]
  },
  {
   "cell_type": "code",
   "execution_count": 57,
   "metadata": {},
   "outputs": [],
   "source": [
    "# lets dropped the missing values rows:\n",
    "movie.dropna(inplace=True)"
   ]
  },
  {
   "cell_type": "code",
   "execution_count": 58,
   "metadata": {},
   "outputs": [
    {
     "data": {
      "text/plain": [
       "director_name    0\n",
       "actor_1_name     0\n",
       "actor_2_name     0\n",
       "actor_3_name     0\n",
       "genres_list      0\n",
       "title            0\n",
       "dtype: int64"
      ]
     },
     "execution_count": 58,
     "metadata": {},
     "output_type": "execute_result"
    }
   ],
   "source": [
    "movie.isnull().sum()"
   ]
  },
  {
   "cell_type": "code",
   "execution_count": 59,
   "metadata": {},
   "outputs": [
    {
     "data": {
      "text/plain": [
       "Index(['director_name', 'actor_1_name', 'actor_2_name', 'actor_3_name',\n",
       "       'genres_list', 'title'],\n",
       "      dtype='object')"
      ]
     },
     "execution_count": 59,
     "metadata": {},
     "output_type": "execute_result"
    }
   ],
   "source": [
    "movie.columns"
   ]
  },
  {
   "cell_type": "code",
   "execution_count": 60,
   "metadata": {},
   "outputs": [],
   "source": [
    "# lets rename the features name matching with 'data.csv' file:\n",
    "movie=movie.rename(columns={'genres_list':'genres'})\n",
    "movie=movie.rename(columns={'title':'movie_title'})"
   ]
  },
  {
   "cell_type": "code",
   "execution_count": 61,
   "metadata": {},
   "outputs": [
    {
     "data": {
      "text/plain": [
       "Index(['director_name', 'actor_1_name', 'actor_2_name', 'actor_3_name',\n",
       "       'genres', 'movie_title'],\n",
       "      dtype='object')"
      ]
     },
     "execution_count": 61,
     "metadata": {},
     "output_type": "execute_result"
    }
   ],
   "source": [
    "movie.columns"
   ]
  },
  {
   "cell_type": "code",
   "execution_count": 62,
   "metadata": {},
   "outputs": [],
   "source": [
    "# lets lower case the 'movie_title'\n",
    "movie['movie_title']=movie['movie_title'].str.lower()"
   ]
  },
  {
   "cell_type": "code",
   "execution_count": 63,
   "metadata": {},
   "outputs": [
    {
     "data": {
      "text/html": [
       "<div>\n",
       "<style scoped>\n",
       "    .dataframe tbody tr th:only-of-type {\n",
       "        vertical-align: middle;\n",
       "    }\n",
       "\n",
       "    .dataframe tbody tr th {\n",
       "        vertical-align: top;\n",
       "    }\n",
       "\n",
       "    .dataframe thead th {\n",
       "        text-align: right;\n",
       "    }\n",
       "</style>\n",
       "<table border=\"1\" class=\"dataframe\">\n",
       "  <thead>\n",
       "    <tr style=\"text-align: right;\">\n",
       "      <th></th>\n",
       "      <th>director_name</th>\n",
       "      <th>actor_1_name</th>\n",
       "      <th>actor_2_name</th>\n",
       "      <th>actor_3_name</th>\n",
       "      <th>genres</th>\n",
       "      <th>movie_title</th>\n",
       "    </tr>\n",
       "  </thead>\n",
       "  <tbody>\n",
       "    <tr>\n",
       "      <th>0</th>\n",
       "      <td>Joachim Rønning Espen Sandberg</td>\n",
       "      <td>Johnny Depp</td>\n",
       "      <td>Javier Bardem</td>\n",
       "      <td>Geoffrey Rush</td>\n",
       "      <td>Adventure Action Fantasy Comedy</td>\n",
       "      <td>pirates of the caribbean: dead men tell no tales</td>\n",
       "    </tr>\n",
       "    <tr>\n",
       "      <th>1</th>\n",
       "      <td>Zack Snyder</td>\n",
       "      <td>Ben Affleck</td>\n",
       "      <td>Henry Cavill</td>\n",
       "      <td>Gal Gadot</td>\n",
       "      <td>Action Adventure Fantasy Sci-Fi</td>\n",
       "      <td>justice league</td>\n",
       "    </tr>\n",
       "    <tr>\n",
       "      <th>2</th>\n",
       "      <td>Taika Waititi</td>\n",
       "      <td>Chris Hemsworth</td>\n",
       "      <td>Tom Hiddleston</td>\n",
       "      <td>Cate Blanchett</td>\n",
       "      <td>Action Adventure Fantasy Sci-Fi</td>\n",
       "      <td>thor: ragnarok</td>\n",
       "    </tr>\n",
       "  </tbody>\n",
       "</table>\n",
       "</div>"
      ],
      "text/plain": [
       "                    director_name     actor_1_name    actor_2_name  \\\n",
       "0  Joachim Rønning Espen Sandberg      Johnny Depp   Javier Bardem   \n",
       "1                     Zack Snyder      Ben Affleck    Henry Cavill   \n",
       "2                   Taika Waititi  Chris Hemsworth  Tom Hiddleston   \n",
       "\n",
       "     actor_3_name                           genres  \\\n",
       "0   Geoffrey Rush  Adventure Action Fantasy Comedy   \n",
       "1       Gal Gadot  Action Adventure Fantasy Sci-Fi   \n",
       "2  Cate Blanchett  Action Adventure Fantasy Sci-Fi   \n",
       "\n",
       "                                        movie_title  \n",
       "0  pirates of the caribbean: dead men tell no tales  \n",
       "1                                    justice league  \n",
       "2                                    thor: ragnarok  "
      ]
     },
     "execution_count": 63,
     "metadata": {},
     "output_type": "execute_result"
    }
   ],
   "source": [
    "movie.head(3)"
   ]
  },
  {
   "cell_type": "code",
   "execution_count": 64,
   "metadata": {},
   "outputs": [],
   "source": [
    "movie['Combinations']=movie['actor_1_name']+', '+movie['actor_2_name']+', '+movie['actor_3_name']+', '+movie['director_name']+', '+movie['genres']"
   ]
  },
  {
   "cell_type": "code",
   "execution_count": 65,
   "metadata": {},
   "outputs": [
    {
     "data": {
      "text/html": [
       "<div>\n",
       "<style scoped>\n",
       "    .dataframe tbody tr th:only-of-type {\n",
       "        vertical-align: middle;\n",
       "    }\n",
       "\n",
       "    .dataframe tbody tr th {\n",
       "        vertical-align: top;\n",
       "    }\n",
       "\n",
       "    .dataframe thead th {\n",
       "        text-align: right;\n",
       "    }\n",
       "</style>\n",
       "<table border=\"1\" class=\"dataframe\">\n",
       "  <thead>\n",
       "    <tr style=\"text-align: right;\">\n",
       "      <th></th>\n",
       "      <th>director_name</th>\n",
       "      <th>actor_1_name</th>\n",
       "      <th>actor_2_name</th>\n",
       "      <th>actor_3_name</th>\n",
       "      <th>genres</th>\n",
       "      <th>movie_title</th>\n",
       "      <th>Combinations</th>\n",
       "    </tr>\n",
       "  </thead>\n",
       "  <tbody>\n",
       "    <tr>\n",
       "      <th>0</th>\n",
       "      <td>Joachim Rønning Espen Sandberg</td>\n",
       "      <td>Johnny Depp</td>\n",
       "      <td>Javier Bardem</td>\n",
       "      <td>Geoffrey Rush</td>\n",
       "      <td>Adventure Action Fantasy Comedy</td>\n",
       "      <td>pirates of the caribbean: dead men tell no tales</td>\n",
       "      <td>Johnny Depp, Javier Bardem, Geoffrey Rush, Joachim Rønning Espen Sandberg, Adventure Action...</td>\n",
       "    </tr>\n",
       "    <tr>\n",
       "      <th>1</th>\n",
       "      <td>Zack Snyder</td>\n",
       "      <td>Ben Affleck</td>\n",
       "      <td>Henry Cavill</td>\n",
       "      <td>Gal Gadot</td>\n",
       "      <td>Action Adventure Fantasy Sci-Fi</td>\n",
       "      <td>justice league</td>\n",
       "      <td>Ben Affleck, Henry Cavill, Gal Gadot, Zack Snyder, Action Adventure Fantasy Sci-Fi</td>\n",
       "    </tr>\n",
       "    <tr>\n",
       "      <th>2</th>\n",
       "      <td>Taika Waititi</td>\n",
       "      <td>Chris Hemsworth</td>\n",
       "      <td>Tom Hiddleston</td>\n",
       "      <td>Cate Blanchett</td>\n",
       "      <td>Action Adventure Fantasy Sci-Fi</td>\n",
       "      <td>thor: ragnarok</td>\n",
       "      <td>Chris Hemsworth, Tom Hiddleston, Cate Blanchett, Taika Waititi, Action Adventure Fantasy Sc...</td>\n",
       "    </tr>\n",
       "    <tr>\n",
       "      <th>3</th>\n",
       "      <td>James Gunn</td>\n",
       "      <td>Chris Pratt</td>\n",
       "      <td>Zoe Saldana</td>\n",
       "      <td>Dave Bautista</td>\n",
       "      <td>Action Adventure Comedy Sci-Fi</td>\n",
       "      <td>guardians of the galaxy vol. 2</td>\n",
       "      <td>Chris Pratt, Zoe Saldana, Dave Bautista, James Gunn, Action Adventure Comedy Sci-Fi</td>\n",
       "    </tr>\n",
       "    <tr>\n",
       "      <th>4</th>\n",
       "      <td>Sean McNamara</td>\n",
       "      <td>Pierce Brosnan</td>\n",
       "      <td>William Hurt</td>\n",
       "      <td>Benjamin Walker</td>\n",
       "      <td>Fantasy Action Adventure</td>\n",
       "      <td>the king's daughter</td>\n",
       "      <td>Pierce Brosnan, William Hurt, Benjamin Walker, Sean McNamara, Fantasy Action Adventure</td>\n",
       "    </tr>\n",
       "  </tbody>\n",
       "</table>\n",
       "</div>"
      ],
      "text/plain": [
       "                    director_name     actor_1_name    actor_2_name  \\\n",
       "0  Joachim Rønning Espen Sandberg      Johnny Depp   Javier Bardem   \n",
       "1                     Zack Snyder      Ben Affleck    Henry Cavill   \n",
       "2                   Taika Waititi  Chris Hemsworth  Tom Hiddleston   \n",
       "3                      James Gunn      Chris Pratt     Zoe Saldana   \n",
       "4                   Sean McNamara   Pierce Brosnan    William Hurt   \n",
       "\n",
       "      actor_3_name                           genres  \\\n",
       "0    Geoffrey Rush  Adventure Action Fantasy Comedy   \n",
       "1        Gal Gadot  Action Adventure Fantasy Sci-Fi   \n",
       "2   Cate Blanchett  Action Adventure Fantasy Sci-Fi   \n",
       "3    Dave Bautista   Action Adventure Comedy Sci-Fi   \n",
       "4  Benjamin Walker         Fantasy Action Adventure   \n",
       "\n",
       "                                        movie_title  \\\n",
       "0  pirates of the caribbean: dead men tell no tales   \n",
       "1                                    justice league   \n",
       "2                                    thor: ragnarok   \n",
       "3                    guardians of the galaxy vol. 2   \n",
       "4                               the king's daughter   \n",
       "\n",
       "                                                                                     Combinations  \n",
       "0  Johnny Depp, Javier Bardem, Geoffrey Rush, Joachim Rønning Espen Sandberg, Adventure Action...  \n",
       "1              Ben Affleck, Henry Cavill, Gal Gadot, Zack Snyder, Action Adventure Fantasy Sci-Fi  \n",
       "2  Chris Hemsworth, Tom Hiddleston, Cate Blanchett, Taika Waititi, Action Adventure Fantasy Sc...  \n",
       "3             Chris Pratt, Zoe Saldana, Dave Bautista, James Gunn, Action Adventure Comedy Sci-Fi  \n",
       "4          Pierce Brosnan, William Hurt, Benjamin Walker, Sean McNamara, Fantasy Action Adventure  "
      ]
     },
     "execution_count": 65,
     "metadata": {},
     "output_type": "execute_result"
    }
   ],
   "source": [
    "movie.head()"
   ]
  },
  {
   "cell_type": "code",
   "execution_count": 66,
   "metadata": {},
   "outputs": [],
   "source": [
    "# lets concatinate the movie data with data.csv together as all features name is matching:\n",
    "new=data.append(movie)              #either pd.concat(['data','movie'], axis=0)"
   ]
  },
  {
   "cell_type": "code",
   "execution_count": 67,
   "metadata": {},
   "outputs": [
    {
     "data": {
      "text/html": [
       "<div>\n",
       "<style scoped>\n",
       "    .dataframe tbody tr th:only-of-type {\n",
       "        vertical-align: middle;\n",
       "    }\n",
       "\n",
       "    .dataframe tbody tr th {\n",
       "        vertical-align: top;\n",
       "    }\n",
       "\n",
       "    .dataframe thead th {\n",
       "        text-align: right;\n",
       "    }\n",
       "</style>\n",
       "<table border=\"1\" class=\"dataframe\">\n",
       "  <thead>\n",
       "    <tr style=\"text-align: right;\">\n",
       "      <th></th>\n",
       "      <th>director_name</th>\n",
       "      <th>actor_1_name</th>\n",
       "      <th>actor_2_name</th>\n",
       "      <th>actor_3_name</th>\n",
       "      <th>genres</th>\n",
       "      <th>movie_title</th>\n",
       "      <th>Combinations</th>\n",
       "    </tr>\n",
       "  </thead>\n",
       "  <tbody>\n",
       "    <tr>\n",
       "      <th>0</th>\n",
       "      <td>James Cameron</td>\n",
       "      <td>CCH Pounder</td>\n",
       "      <td>Joel David Moore</td>\n",
       "      <td>Wes Studi</td>\n",
       "      <td>Action Adventure Fantasy Sci-Fi</td>\n",
       "      <td>avatar</td>\n",
       "      <td>CCH Pounder, Joel David Moore, Wes Studi, James Cameron, Action Adventure Fantasy Sci-Fi</td>\n",
       "    </tr>\n",
       "    <tr>\n",
       "      <th>1</th>\n",
       "      <td>Gore Verbinski</td>\n",
       "      <td>Johnny Depp</td>\n",
       "      <td>Orlando Bloom</td>\n",
       "      <td>Jack Davenport</td>\n",
       "      <td>Action Adventure Fantasy</td>\n",
       "      <td>pirates of the caribbean: at world's end</td>\n",
       "      <td>Johnny Depp, Orlando Bloom, Jack Davenport, Gore Verbinski, Action Adventure Fantasy</td>\n",
       "    </tr>\n",
       "    <tr>\n",
       "      <th>2</th>\n",
       "      <td>Sam Mendes</td>\n",
       "      <td>Christoph Waltz</td>\n",
       "      <td>Rory Kinnear</td>\n",
       "      <td>Stephanie Sigman</td>\n",
       "      <td>Action Adventure Thriller</td>\n",
       "      <td>spectre</td>\n",
       "      <td>Christoph Waltz, Rory Kinnear, Stephanie Sigman, Sam Mendes, Action Adventure Thriller</td>\n",
       "    </tr>\n",
       "    <tr>\n",
       "      <th>3</th>\n",
       "      <td>Christopher Nolan</td>\n",
       "      <td>Tom Hardy</td>\n",
       "      <td>Christian Bale</td>\n",
       "      <td>Joseph Gordon-Levitt</td>\n",
       "      <td>Action Thriller</td>\n",
       "      <td>the dark knight rises</td>\n",
       "      <td>Tom Hardy, Christian Bale, Joseph Gordon-Levitt, Christopher Nolan, Action Thriller</td>\n",
       "    </tr>\n",
       "    <tr>\n",
       "      <th>4</th>\n",
       "      <td>Doug Walker</td>\n",
       "      <td>Doug Walker</td>\n",
       "      <td>Rob Walker</td>\n",
       "      <td>unknown</td>\n",
       "      <td>Documentary</td>\n",
       "      <td>star wars: episode vii - the force awakens</td>\n",
       "      <td>Doug Walker, Rob Walker, unknown, Doug Walker, Documentary</td>\n",
       "    </tr>\n",
       "  </tbody>\n",
       "</table>\n",
       "</div>"
      ],
      "text/plain": [
       "       director_name     actor_1_name      actor_2_name          actor_3_name  \\\n",
       "0      James Cameron      CCH Pounder  Joel David Moore             Wes Studi   \n",
       "1     Gore Verbinski      Johnny Depp     Orlando Bloom        Jack Davenport   \n",
       "2         Sam Mendes  Christoph Waltz      Rory Kinnear      Stephanie Sigman   \n",
       "3  Christopher Nolan        Tom Hardy    Christian Bale  Joseph Gordon-Levitt   \n",
       "4        Doug Walker      Doug Walker        Rob Walker               unknown   \n",
       "\n",
       "                            genres  \\\n",
       "0  Action Adventure Fantasy Sci-Fi   \n",
       "1         Action Adventure Fantasy   \n",
       "2        Action Adventure Thriller   \n",
       "3                  Action Thriller   \n",
       "4                      Documentary   \n",
       "\n",
       "                                              movie_title  \\\n",
       "0                                                  avatar   \n",
       "1                pirates of the caribbean: at world's end   \n",
       "2                                                 spectre   \n",
       "3                                   the dark knight rises   \n",
       "4  star wars: episode vii - the force awakens               \n",
       "\n",
       "                                                                               Combinations  \n",
       "0  CCH Pounder, Joel David Moore, Wes Studi, James Cameron, Action Adventure Fantasy Sci-Fi  \n",
       "1      Johnny Depp, Orlando Bloom, Jack Davenport, Gore Verbinski, Action Adventure Fantasy  \n",
       "2    Christoph Waltz, Rory Kinnear, Stephanie Sigman, Sam Mendes, Action Adventure Thriller  \n",
       "3       Tom Hardy, Christian Bale, Joseph Gordon-Levitt, Christopher Nolan, Action Thriller  \n",
       "4                                Doug Walker, Rob Walker, unknown, Doug Walker, Documentary  "
      ]
     },
     "execution_count": 67,
     "metadata": {},
     "output_type": "execute_result"
    }
   ],
   "source": [
    "new.head()"
   ]
  },
  {
   "cell_type": "code",
   "execution_count": 68,
   "metadata": {},
   "outputs": [
    {
     "data": {
      "text/plain": [
       "137"
      ]
     },
     "execution_count": 68,
     "metadata": {},
     "output_type": "execute_result"
    }
   ],
   "source": [
    "# lets handled the duplicate values from 'movie_title':\n",
    "new.duplicated(subset='movie_title').sum()"
   ]
  },
  {
   "cell_type": "code",
   "execution_count": 69,
   "metadata": {},
   "outputs": [],
   "source": [
    "# lets dropped the duplicates values may be due to overlapping the data:\n",
    "new.drop_duplicates(subset='movie_title', keep='last', inplace=True)"
   ]
  },
  {
   "cell_type": "code",
   "execution_count": 70,
   "metadata": {},
   "outputs": [
    {
     "data": {
      "text/plain": [
       "(5364, 7)"
      ]
     },
     "execution_count": 70,
     "metadata": {},
     "output_type": "execute_result"
    }
   ],
   "source": [
    "new.shape"
   ]
  },
  {
   "cell_type": "code",
   "execution_count": 71,
   "metadata": {
    "scrolled": true
   },
   "outputs": [
    {
     "data": {
      "text/html": [
       "<div>\n",
       "<style scoped>\n",
       "    .dataframe tbody tr th:only-of-type {\n",
       "        vertical-align: middle;\n",
       "    }\n",
       "\n",
       "    .dataframe tbody tr th {\n",
       "        vertical-align: top;\n",
       "    }\n",
       "\n",
       "    .dataframe thead th {\n",
       "        text-align: right;\n",
       "    }\n",
       "</style>\n",
       "<table border=\"1\" class=\"dataframe\">\n",
       "  <thead>\n",
       "    <tr style=\"text-align: right;\">\n",
       "      <th></th>\n",
       "      <th>director_name</th>\n",
       "      <th>actor_1_name</th>\n",
       "      <th>actor_2_name</th>\n",
       "      <th>actor_3_name</th>\n",
       "      <th>genres</th>\n",
       "      <th>movie_title</th>\n",
       "      <th>Combinations</th>\n",
       "    </tr>\n",
       "  </thead>\n",
       "  <tbody>\n",
       "    <tr>\n",
       "      <th>0</th>\n",
       "      <td>James Cameron</td>\n",
       "      <td>CCH Pounder</td>\n",
       "      <td>Joel David Moore</td>\n",
       "      <td>Wes Studi</td>\n",
       "      <td>Action Adventure Fantasy Sci-Fi</td>\n",
       "      <td>avatar</td>\n",
       "      <td>CCH Pounder, Joel David Moore, Wes Studi, James Cameron, Action Adventure Fantasy Sci-Fi</td>\n",
       "    </tr>\n",
       "    <tr>\n",
       "      <th>1</th>\n",
       "      <td>Gore Verbinski</td>\n",
       "      <td>Johnny Depp</td>\n",
       "      <td>Orlando Bloom</td>\n",
       "      <td>Jack Davenport</td>\n",
       "      <td>Action Adventure Fantasy</td>\n",
       "      <td>pirates of the caribbean: at world's end</td>\n",
       "      <td>Johnny Depp, Orlando Bloom, Jack Davenport, Gore Verbinski, Action Adventure Fantasy</td>\n",
       "    </tr>\n",
       "    <tr>\n",
       "      <th>2</th>\n",
       "      <td>Sam Mendes</td>\n",
       "      <td>Christoph Waltz</td>\n",
       "      <td>Rory Kinnear</td>\n",
       "      <td>Stephanie Sigman</td>\n",
       "      <td>Action Adventure Thriller</td>\n",
       "      <td>spectre</td>\n",
       "      <td>Christoph Waltz, Rory Kinnear, Stephanie Sigman, Sam Mendes, Action Adventure Thriller</td>\n",
       "    </tr>\n",
       "    <tr>\n",
       "      <th>3</th>\n",
       "      <td>Christopher Nolan</td>\n",
       "      <td>Tom Hardy</td>\n",
       "      <td>Christian Bale</td>\n",
       "      <td>Joseph Gordon-Levitt</td>\n",
       "      <td>Action Thriller</td>\n",
       "      <td>the dark knight rises</td>\n",
       "      <td>Tom Hardy, Christian Bale, Joseph Gordon-Levitt, Christopher Nolan, Action Thriller</td>\n",
       "    </tr>\n",
       "    <tr>\n",
       "      <th>4</th>\n",
       "      <td>Doug Walker</td>\n",
       "      <td>Doug Walker</td>\n",
       "      <td>Rob Walker</td>\n",
       "      <td>unknown</td>\n",
       "      <td>Documentary</td>\n",
       "      <td>star wars: episode vii - the force awakens</td>\n",
       "      <td>Doug Walker, Rob Walker, unknown, Doug Walker, Documentary</td>\n",
       "    </tr>\n",
       "  </tbody>\n",
       "</table>\n",
       "</div>"
      ],
      "text/plain": [
       "       director_name     actor_1_name      actor_2_name          actor_3_name  \\\n",
       "0      James Cameron      CCH Pounder  Joel David Moore             Wes Studi   \n",
       "1     Gore Verbinski      Johnny Depp     Orlando Bloom        Jack Davenport   \n",
       "2         Sam Mendes  Christoph Waltz      Rory Kinnear      Stephanie Sigman   \n",
       "3  Christopher Nolan        Tom Hardy    Christian Bale  Joseph Gordon-Levitt   \n",
       "4        Doug Walker      Doug Walker        Rob Walker               unknown   \n",
       "\n",
       "                            genres  \\\n",
       "0  Action Adventure Fantasy Sci-Fi   \n",
       "1         Action Adventure Fantasy   \n",
       "2        Action Adventure Thriller   \n",
       "3                  Action Thriller   \n",
       "4                      Documentary   \n",
       "\n",
       "                                              movie_title  \\\n",
       "0                                                  avatar   \n",
       "1                pirates of the caribbean: at world's end   \n",
       "2                                                 spectre   \n",
       "3                                   the dark knight rises   \n",
       "4  star wars: episode vii - the force awakens               \n",
       "\n",
       "                                                                               Combinations  \n",
       "0  CCH Pounder, Joel David Moore, Wes Studi, James Cameron, Action Adventure Fantasy Sci-Fi  \n",
       "1      Johnny Depp, Orlando Bloom, Jack Davenport, Gore Verbinski, Action Adventure Fantasy  \n",
       "2    Christoph Waltz, Rory Kinnear, Stephanie Sigman, Sam Mendes, Action Adventure Thriller  \n",
       "3       Tom Hardy, Christian Bale, Joseph Gordon-Levitt, Christopher Nolan, Action Thriller  \n",
       "4                                Doug Walker, Rob Walker, unknown, Doug Walker, Documentary  "
      ]
     },
     "execution_count": 71,
     "metadata": {},
     "output_type": "execute_result"
    }
   ],
   "source": [
    "new.head()"
   ]
  },
  {
   "cell_type": "code",
   "execution_count": 72,
   "metadata": {},
   "outputs": [],
   "source": [
    "new.to_csv(\"D:\\\\Study\\\\Python\\\\scripts\\\\Machine_Learning\\\\Supervised_Model\\\\Movie_Recommendation\\\\MY_Prectice\\\\new.csv\", index=False)"
   ]
  },
  {
   "cell_type": "code",
   "execution_count": 73,
   "metadata": {},
   "outputs": [
    {
     "data": {
      "text/plain": [
       "'C:\\\\Users\\\\Dell\\\\Project\\\\Movie_Recommendation'"
      ]
     },
     "execution_count": 73,
     "metadata": {},
     "output_type": "execute_result"
    }
   ],
   "source": [
    "import os\n",
    "os.getcwd()"
   ]
  },
  {
   "cell_type": "markdown",
   "metadata": {},
   "source": [
    "# Now we have collected till 2017 movie data, need to collect 2018,2019,2020 movie data as well, that is not present on kaggle, we can retreive data from wikipedia or any website thorugh webscraping or API link:"
   ]
  },
  {
   "cell_type": "markdown",
   "metadata": {},
   "source": [
    "# Extracting 2018 year movie data from wikipedia."
   ]
  },
  {
   "cell_type": "code",
   "execution_count": 76,
   "metadata": {},
   "outputs": [],
   "source": [
    "url='https://en.wikipedia.org/wiki/List_of_American_films_of_2018'\n",
    "df1=pd.read_html(url, header=0)[2]              # retreiving 2nd, 3rd, 4th, 5th table from wikipedia.\n",
    "df2=pd.read_html(url, header=0)[3]\n",
    "df3=pd.read_html(url, header=0)[4]\n",
    "df4=pd.read_html(url, header=0)[5]"
   ]
  },
  {
   "cell_type": "code",
   "execution_count": 77,
   "metadata": {},
   "outputs": [
    {
     "name": "stdout",
     "output_type": "stream",
     "text": [
      "(73, 6) (63, 6) (67, 6) (66, 6)\n"
     ]
    }
   ],
   "source": [
    "print(df1.shape,df2.shape,df3.shape,df4.shape)"
   ]
  },
  {
   "cell_type": "code",
   "execution_count": 78,
   "metadata": {},
   "outputs": [],
   "source": [
    "# lets concatinate the all retreived tables:\n",
    "df=pd.concat([df1,df2,df3,df4.iloc[:,:-1]], axis=0, ignore_index=True)"
   ]
  },
  {
   "cell_type": "code",
   "execution_count": 79,
   "metadata": {},
   "outputs": [
    {
     "data": {
      "text/html": [
       "<div>\n",
       "<style scoped>\n",
       "    .dataframe tbody tr th:only-of-type {\n",
       "        vertical-align: middle;\n",
       "    }\n",
       "\n",
       "    .dataframe tbody tr th {\n",
       "        vertical-align: top;\n",
       "    }\n",
       "\n",
       "    .dataframe thead th {\n",
       "        text-align: right;\n",
       "    }\n",
       "</style>\n",
       "<table border=\"1\" class=\"dataframe\">\n",
       "  <thead>\n",
       "    <tr style=\"text-align: right;\">\n",
       "      <th></th>\n",
       "      <th>Opening</th>\n",
       "      <th>Opening.1</th>\n",
       "      <th>Title</th>\n",
       "      <th>Production company</th>\n",
       "      <th>Cast and crew</th>\n",
       "      <th>Ref.</th>\n",
       "    </tr>\n",
       "  </thead>\n",
       "  <tbody>\n",
       "    <tr>\n",
       "      <th>0</th>\n",
       "      <td>JANUARY</td>\n",
       "      <td>5</td>\n",
       "      <td>Insidious: The Last Key</td>\n",
       "      <td>Universal Pictures / Blumhouse Productions / Stage 6 Films</td>\n",
       "      <td>Adam Robitel (director); Leigh Whannell (screenplay); Lin Shaye, Angus Sampson, Leigh Whann...</td>\n",
       "      <td>[2]</td>\n",
       "    </tr>\n",
       "    <tr>\n",
       "      <th>1</th>\n",
       "      <td>JANUARY</td>\n",
       "      <td>5</td>\n",
       "      <td>The Strange Ones</td>\n",
       "      <td>Vertical Entertainment</td>\n",
       "      <td>Lauren Wolkstein (director); Christopher Radcliff (co-director/screenplay); Alex Pettyfer, ...</td>\n",
       "      <td>[3]</td>\n",
       "    </tr>\n",
       "    <tr>\n",
       "      <th>2</th>\n",
       "      <td>JANUARY</td>\n",
       "      <td>5</td>\n",
       "      <td>Stratton</td>\n",
       "      <td>Momentum Pictures</td>\n",
       "      <td>Simon West (director); Duncan Falconer, Warren Davis II (screenplay); Dominic Cooper, Austi...</td>\n",
       "      <td>[4]</td>\n",
       "    </tr>\n",
       "    <tr>\n",
       "      <th>3</th>\n",
       "      <td>JANUARY</td>\n",
       "      <td>10</td>\n",
       "      <td>Sweet Country</td>\n",
       "      <td>Samuel Goldwyn Films</td>\n",
       "      <td>Warwick Thornton (director); David Tranter, Steven McGregor (screenplay); Bryan Brown, Sam ...</td>\n",
       "      <td>[5]</td>\n",
       "    </tr>\n",
       "    <tr>\n",
       "      <th>4</th>\n",
       "      <td>JANUARY</td>\n",
       "      <td>12</td>\n",
       "      <td>The Commuter</td>\n",
       "      <td>Lionsgate / StudioCanal / The Picture Company</td>\n",
       "      <td>Jaume Collet-Serra (director); Byron Willinger, Philip de Blasi (screenplay); Liam Neeson, ...</td>\n",
       "      <td>[6]</td>\n",
       "    </tr>\n",
       "  </tbody>\n",
       "</table>\n",
       "</div>"
      ],
      "text/plain": [
       "   Opening  Opening.1                    Title  \\\n",
       "0  JANUARY          5  Insidious: The Last Key   \n",
       "1  JANUARY          5         The Strange Ones   \n",
       "2  JANUARY          5                 Stratton   \n",
       "3  JANUARY         10            Sweet Country   \n",
       "4  JANUARY         12             The Commuter   \n",
       "\n",
       "                                           Production company  \\\n",
       "0  Universal Pictures / Blumhouse Productions / Stage 6 Films   \n",
       "1                                      Vertical Entertainment   \n",
       "2                                           Momentum Pictures   \n",
       "3                                        Samuel Goldwyn Films   \n",
       "4               Lionsgate / StudioCanal / The Picture Company   \n",
       "\n",
       "                                                                                    Cast and crew  \\\n",
       "0  Adam Robitel (director); Leigh Whannell (screenplay); Lin Shaye, Angus Sampson, Leigh Whann...   \n",
       "1  Lauren Wolkstein (director); Christopher Radcliff (co-director/screenplay); Alex Pettyfer, ...   \n",
       "2  Simon West (director); Duncan Falconer, Warren Davis II (screenplay); Dominic Cooper, Austi...   \n",
       "3  Warwick Thornton (director); David Tranter, Steven McGregor (screenplay); Bryan Brown, Sam ...   \n",
       "4  Jaume Collet-Serra (director); Byron Willinger, Philip de Blasi (screenplay); Liam Neeson, ...   \n",
       "\n",
       "  Ref.  \n",
       "0  [2]  \n",
       "1  [3]  \n",
       "2  [4]  \n",
       "3  [5]  \n",
       "4  [6]  "
      ]
     },
     "execution_count": 79,
     "metadata": {},
     "output_type": "execute_result"
    }
   ],
   "source": [
    "df.head()"
   ]
  },
  {
   "cell_type": "code",
   "execution_count": 80,
   "metadata": {},
   "outputs": [
    {
     "data": {
      "text/plain": [
       "(269, 6)"
      ]
     },
     "execution_count": 80,
     "metadata": {},
     "output_type": "execute_result"
    }
   ],
   "source": [
    "df.shape"
   ]
  },
  {
   "cell_type": "code",
   "execution_count": null,
   "metadata": {},
   "outputs": [],
   "source": [
    "\"\"\"\n",
    "1. see here, genres feature not available so we have to collect this feature through one of data collection technique i.e. 'API'\n",
    "2. so lets collect genres feature for \"movie_title\" from TMDB website \"https://www.themoviedb.org/\"\n",
    "3. first of all to communicate TMDB website, create an API, get a key and api request link \"https://api.themoviedb.org/3/movie/{}?api_key={}\":\n",
    "4 then send data collection request to TMDB wessite through key and API request link:\n",
    "5. use smartly a 'tmdbv3api' library that contain entire data of TMDB website, we need only movie, so import movie\n",
    "from this library, search our movie from this and fetch only 'geners'. data in json form\"\"\"\n",
    "\"\"\""
   ]
  },
  {
   "cell_type": "code",
   "execution_count": 2,
   "metadata": {},
   "outputs": [],
   "source": [
    "from tmdbv3api import TMDb\n",
    "tmdb=TMDb()\n",
    "tmdb.api_key='Put here your API_key'       # given api created"
   ]
  },
  {
   "cell_type": "code",
   "execution_count": 3,
   "metadata": {},
   "outputs": [],
   "source": [
    "from tmdbv3api import Movie\n",
    "movie=Movie()"
   ]
  },
  {
   "cell_type": "code",
   "execution_count": 4,
   "metadata": {},
   "outputs": [],
   "source": [
    "import json\n",
    "import requests"
   ]
  },
  {
   "cell_type": "code",
   "execution_count": 354,
   "metadata": {},
   "outputs": [],
   "source": [
    "# lets make a function to get genres:\n",
    "def get_genres(x):\n",
    "    genres=[]\n",
    "    result=movie.search(x)       # search our movie_title name from movie \n",
    "    movie_id=result[0].id        # get first movie id\n",
    "    response=requests.get('https://api.themoviedb.org/3/movie/{}?api_key={}'.format(movie_id,tmdb.api_key)) # sent request with movie_id and API key to IMDB website:\n",
    "    # url got from tmdb web \"https://www.themoviedb.org/settings/api\", this is API request link\n",
    "    data_json=response.json()  # data received in json format.\n",
    "    if data_json['genres']:         # if found genre in json data, convert it into string.\n",
    "        genres_str=' '\n",
    "        for i in range(0,len(data_json['genres'])):  # combined the genres name with list 'genres'\n",
    "            genres.append(data_json['genres'][i]['name'])\n",
    "        return genres_str.join(genres)\n",
    "    else:\n",
    "        return np.NaN"
   ]
  },
  {
   "cell_type": "code",
   "execution_count": 85,
   "metadata": {},
   "outputs": [],
   "source": [
    "# lets map function 'get_genres' with 'Title' feature present in df: it may take some time\n",
    "df['genres'] = df['Title'].map(lambda x: get_genres(str(x)))"
   ]
  },
  {
   "cell_type": "code",
   "execution_count": 86,
   "metadata": {},
   "outputs": [
    {
     "data": {
      "text/html": [
       "<div>\n",
       "<style scoped>\n",
       "    .dataframe tbody tr th:only-of-type {\n",
       "        vertical-align: middle;\n",
       "    }\n",
       "\n",
       "    .dataframe tbody tr th {\n",
       "        vertical-align: top;\n",
       "    }\n",
       "\n",
       "    .dataframe thead th {\n",
       "        text-align: right;\n",
       "    }\n",
       "</style>\n",
       "<table border=\"1\" class=\"dataframe\">\n",
       "  <thead>\n",
       "    <tr style=\"text-align: right;\">\n",
       "      <th></th>\n",
       "      <th>Opening</th>\n",
       "      <th>Opening.1</th>\n",
       "      <th>Title</th>\n",
       "      <th>Production company</th>\n",
       "      <th>Cast and crew</th>\n",
       "      <th>Ref.</th>\n",
       "      <th>genres</th>\n",
       "    </tr>\n",
       "  </thead>\n",
       "  <tbody>\n",
       "    <tr>\n",
       "      <th>0</th>\n",
       "      <td>JANUARY</td>\n",
       "      <td>5</td>\n",
       "      <td>Insidious: The Last Key</td>\n",
       "      <td>Universal Pictures / Blumhouse Productions / Stage 6 Films</td>\n",
       "      <td>Adam Robitel (director); Leigh Whannell (screenplay); Lin Shaye, Angus Sampson, Leigh Whann...</td>\n",
       "      <td>[2]</td>\n",
       "      <td>Horror Mystery Thriller</td>\n",
       "    </tr>\n",
       "    <tr>\n",
       "      <th>1</th>\n",
       "      <td>JANUARY</td>\n",
       "      <td>5</td>\n",
       "      <td>The Strange Ones</td>\n",
       "      <td>Vertical Entertainment</td>\n",
       "      <td>Lauren Wolkstein (director); Christopher Radcliff (co-director/screenplay); Alex Pettyfer, ...</td>\n",
       "      <td>[3]</td>\n",
       "      <td>Thriller Drama</td>\n",
       "    </tr>\n",
       "    <tr>\n",
       "      <th>2</th>\n",
       "      <td>JANUARY</td>\n",
       "      <td>5</td>\n",
       "      <td>Stratton</td>\n",
       "      <td>Momentum Pictures</td>\n",
       "      <td>Simon West (director); Duncan Falconer, Warren Davis II (screenplay); Dominic Cooper, Austi...</td>\n",
       "      <td>[4]</td>\n",
       "      <td>Action Thriller</td>\n",
       "    </tr>\n",
       "  </tbody>\n",
       "</table>\n",
       "</div>"
      ],
      "text/plain": [
       "   Opening  Opening.1                    Title  \\\n",
       "0  JANUARY          5  Insidious: The Last Key   \n",
       "1  JANUARY          5         The Strange Ones   \n",
       "2  JANUARY          5                 Stratton   \n",
       "\n",
       "                                           Production company  \\\n",
       "0  Universal Pictures / Blumhouse Productions / Stage 6 Films   \n",
       "1                                      Vertical Entertainment   \n",
       "2                                           Momentum Pictures   \n",
       "\n",
       "                                                                                    Cast and crew  \\\n",
       "0  Adam Robitel (director); Leigh Whannell (screenplay); Lin Shaye, Angus Sampson, Leigh Whann...   \n",
       "1  Lauren Wolkstein (director); Christopher Radcliff (co-director/screenplay); Alex Pettyfer, ...   \n",
       "2  Simon West (director); Duncan Falconer, Warren Davis II (screenplay); Dominic Cooper, Austi...   \n",
       "\n",
       "  Ref.                   genres  \n",
       "0  [2]  Horror Mystery Thriller  \n",
       "1  [3]           Thriller Drama  \n",
       "2  [4]          Action Thriller  "
      ]
     },
     "execution_count": 86,
     "metadata": {},
     "output_type": "execute_result"
    }
   ],
   "source": [
    "df.head(3)"
   ]
  },
  {
   "cell_type": "code",
   "execution_count": 87,
   "metadata": {},
   "outputs": [
    {
     "data": {
      "text/html": [
       "<div>\n",
       "<style scoped>\n",
       "    .dataframe tbody tr th:only-of-type {\n",
       "        vertical-align: middle;\n",
       "    }\n",
       "\n",
       "    .dataframe tbody tr th {\n",
       "        vertical-align: top;\n",
       "    }\n",
       "\n",
       "    .dataframe thead th {\n",
       "        text-align: right;\n",
       "    }\n",
       "</style>\n",
       "<table border=\"1\" class=\"dataframe\">\n",
       "  <thead>\n",
       "    <tr style=\"text-align: right;\">\n",
       "      <th></th>\n",
       "      <th>Title</th>\n",
       "      <th>Cast and crew</th>\n",
       "      <th>genres</th>\n",
       "    </tr>\n",
       "  </thead>\n",
       "  <tbody>\n",
       "    <tr>\n",
       "      <th>0</th>\n",
       "      <td>Insidious: The Last Key</td>\n",
       "      <td>Adam Robitel (director); Leigh Whannell (screenplay); Lin Shaye, Angus Sampson, Leigh Whann...</td>\n",
       "      <td>Horror Mystery Thriller</td>\n",
       "    </tr>\n",
       "    <tr>\n",
       "      <th>1</th>\n",
       "      <td>The Strange Ones</td>\n",
       "      <td>Lauren Wolkstein (director); Christopher Radcliff (co-director/screenplay); Alex Pettyfer, ...</td>\n",
       "      <td>Thriller Drama</td>\n",
       "    </tr>\n",
       "    <tr>\n",
       "      <th>2</th>\n",
       "      <td>Stratton</td>\n",
       "      <td>Simon West (director); Duncan Falconer, Warren Davis II (screenplay); Dominic Cooper, Austi...</td>\n",
       "      <td>Action Thriller</td>\n",
       "    </tr>\n",
       "    <tr>\n",
       "      <th>3</th>\n",
       "      <td>Sweet Country</td>\n",
       "      <td>Warwick Thornton (director); David Tranter, Steven McGregor (screenplay); Bryan Brown, Sam ...</td>\n",
       "      <td>Drama History Western</td>\n",
       "    </tr>\n",
       "    <tr>\n",
       "      <th>4</th>\n",
       "      <td>The Commuter</td>\n",
       "      <td>Jaume Collet-Serra (director); Byron Willinger, Philip de Blasi (screenplay); Liam Neeson, ...</td>\n",
       "      <td>Action Thriller</td>\n",
       "    </tr>\n",
       "  </tbody>\n",
       "</table>\n",
       "</div>"
      ],
      "text/plain": [
       "                     Title  \\\n",
       "0  Insidious: The Last Key   \n",
       "1         The Strange Ones   \n",
       "2                 Stratton   \n",
       "3            Sweet Country   \n",
       "4             The Commuter   \n",
       "\n",
       "                                                                                    Cast and crew  \\\n",
       "0  Adam Robitel (director); Leigh Whannell (screenplay); Lin Shaye, Angus Sampson, Leigh Whann...   \n",
       "1  Lauren Wolkstein (director); Christopher Radcliff (co-director/screenplay); Alex Pettyfer, ...   \n",
       "2  Simon West (director); Duncan Falconer, Warren Davis II (screenplay); Dominic Cooper, Austi...   \n",
       "3  Warwick Thornton (director); David Tranter, Steven McGregor (screenplay); Bryan Brown, Sam ...   \n",
       "4  Jaume Collet-Serra (director); Byron Willinger, Philip de Blasi (screenplay); Liam Neeson, ...   \n",
       "\n",
       "                    genres  \n",
       "0  Horror Mystery Thriller  \n",
       "1           Thriller Drama  \n",
       "2          Action Thriller  \n",
       "3    Drama History Western  \n",
       "4          Action Thriller  "
      ]
     },
     "execution_count": 87,
     "metadata": {},
     "output_type": "execute_result"
    }
   ],
   "source": [
    "# lets collect the important features as per data 'new.csv':\n",
    "data_2018=df.loc[:,['Title','Cast and crew','genres']]\n",
    "data_2018.head()"
   ]
  },
  {
   "cell_type": "code",
   "execution_count": 94,
   "metadata": {},
   "outputs": [],
   "source": [
    "# now i need to fetch director name, actor_1/_2/_3 name from cast and crew."
   ]
  },
  {
   "cell_type": "code",
   "execution_count": 88,
   "metadata": {},
   "outputs": [],
   "source": [
    "# lets make a function to get directors name from 'Cast and crew' feature\n",
    "def get_director(x):\n",
    "    if \" (director)\" in x:\n",
    "        return x.split(\" (director)\")[0]    #split by (director) and taking first name:\n",
    "    elif \" (directors)\" in x:\n",
    "        return x.split(\" (directors)\")[0]\n",
    "    else:\n",
    "        return x.split(\" (director/screenplay)\")[0]"
   ]
  },
  {
   "cell_type": "code",
   "execution_count": 89,
   "metadata": {},
   "outputs": [],
   "source": [
    "# lets add new feature 'director_name' by mapping function 'get_director' with 'Cast and crew' feature:\n",
    "data_2018['director_name']=data_2018['Cast and crew'].map(lambda x: get_director(x))"
   ]
  },
  {
   "cell_type": "code",
   "execution_count": 90,
   "metadata": {
    "scrolled": true
   },
   "outputs": [
    {
     "data": {
      "text/html": [
       "<div>\n",
       "<style scoped>\n",
       "    .dataframe tbody tr th:only-of-type {\n",
       "        vertical-align: middle;\n",
       "    }\n",
       "\n",
       "    .dataframe tbody tr th {\n",
       "        vertical-align: top;\n",
       "    }\n",
       "\n",
       "    .dataframe thead th {\n",
       "        text-align: right;\n",
       "    }\n",
       "</style>\n",
       "<table border=\"1\" class=\"dataframe\">\n",
       "  <thead>\n",
       "    <tr style=\"text-align: right;\">\n",
       "      <th></th>\n",
       "      <th>Title</th>\n",
       "      <th>Cast and crew</th>\n",
       "      <th>genres</th>\n",
       "      <th>director_name</th>\n",
       "    </tr>\n",
       "  </thead>\n",
       "  <tbody>\n",
       "    <tr>\n",
       "      <th>0</th>\n",
       "      <td>Insidious: The Last Key</td>\n",
       "      <td>Adam Robitel (director); Leigh Whannell (screenplay); Lin Shaye, Angus Sampson, Leigh Whann...</td>\n",
       "      <td>Horror Mystery Thriller</td>\n",
       "      <td>Adam Robitel</td>\n",
       "    </tr>\n",
       "    <tr>\n",
       "      <th>1</th>\n",
       "      <td>The Strange Ones</td>\n",
       "      <td>Lauren Wolkstein (director); Christopher Radcliff (co-director/screenplay); Alex Pettyfer, ...</td>\n",
       "      <td>Thriller Drama</td>\n",
       "      <td>Lauren Wolkstein</td>\n",
       "    </tr>\n",
       "    <tr>\n",
       "      <th>2</th>\n",
       "      <td>Stratton</td>\n",
       "      <td>Simon West (director); Duncan Falconer, Warren Davis II (screenplay); Dominic Cooper, Austi...</td>\n",
       "      <td>Action Thriller</td>\n",
       "      <td>Simon West</td>\n",
       "    </tr>\n",
       "  </tbody>\n",
       "</table>\n",
       "</div>"
      ],
      "text/plain": [
       "                     Title  \\\n",
       "0  Insidious: The Last Key   \n",
       "1         The Strange Ones   \n",
       "2                 Stratton   \n",
       "\n",
       "                                                                                    Cast and crew  \\\n",
       "0  Adam Robitel (director); Leigh Whannell (screenplay); Lin Shaye, Angus Sampson, Leigh Whann...   \n",
       "1  Lauren Wolkstein (director); Christopher Radcliff (co-director/screenplay); Alex Pettyfer, ...   \n",
       "2  Simon West (director); Duncan Falconer, Warren Davis II (screenplay); Dominic Cooper, Austi...   \n",
       "\n",
       "                    genres     director_name  \n",
       "0  Horror Mystery Thriller      Adam Robitel  \n",
       "1           Thriller Drama  Lauren Wolkstein  \n",
       "2          Action Thriller        Simon West  "
      ]
     },
     "execution_count": 90,
     "metadata": {},
     "output_type": "execute_result"
    }
   ],
   "source": [
    "data_2018.head(3)"
   ]
  },
  {
   "cell_type": "code",
   "execution_count": 91,
   "metadata": {},
   "outputs": [],
   "source": [
    "def get_actor1(x):\n",
    "    return(x.split('screenplay);')[-1].split(','))[0]"
   ]
  },
  {
   "cell_type": "code",
   "execution_count": 92,
   "metadata": {},
   "outputs": [],
   "source": [
    "data_2018['actor_1_name']=data_2018['Cast and crew'].map(lambda x: get_actor1(x))"
   ]
  },
  {
   "cell_type": "code",
   "execution_count": 93,
   "metadata": {},
   "outputs": [
    {
     "data": {
      "text/html": [
       "<div>\n",
       "<style scoped>\n",
       "    .dataframe tbody tr th:only-of-type {\n",
       "        vertical-align: middle;\n",
       "    }\n",
       "\n",
       "    .dataframe tbody tr th {\n",
       "        vertical-align: top;\n",
       "    }\n",
       "\n",
       "    .dataframe thead th {\n",
       "        text-align: right;\n",
       "    }\n",
       "</style>\n",
       "<table border=\"1\" class=\"dataframe\">\n",
       "  <thead>\n",
       "    <tr style=\"text-align: right;\">\n",
       "      <th></th>\n",
       "      <th>Title</th>\n",
       "      <th>Cast and crew</th>\n",
       "      <th>genres</th>\n",
       "      <th>director_name</th>\n",
       "      <th>actor_1_name</th>\n",
       "    </tr>\n",
       "  </thead>\n",
       "  <tbody>\n",
       "    <tr>\n",
       "      <th>0</th>\n",
       "      <td>Insidious: The Last Key</td>\n",
       "      <td>Adam Robitel (director); Leigh Whannell (screenplay); Lin Shaye, Angus Sampson, Leigh Whann...</td>\n",
       "      <td>Horror Mystery Thriller</td>\n",
       "      <td>Adam Robitel</td>\n",
       "      <td>Lin Shaye</td>\n",
       "    </tr>\n",
       "    <tr>\n",
       "      <th>1</th>\n",
       "      <td>The Strange Ones</td>\n",
       "      <td>Lauren Wolkstein (director); Christopher Radcliff (co-director/screenplay); Alex Pettyfer, ...</td>\n",
       "      <td>Thriller Drama</td>\n",
       "      <td>Lauren Wolkstein</td>\n",
       "      <td>Alex Pettyfer</td>\n",
       "    </tr>\n",
       "    <tr>\n",
       "      <th>2</th>\n",
       "      <td>Stratton</td>\n",
       "      <td>Simon West (director); Duncan Falconer, Warren Davis II (screenplay); Dominic Cooper, Austi...</td>\n",
       "      <td>Action Thriller</td>\n",
       "      <td>Simon West</td>\n",
       "      <td>Dominic Cooper</td>\n",
       "    </tr>\n",
       "  </tbody>\n",
       "</table>\n",
       "</div>"
      ],
      "text/plain": [
       "                     Title  \\\n",
       "0  Insidious: The Last Key   \n",
       "1         The Strange Ones   \n",
       "2                 Stratton   \n",
       "\n",
       "                                                                                    Cast and crew  \\\n",
       "0  Adam Robitel (director); Leigh Whannell (screenplay); Lin Shaye, Angus Sampson, Leigh Whann...   \n",
       "1  Lauren Wolkstein (director); Christopher Radcliff (co-director/screenplay); Alex Pettyfer, ...   \n",
       "2  Simon West (director); Duncan Falconer, Warren Davis II (screenplay); Dominic Cooper, Austi...   \n",
       "\n",
       "                    genres     director_name     actor_1_name  \n",
       "0  Horror Mystery Thriller      Adam Robitel        Lin Shaye  \n",
       "1           Thriller Drama  Lauren Wolkstein    Alex Pettyfer  \n",
       "2          Action Thriller        Simon West   Dominic Cooper  "
      ]
     },
     "execution_count": 93,
     "metadata": {},
     "output_type": "execute_result"
    }
   ],
   "source": [
    "data_2018.head(3)"
   ]
  },
  {
   "cell_type": "code",
   "execution_count": 94,
   "metadata": {},
   "outputs": [],
   "source": [
    "def get_actor2(x):\n",
    "    if len(x.split('screenplay);')[-1].split(','))<2:\n",
    "        return np.NaN\n",
    "    else:\n",
    "        return(x.split('screenplay);')[-1].split(','))[1]"
   ]
  },
  {
   "cell_type": "code",
   "execution_count": 95,
   "metadata": {},
   "outputs": [],
   "source": [
    "data_2018['actor_2_name']=data_2018['Cast and crew'].map(lambda x: get_actor2(x))"
   ]
  },
  {
   "cell_type": "code",
   "execution_count": 96,
   "metadata": {},
   "outputs": [
    {
     "data": {
      "text/html": [
       "<div>\n",
       "<style scoped>\n",
       "    .dataframe tbody tr th:only-of-type {\n",
       "        vertical-align: middle;\n",
       "    }\n",
       "\n",
       "    .dataframe tbody tr th {\n",
       "        vertical-align: top;\n",
       "    }\n",
       "\n",
       "    .dataframe thead th {\n",
       "        text-align: right;\n",
       "    }\n",
       "</style>\n",
       "<table border=\"1\" class=\"dataframe\">\n",
       "  <thead>\n",
       "    <tr style=\"text-align: right;\">\n",
       "      <th></th>\n",
       "      <th>Title</th>\n",
       "      <th>Cast and crew</th>\n",
       "      <th>genres</th>\n",
       "      <th>director_name</th>\n",
       "      <th>actor_1_name</th>\n",
       "      <th>actor_2_name</th>\n",
       "    </tr>\n",
       "  </thead>\n",
       "  <tbody>\n",
       "    <tr>\n",
       "      <th>0</th>\n",
       "      <td>Insidious: The Last Key</td>\n",
       "      <td>Adam Robitel (director); Leigh Whannell (screenplay); Lin Shaye, Angus Sampson, Leigh Whann...</td>\n",
       "      <td>Horror Mystery Thriller</td>\n",
       "      <td>Adam Robitel</td>\n",
       "      <td>Lin Shaye</td>\n",
       "      <td>Angus Sampson</td>\n",
       "    </tr>\n",
       "    <tr>\n",
       "      <th>1</th>\n",
       "      <td>The Strange Ones</td>\n",
       "      <td>Lauren Wolkstein (director); Christopher Radcliff (co-director/screenplay); Alex Pettyfer, ...</td>\n",
       "      <td>Thriller Drama</td>\n",
       "      <td>Lauren Wolkstein</td>\n",
       "      <td>Alex Pettyfer</td>\n",
       "      <td>James Freedson-Jackson</td>\n",
       "    </tr>\n",
       "    <tr>\n",
       "      <th>2</th>\n",
       "      <td>Stratton</td>\n",
       "      <td>Simon West (director); Duncan Falconer, Warren Davis II (screenplay); Dominic Cooper, Austi...</td>\n",
       "      <td>Action Thriller</td>\n",
       "      <td>Simon West</td>\n",
       "      <td>Dominic Cooper</td>\n",
       "      <td>Austin Stowell</td>\n",
       "    </tr>\n",
       "  </tbody>\n",
       "</table>\n",
       "</div>"
      ],
      "text/plain": [
       "                     Title  \\\n",
       "0  Insidious: The Last Key   \n",
       "1         The Strange Ones   \n",
       "2                 Stratton   \n",
       "\n",
       "                                                                                    Cast and crew  \\\n",
       "0  Adam Robitel (director); Leigh Whannell (screenplay); Lin Shaye, Angus Sampson, Leigh Whann...   \n",
       "1  Lauren Wolkstein (director); Christopher Radcliff (co-director/screenplay); Alex Pettyfer, ...   \n",
       "2  Simon West (director); Duncan Falconer, Warren Davis II (screenplay); Dominic Cooper, Austi...   \n",
       "\n",
       "                    genres     director_name     actor_1_name  \\\n",
       "0  Horror Mystery Thriller      Adam Robitel        Lin Shaye   \n",
       "1           Thriller Drama  Lauren Wolkstein    Alex Pettyfer   \n",
       "2          Action Thriller        Simon West   Dominic Cooper   \n",
       "\n",
       "              actor_2_name  \n",
       "0            Angus Sampson  \n",
       "1   James Freedson-Jackson  \n",
       "2           Austin Stowell  "
      ]
     },
     "execution_count": 96,
     "metadata": {},
     "output_type": "execute_result"
    }
   ],
   "source": [
    "data_2018.head(3)"
   ]
  },
  {
   "cell_type": "code",
   "execution_count": 97,
   "metadata": {},
   "outputs": [],
   "source": [
    "def get_actor3(x):\n",
    "    if len(x.split('screenplay);')[-1].split(','))<3:\n",
    "        return np.NaN\n",
    "    else:\n",
    "        return (x.split('screenplay);')[-1].split(','))[2]"
   ]
  },
  {
   "cell_type": "code",
   "execution_count": 98,
   "metadata": {},
   "outputs": [],
   "source": [
    "data_2018['actor_3_name']=data_2018['Cast and crew'].map(lambda x: get_actor3(x))"
   ]
  },
  {
   "cell_type": "code",
   "execution_count": 99,
   "metadata": {},
   "outputs": [
    {
     "data": {
      "text/html": [
       "<div>\n",
       "<style scoped>\n",
       "    .dataframe tbody tr th:only-of-type {\n",
       "        vertical-align: middle;\n",
       "    }\n",
       "\n",
       "    .dataframe tbody tr th {\n",
       "        vertical-align: top;\n",
       "    }\n",
       "\n",
       "    .dataframe thead th {\n",
       "        text-align: right;\n",
       "    }\n",
       "</style>\n",
       "<table border=\"1\" class=\"dataframe\">\n",
       "  <thead>\n",
       "    <tr style=\"text-align: right;\">\n",
       "      <th></th>\n",
       "      <th>Title</th>\n",
       "      <th>Cast and crew</th>\n",
       "      <th>genres</th>\n",
       "      <th>director_name</th>\n",
       "      <th>actor_1_name</th>\n",
       "      <th>actor_2_name</th>\n",
       "      <th>actor_3_name</th>\n",
       "    </tr>\n",
       "  </thead>\n",
       "  <tbody>\n",
       "    <tr>\n",
       "      <th>0</th>\n",
       "      <td>Insidious: The Last Key</td>\n",
       "      <td>Adam Robitel (director); Leigh Whannell (screenplay); Lin Shaye, Angus Sampson, Leigh Whann...</td>\n",
       "      <td>Horror Mystery Thriller</td>\n",
       "      <td>Adam Robitel</td>\n",
       "      <td>Lin Shaye</td>\n",
       "      <td>Angus Sampson</td>\n",
       "      <td>Leigh Whannell</td>\n",
       "    </tr>\n",
       "    <tr>\n",
       "      <th>1</th>\n",
       "      <td>The Strange Ones</td>\n",
       "      <td>Lauren Wolkstein (director); Christopher Radcliff (co-director/screenplay); Alex Pettyfer, ...</td>\n",
       "      <td>Thriller Drama</td>\n",
       "      <td>Lauren Wolkstein</td>\n",
       "      <td>Alex Pettyfer</td>\n",
       "      <td>James Freedson-Jackson</td>\n",
       "      <td>Emily Althaus</td>\n",
       "    </tr>\n",
       "    <tr>\n",
       "      <th>2</th>\n",
       "      <td>Stratton</td>\n",
       "      <td>Simon West (director); Duncan Falconer, Warren Davis II (screenplay); Dominic Cooper, Austi...</td>\n",
       "      <td>Action Thriller</td>\n",
       "      <td>Simon West</td>\n",
       "      <td>Dominic Cooper</td>\n",
       "      <td>Austin Stowell</td>\n",
       "      <td>Gemma Chan</td>\n",
       "    </tr>\n",
       "    <tr>\n",
       "      <th>3</th>\n",
       "      <td>Sweet Country</td>\n",
       "      <td>Warwick Thornton (director); David Tranter, Steven McGregor (screenplay); Bryan Brown, Sam ...</td>\n",
       "      <td>Drama History Western</td>\n",
       "      <td>Warwick Thornton</td>\n",
       "      <td>Bryan Brown</td>\n",
       "      <td>Sam Neill</td>\n",
       "      <td>NaN</td>\n",
       "    </tr>\n",
       "    <tr>\n",
       "      <th>4</th>\n",
       "      <td>The Commuter</td>\n",
       "      <td>Jaume Collet-Serra (director); Byron Willinger, Philip de Blasi (screenplay); Liam Neeson, ...</td>\n",
       "      <td>Action Thriller</td>\n",
       "      <td>Jaume Collet-Serra</td>\n",
       "      <td>Liam Neeson</td>\n",
       "      <td>Vera Farmiga</td>\n",
       "      <td>Patrick Wilson</td>\n",
       "    </tr>\n",
       "  </tbody>\n",
       "</table>\n",
       "</div>"
      ],
      "text/plain": [
       "                     Title  \\\n",
       "0  Insidious: The Last Key   \n",
       "1         The Strange Ones   \n",
       "2                 Stratton   \n",
       "3            Sweet Country   \n",
       "4             The Commuter   \n",
       "\n",
       "                                                                                    Cast and crew  \\\n",
       "0  Adam Robitel (director); Leigh Whannell (screenplay); Lin Shaye, Angus Sampson, Leigh Whann...   \n",
       "1  Lauren Wolkstein (director); Christopher Radcliff (co-director/screenplay); Alex Pettyfer, ...   \n",
       "2  Simon West (director); Duncan Falconer, Warren Davis II (screenplay); Dominic Cooper, Austi...   \n",
       "3  Warwick Thornton (director); David Tranter, Steven McGregor (screenplay); Bryan Brown, Sam ...   \n",
       "4  Jaume Collet-Serra (director); Byron Willinger, Philip de Blasi (screenplay); Liam Neeson, ...   \n",
       "\n",
       "                    genres       director_name     actor_1_name  \\\n",
       "0  Horror Mystery Thriller        Adam Robitel        Lin Shaye   \n",
       "1           Thriller Drama    Lauren Wolkstein    Alex Pettyfer   \n",
       "2          Action Thriller          Simon West   Dominic Cooper   \n",
       "3    Drama History Western    Warwick Thornton      Bryan Brown   \n",
       "4          Action Thriller  Jaume Collet-Serra      Liam Neeson   \n",
       "\n",
       "              actor_2_name     actor_3_name  \n",
       "0            Angus Sampson   Leigh Whannell  \n",
       "1   James Freedson-Jackson    Emily Althaus  \n",
       "2           Austin Stowell       Gemma Chan  \n",
       "3                Sam Neill              NaN  \n",
       "4             Vera Farmiga   Patrick Wilson  "
      ]
     },
     "execution_count": 99,
     "metadata": {},
     "output_type": "execute_result"
    }
   ],
   "source": [
    "data_2018.head()"
   ]
  },
  {
   "cell_type": "code",
   "execution_count": 100,
   "metadata": {},
   "outputs": [],
   "source": [
    "# lets rename the features matiching with data 'new.csv':\n",
    "data_2018=data_2018.rename(columns={'Title':'movie_title'})"
   ]
  },
  {
   "cell_type": "code",
   "execution_count": 101,
   "metadata": {},
   "outputs": [],
   "source": [
    "# lets collect only the important features matiching with data 'new.csv':\n",
    "data_2018=data_2018.loc[:,['director_name','actor_1_name','actor_2_name','actor_3_name','genres','movie_title']]"
   ]
  },
  {
   "cell_type": "code",
   "execution_count": 102,
   "metadata": {},
   "outputs": [],
   "source": [
    "# lets lower case the movie_title:\n",
    "data_2018['movie_title']=data_2018['movie_title'].str.lower()"
   ]
  },
  {
   "cell_type": "code",
   "execution_count": 103,
   "metadata": {},
   "outputs": [
    {
     "data": {
      "text/plain": [
       "director_name     0\n",
       "actor_1_name      0\n",
       "actor_2_name      9\n",
       "actor_3_name     26\n",
       "genres            3\n",
       "movie_title       0\n",
       "dtype: int64"
      ]
     },
     "execution_count": 103,
     "metadata": {},
     "output_type": "execute_result"
    }
   ],
   "source": [
    "# lets hadled the missing values:\n",
    "data_2018.isnull().sum()"
   ]
  },
  {
   "cell_type": "code",
   "execution_count": 104,
   "metadata": {},
   "outputs": [],
   "source": [
    "# lets replace missing values with 'Unknown':\n",
    "data_2018['actor_2_name']=data_2018.actor_2_name.replace(to_replace=np.nan, value='Unknown')\n",
    "data_2018['actor_3_name']=data_2018.actor_3_name.replace(to_replace=np.nan, value='Unknown')"
   ]
  },
  {
   "cell_type": "code",
   "execution_count": 105,
   "metadata": {},
   "outputs": [],
   "source": [
    "data_2018['Combinations']=data_2018['actor_1_name']+', '+data_2018['actor_2_name']+', '+data_2018['actor_3_name']+', '+data_2018['director_name']+', '+data_2018['genres']"
   ]
  },
  {
   "cell_type": "code",
   "execution_count": 106,
   "metadata": {},
   "outputs": [
    {
     "data": {
      "text/html": [
       "<div>\n",
       "<style scoped>\n",
       "    .dataframe tbody tr th:only-of-type {\n",
       "        vertical-align: middle;\n",
       "    }\n",
       "\n",
       "    .dataframe tbody tr th {\n",
       "        vertical-align: top;\n",
       "    }\n",
       "\n",
       "    .dataframe thead th {\n",
       "        text-align: right;\n",
       "    }\n",
       "</style>\n",
       "<table border=\"1\" class=\"dataframe\">\n",
       "  <thead>\n",
       "    <tr style=\"text-align: right;\">\n",
       "      <th></th>\n",
       "      <th>director_name</th>\n",
       "      <th>actor_1_name</th>\n",
       "      <th>actor_2_name</th>\n",
       "      <th>actor_3_name</th>\n",
       "      <th>genres</th>\n",
       "      <th>movie_title</th>\n",
       "      <th>Combinations</th>\n",
       "    </tr>\n",
       "  </thead>\n",
       "  <tbody>\n",
       "    <tr>\n",
       "      <th>0</th>\n",
       "      <td>Adam Robitel</td>\n",
       "      <td>Lin Shaye</td>\n",
       "      <td>Angus Sampson</td>\n",
       "      <td>Leigh Whannell</td>\n",
       "      <td>Horror Mystery Thriller</td>\n",
       "      <td>insidious: the last key</td>\n",
       "      <td>Lin Shaye,  Angus Sampson,  Leigh Whannell, Adam Robitel, Horror Mystery Thriller</td>\n",
       "    </tr>\n",
       "    <tr>\n",
       "      <th>1</th>\n",
       "      <td>Lauren Wolkstein</td>\n",
       "      <td>Alex Pettyfer</td>\n",
       "      <td>James Freedson-Jackson</td>\n",
       "      <td>Emily Althaus</td>\n",
       "      <td>Thriller Drama</td>\n",
       "      <td>the strange ones</td>\n",
       "      <td>Alex Pettyfer,  James Freedson-Jackson,  Emily Althaus, Lauren Wolkstein, Thriller Drama</td>\n",
       "    </tr>\n",
       "    <tr>\n",
       "      <th>2</th>\n",
       "      <td>Simon West</td>\n",
       "      <td>Dominic Cooper</td>\n",
       "      <td>Austin Stowell</td>\n",
       "      <td>Gemma Chan</td>\n",
       "      <td>Action Thriller</td>\n",
       "      <td>stratton</td>\n",
       "      <td>Dominic Cooper,  Austin Stowell,  Gemma Chan, Simon West, Action Thriller</td>\n",
       "    </tr>\n",
       "    <tr>\n",
       "      <th>3</th>\n",
       "      <td>Warwick Thornton</td>\n",
       "      <td>Bryan Brown</td>\n",
       "      <td>Sam Neill</td>\n",
       "      <td>Unknown</td>\n",
       "      <td>Drama History Western</td>\n",
       "      <td>sweet country</td>\n",
       "      <td>Bryan Brown,  Sam Neill, Unknown, Warwick Thornton, Drama History Western</td>\n",
       "    </tr>\n",
       "    <tr>\n",
       "      <th>4</th>\n",
       "      <td>Jaume Collet-Serra</td>\n",
       "      <td>Liam Neeson</td>\n",
       "      <td>Vera Farmiga</td>\n",
       "      <td>Patrick Wilson</td>\n",
       "      <td>Action Thriller</td>\n",
       "      <td>the commuter</td>\n",
       "      <td>Liam Neeson,  Vera Farmiga,  Patrick Wilson, Jaume Collet-Serra, Action Thriller</td>\n",
       "    </tr>\n",
       "  </tbody>\n",
       "</table>\n",
       "</div>"
      ],
      "text/plain": [
       "        director_name     actor_1_name             actor_2_name  \\\n",
       "0        Adam Robitel        Lin Shaye            Angus Sampson   \n",
       "1    Lauren Wolkstein    Alex Pettyfer   James Freedson-Jackson   \n",
       "2          Simon West   Dominic Cooper           Austin Stowell   \n",
       "3    Warwick Thornton      Bryan Brown                Sam Neill   \n",
       "4  Jaume Collet-Serra      Liam Neeson             Vera Farmiga   \n",
       "\n",
       "      actor_3_name                   genres              movie_title  \\\n",
       "0   Leigh Whannell  Horror Mystery Thriller  insidious: the last key   \n",
       "1    Emily Althaus           Thriller Drama         the strange ones   \n",
       "2       Gemma Chan          Action Thriller                 stratton   \n",
       "3          Unknown    Drama History Western            sweet country   \n",
       "4   Patrick Wilson          Action Thriller             the commuter   \n",
       "\n",
       "                                                                                Combinations  \n",
       "0          Lin Shaye,  Angus Sampson,  Leigh Whannell, Adam Robitel, Horror Mystery Thriller  \n",
       "1   Alex Pettyfer,  James Freedson-Jackson,  Emily Althaus, Lauren Wolkstein, Thriller Drama  \n",
       "2                  Dominic Cooper,  Austin Stowell,  Gemma Chan, Simon West, Action Thriller  \n",
       "3                  Bryan Brown,  Sam Neill, Unknown, Warwick Thornton, Drama History Western  \n",
       "4           Liam Neeson,  Vera Farmiga,  Patrick Wilson, Jaume Collet-Serra, Action Thriller  "
      ]
     },
     "execution_count": 106,
     "metadata": {},
     "output_type": "execute_result"
    }
   ],
   "source": [
    "data_2018.head()"
   ]
  },
  {
   "cell_type": "code",
   "execution_count": null,
   "metadata": {},
   "outputs": [],
   "source": []
  },
  {
   "cell_type": "markdown",
   "metadata": {},
   "source": [
    "# Extracting 2019 movie data in a same way:"
   ]
  },
  {
   "cell_type": "code",
   "execution_count": 134,
   "metadata": {},
   "outputs": [],
   "source": [
    "url_2019='https://en.wikipedia.org/wiki/List_of_American_films_of_2019'\n",
    "df5=pd.read_html(url_2019, header=0)[2]      \n",
    "df6=pd.read_html(url_2019, header=0)[3]\n",
    "df7=pd.read_html(url_2019, header=0)[4]\n",
    "df8=pd.read_html(url_2019, header=0)[5]"
   ]
  },
  {
   "cell_type": "code",
   "execution_count": 135,
   "metadata": {},
   "outputs": [
    {
     "name": "stdout",
     "output_type": "stream",
     "text": [
      "(49, 6) (67, 6) (58, 6) (70, 6)\n"
     ]
    }
   ],
   "source": [
    "print(df5.shape,df6.shape,df7.shape,df8.shape)"
   ]
  },
  {
   "cell_type": "code",
   "execution_count": 136,
   "metadata": {},
   "outputs": [],
   "source": [
    "df_1=pd.concat([df5,df6,df7,df8],axis=0, ignore_index=True)"
   ]
  },
  {
   "cell_type": "code",
   "execution_count": 137,
   "metadata": {
    "scrolled": true
   },
   "outputs": [
    {
     "data": {
      "text/html": [
       "<div>\n",
       "<style scoped>\n",
       "    .dataframe tbody tr th:only-of-type {\n",
       "        vertical-align: middle;\n",
       "    }\n",
       "\n",
       "    .dataframe tbody tr th {\n",
       "        vertical-align: top;\n",
       "    }\n",
       "\n",
       "    .dataframe thead th {\n",
       "        text-align: right;\n",
       "    }\n",
       "</style>\n",
       "<table border=\"1\" class=\"dataframe\">\n",
       "  <thead>\n",
       "    <tr style=\"text-align: right;\">\n",
       "      <th></th>\n",
       "      <th>Opening</th>\n",
       "      <th>Opening.1</th>\n",
       "      <th>Title</th>\n",
       "      <th>Production company</th>\n",
       "      <th>Cast and crew</th>\n",
       "      <th>Ref.</th>\n",
       "    </tr>\n",
       "  </thead>\n",
       "  <tbody>\n",
       "    <tr>\n",
       "      <th>0</th>\n",
       "      <td>JANUARY</td>\n",
       "      <td>4</td>\n",
       "      <td>Escape Room</td>\n",
       "      <td>Columbia Pictures</td>\n",
       "      <td>Adam Robitel (director); Bragi F. Schut, Maria Melnik (screenplay); Taylor Russell, Logan M...</td>\n",
       "      <td>[2]</td>\n",
       "    </tr>\n",
       "    <tr>\n",
       "      <th>1</th>\n",
       "      <td>JANUARY</td>\n",
       "      <td>4</td>\n",
       "      <td>Rust Creek</td>\n",
       "      <td>IFC Films</td>\n",
       "      <td>Jen McGowan (director); Julie Lipson (screenplay); Hermione Corfield, Jay Paulson, Sean O'B...</td>\n",
       "      <td>[3]</td>\n",
       "    </tr>\n",
       "    <tr>\n",
       "      <th>2</th>\n",
       "      <td>JANUARY</td>\n",
       "      <td>4</td>\n",
       "      <td>American Hangman</td>\n",
       "      <td>Hangman Justice Productions</td>\n",
       "      <td>Wilson Coneybeare (director/screenplay); Donald Sutherland, Vincent Kartheiser, Oliver Denn...</td>\n",
       "      <td>[4]</td>\n",
       "    </tr>\n",
       "    <tr>\n",
       "      <th>3</th>\n",
       "      <td>JANUARY</td>\n",
       "      <td>11</td>\n",
       "      <td>A Dog's Way Home</td>\n",
       "      <td>Columbia Pictures</td>\n",
       "      <td>Charles Martin Smith (director); W. Bruce Cameron (screenplay); Bryce Dallas Howard, Edward...</td>\n",
       "      <td>[5]</td>\n",
       "    </tr>\n",
       "    <tr>\n",
       "      <th>4</th>\n",
       "      <td>JANUARY</td>\n",
       "      <td>11</td>\n",
       "      <td>The Upside</td>\n",
       "      <td>STX Entertainment</td>\n",
       "      <td>Neil Burger (director); Jon Hartmere (screenplay); Bryan Cranston, Kevin Hart, Nicole Kidman</td>\n",
       "      <td>[6]</td>\n",
       "    </tr>\n",
       "  </tbody>\n",
       "</table>\n",
       "</div>"
      ],
      "text/plain": [
       "   Opening  Opening.1             Title           Production company  \\\n",
       "0  JANUARY          4       Escape Room            Columbia Pictures   \n",
       "1  JANUARY          4        Rust Creek                    IFC Films   \n",
       "2  JANUARY          4  American Hangman  Hangman Justice Productions   \n",
       "3  JANUARY         11  A Dog's Way Home            Columbia Pictures   \n",
       "4  JANUARY         11        The Upside            STX Entertainment   \n",
       "\n",
       "                                                                                    Cast and crew  \\\n",
       "0  Adam Robitel (director); Bragi F. Schut, Maria Melnik (screenplay); Taylor Russell, Logan M...   \n",
       "1  Jen McGowan (director); Julie Lipson (screenplay); Hermione Corfield, Jay Paulson, Sean O'B...   \n",
       "2  Wilson Coneybeare (director/screenplay); Donald Sutherland, Vincent Kartheiser, Oliver Denn...   \n",
       "3  Charles Martin Smith (director); W. Bruce Cameron (screenplay); Bryce Dallas Howard, Edward...   \n",
       "4    Neil Burger (director); Jon Hartmere (screenplay); Bryan Cranston, Kevin Hart, Nicole Kidman   \n",
       "\n",
       "  Ref.  \n",
       "0  [2]  \n",
       "1  [3]  \n",
       "2  [4]  \n",
       "3  [5]  \n",
       "4  [6]  "
      ]
     },
     "execution_count": 137,
     "metadata": {},
     "output_type": "execute_result"
    }
   ],
   "source": [
    "df_1.head()"
   ]
  },
  {
   "cell_type": "code",
   "execution_count": 138,
   "metadata": {},
   "outputs": [],
   "source": [
    "df_1['genres']=df_1['Title'].map(lambda x: get_genres(str(x)))"
   ]
  },
  {
   "cell_type": "code",
   "execution_count": 139,
   "metadata": {},
   "outputs": [],
   "source": [
    "data_2019=df_1.loc[:,['Title','Cast and crew','genres']]"
   ]
  },
  {
   "cell_type": "code",
   "execution_count": 140,
   "metadata": {},
   "outputs": [
    {
     "data": {
      "text/html": [
       "<div>\n",
       "<style scoped>\n",
       "    .dataframe tbody tr th:only-of-type {\n",
       "        vertical-align: middle;\n",
       "    }\n",
       "\n",
       "    .dataframe tbody tr th {\n",
       "        vertical-align: top;\n",
       "    }\n",
       "\n",
       "    .dataframe thead th {\n",
       "        text-align: right;\n",
       "    }\n",
       "</style>\n",
       "<table border=\"1\" class=\"dataframe\">\n",
       "  <thead>\n",
       "    <tr style=\"text-align: right;\">\n",
       "      <th></th>\n",
       "      <th>Title</th>\n",
       "      <th>Cast and crew</th>\n",
       "      <th>genres</th>\n",
       "    </tr>\n",
       "  </thead>\n",
       "  <tbody>\n",
       "    <tr>\n",
       "      <th>0</th>\n",
       "      <td>Escape Room</td>\n",
       "      <td>Adam Robitel (director); Bragi F. Schut, Maria Melnik (screenplay); Taylor Russell, Logan M...</td>\n",
       "      <td>Thriller Action Mystery Adventure Horror</td>\n",
       "    </tr>\n",
       "    <tr>\n",
       "      <th>1</th>\n",
       "      <td>Rust Creek</td>\n",
       "      <td>Jen McGowan (director); Julie Lipson (screenplay); Hermione Corfield, Jay Paulson, Sean O'B...</td>\n",
       "      <td>Thriller Drama</td>\n",
       "    </tr>\n",
       "    <tr>\n",
       "      <th>2</th>\n",
       "      <td>American Hangman</td>\n",
       "      <td>Wilson Coneybeare (director/screenplay); Donald Sutherland, Vincent Kartheiser, Oliver Denn...</td>\n",
       "      <td>Thriller</td>\n",
       "    </tr>\n",
       "    <tr>\n",
       "      <th>3</th>\n",
       "      <td>A Dog's Way Home</td>\n",
       "      <td>Charles Martin Smith (director); W. Bruce Cameron (screenplay); Bryce Dallas Howard, Edward...</td>\n",
       "      <td>Drama Adventure Family</td>\n",
       "    </tr>\n",
       "    <tr>\n",
       "      <th>4</th>\n",
       "      <td>The Upside</td>\n",
       "      <td>Neil Burger (director); Jon Hartmere (screenplay); Bryan Cranston, Kevin Hart, Nicole Kidman</td>\n",
       "      <td>Comedy Drama</td>\n",
       "    </tr>\n",
       "  </tbody>\n",
       "</table>\n",
       "</div>"
      ],
      "text/plain": [
       "              Title  \\\n",
       "0       Escape Room   \n",
       "1        Rust Creek   \n",
       "2  American Hangman   \n",
       "3  A Dog's Way Home   \n",
       "4        The Upside   \n",
       "\n",
       "                                                                                    Cast and crew  \\\n",
       "0  Adam Robitel (director); Bragi F. Schut, Maria Melnik (screenplay); Taylor Russell, Logan M...   \n",
       "1  Jen McGowan (director); Julie Lipson (screenplay); Hermione Corfield, Jay Paulson, Sean O'B...   \n",
       "2  Wilson Coneybeare (director/screenplay); Donald Sutherland, Vincent Kartheiser, Oliver Denn...   \n",
       "3  Charles Martin Smith (director); W. Bruce Cameron (screenplay); Bryce Dallas Howard, Edward...   \n",
       "4    Neil Burger (director); Jon Hartmere (screenplay); Bryan Cranston, Kevin Hart, Nicole Kidman   \n",
       "\n",
       "                                     genres  \n",
       "0  Thriller Action Mystery Adventure Horror  \n",
       "1                            Thriller Drama  \n",
       "2                                  Thriller  \n",
       "3                    Drama Adventure Family  \n",
       "4                              Comedy Drama  "
      ]
     },
     "execution_count": 140,
     "metadata": {},
     "output_type": "execute_result"
    }
   ],
   "source": [
    "data_2019.head()"
   ]
  },
  {
   "cell_type": "code",
   "execution_count": null,
   "metadata": {},
   "outputs": [],
   "source": [
    "# i have made the function already above, so will use same function here."
   ]
  },
  {
   "cell_type": "code",
   "execution_count": 141,
   "metadata": {},
   "outputs": [],
   "source": [
    "data_2019['director_name']=data_2019['Cast and crew'].map(lambda x: get_director(x))"
   ]
  },
  {
   "cell_type": "code",
   "execution_count": 142,
   "metadata": {},
   "outputs": [
    {
     "data": {
      "text/html": [
       "<div>\n",
       "<style scoped>\n",
       "    .dataframe tbody tr th:only-of-type {\n",
       "        vertical-align: middle;\n",
       "    }\n",
       "\n",
       "    .dataframe tbody tr th {\n",
       "        vertical-align: top;\n",
       "    }\n",
       "\n",
       "    .dataframe thead th {\n",
       "        text-align: right;\n",
       "    }\n",
       "</style>\n",
       "<table border=\"1\" class=\"dataframe\">\n",
       "  <thead>\n",
       "    <tr style=\"text-align: right;\">\n",
       "      <th></th>\n",
       "      <th>Title</th>\n",
       "      <th>Cast and crew</th>\n",
       "      <th>genres</th>\n",
       "      <th>director_name</th>\n",
       "    </tr>\n",
       "  </thead>\n",
       "  <tbody>\n",
       "    <tr>\n",
       "      <th>0</th>\n",
       "      <td>Escape Room</td>\n",
       "      <td>Adam Robitel (director); Bragi F. Schut, Maria Melnik (screenplay); Taylor Russell, Logan M...</td>\n",
       "      <td>Thriller Action Mystery Adventure Horror</td>\n",
       "      <td>Adam Robitel</td>\n",
       "    </tr>\n",
       "    <tr>\n",
       "      <th>1</th>\n",
       "      <td>Rust Creek</td>\n",
       "      <td>Jen McGowan (director); Julie Lipson (screenplay); Hermione Corfield, Jay Paulson, Sean O'B...</td>\n",
       "      <td>Thriller Drama</td>\n",
       "      <td>Jen McGowan</td>\n",
       "    </tr>\n",
       "    <tr>\n",
       "      <th>2</th>\n",
       "      <td>American Hangman</td>\n",
       "      <td>Wilson Coneybeare (director/screenplay); Donald Sutherland, Vincent Kartheiser, Oliver Denn...</td>\n",
       "      <td>Thriller</td>\n",
       "      <td>Wilson Coneybeare</td>\n",
       "    </tr>\n",
       "    <tr>\n",
       "      <th>3</th>\n",
       "      <td>A Dog's Way Home</td>\n",
       "      <td>Charles Martin Smith (director); W. Bruce Cameron (screenplay); Bryce Dallas Howard, Edward...</td>\n",
       "      <td>Drama Adventure Family</td>\n",
       "      <td>Charles Martin Smith</td>\n",
       "    </tr>\n",
       "    <tr>\n",
       "      <th>4</th>\n",
       "      <td>The Upside</td>\n",
       "      <td>Neil Burger (director); Jon Hartmere (screenplay); Bryan Cranston, Kevin Hart, Nicole Kidman</td>\n",
       "      <td>Comedy Drama</td>\n",
       "      <td>Neil Burger</td>\n",
       "    </tr>\n",
       "  </tbody>\n",
       "</table>\n",
       "</div>"
      ],
      "text/plain": [
       "              Title  \\\n",
       "0       Escape Room   \n",
       "1        Rust Creek   \n",
       "2  American Hangman   \n",
       "3  A Dog's Way Home   \n",
       "4        The Upside   \n",
       "\n",
       "                                                                                    Cast and crew  \\\n",
       "0  Adam Robitel (director); Bragi F. Schut, Maria Melnik (screenplay); Taylor Russell, Logan M...   \n",
       "1  Jen McGowan (director); Julie Lipson (screenplay); Hermione Corfield, Jay Paulson, Sean O'B...   \n",
       "2  Wilson Coneybeare (director/screenplay); Donald Sutherland, Vincent Kartheiser, Oliver Denn...   \n",
       "3  Charles Martin Smith (director); W. Bruce Cameron (screenplay); Bryce Dallas Howard, Edward...   \n",
       "4    Neil Burger (director); Jon Hartmere (screenplay); Bryan Cranston, Kevin Hart, Nicole Kidman   \n",
       "\n",
       "                                     genres         director_name  \n",
       "0  Thriller Action Mystery Adventure Horror          Adam Robitel  \n",
       "1                            Thriller Drama           Jen McGowan  \n",
       "2                                  Thriller     Wilson Coneybeare  \n",
       "3                    Drama Adventure Family  Charles Martin Smith  \n",
       "4                              Comedy Drama           Neil Burger  "
      ]
     },
     "execution_count": 142,
     "metadata": {},
     "output_type": "execute_result"
    }
   ],
   "source": [
    "data_2019.head()"
   ]
  },
  {
   "cell_type": "code",
   "execution_count": 143,
   "metadata": {},
   "outputs": [],
   "source": [
    "# lets add new columns by mapping 'Cast and crew' function of data_2019 with previously made functions:\n",
    "data_2019['actor_1_name']=data_2019['Cast and crew'].map(lambda x: get_actor1(x))\n",
    "data_2019['actor_2_name']=data_2019['Cast and crew'].map(lambda x: get_actor2(x))\n",
    "data_2019['actor_3_name']=data_2019['Cast and crew'].map(lambda x: get_actor3(x))"
   ]
  },
  {
   "cell_type": "code",
   "execution_count": 144,
   "metadata": {},
   "outputs": [
    {
     "data": {
      "text/html": [
       "<div>\n",
       "<style scoped>\n",
       "    .dataframe tbody tr th:only-of-type {\n",
       "        vertical-align: middle;\n",
       "    }\n",
       "\n",
       "    .dataframe tbody tr th {\n",
       "        vertical-align: top;\n",
       "    }\n",
       "\n",
       "    .dataframe thead th {\n",
       "        text-align: right;\n",
       "    }\n",
       "</style>\n",
       "<table border=\"1\" class=\"dataframe\">\n",
       "  <thead>\n",
       "    <tr style=\"text-align: right;\">\n",
       "      <th></th>\n",
       "      <th>Title</th>\n",
       "      <th>Cast and crew</th>\n",
       "      <th>genres</th>\n",
       "      <th>director_name</th>\n",
       "      <th>actor_1_name</th>\n",
       "      <th>actor_2_name</th>\n",
       "      <th>actor_3_name</th>\n",
       "    </tr>\n",
       "  </thead>\n",
       "  <tbody>\n",
       "    <tr>\n",
       "      <th>0</th>\n",
       "      <td>Escape Room</td>\n",
       "      <td>Adam Robitel (director); Bragi F. Schut, Maria Melnik (screenplay); Taylor Russell, Logan M...</td>\n",
       "      <td>Thriller Action Mystery Adventure Horror</td>\n",
       "      <td>Adam Robitel</td>\n",
       "      <td>Taylor Russell</td>\n",
       "      <td>Logan Miller</td>\n",
       "      <td>Deborah Ann Woll</td>\n",
       "    </tr>\n",
       "    <tr>\n",
       "      <th>1</th>\n",
       "      <td>Rust Creek</td>\n",
       "      <td>Jen McGowan (director); Julie Lipson (screenplay); Hermione Corfield, Jay Paulson, Sean O'B...</td>\n",
       "      <td>Thriller Drama</td>\n",
       "      <td>Jen McGowan</td>\n",
       "      <td>Hermione Corfield</td>\n",
       "      <td>Jay Paulson</td>\n",
       "      <td>Sean O'Bryan</td>\n",
       "    </tr>\n",
       "    <tr>\n",
       "      <th>2</th>\n",
       "      <td>American Hangman</td>\n",
       "      <td>Wilson Coneybeare (director/screenplay); Donald Sutherland, Vincent Kartheiser, Oliver Denn...</td>\n",
       "      <td>Thriller</td>\n",
       "      <td>Wilson Coneybeare</td>\n",
       "      <td>Donald Sutherland</td>\n",
       "      <td>Vincent Kartheiser</td>\n",
       "      <td>Oliver Dennis</td>\n",
       "    </tr>\n",
       "    <tr>\n",
       "      <th>3</th>\n",
       "      <td>A Dog's Way Home</td>\n",
       "      <td>Charles Martin Smith (director); W. Bruce Cameron (screenplay); Bryce Dallas Howard, Edward...</td>\n",
       "      <td>Drama Adventure Family</td>\n",
       "      <td>Charles Martin Smith</td>\n",
       "      <td>Bryce Dallas Howard</td>\n",
       "      <td>Edward James Olmos</td>\n",
       "      <td>Alexandra Shipp</td>\n",
       "    </tr>\n",
       "    <tr>\n",
       "      <th>4</th>\n",
       "      <td>The Upside</td>\n",
       "      <td>Neil Burger (director); Jon Hartmere (screenplay); Bryan Cranston, Kevin Hart, Nicole Kidman</td>\n",
       "      <td>Comedy Drama</td>\n",
       "      <td>Neil Burger</td>\n",
       "      <td>Bryan Cranston</td>\n",
       "      <td>Kevin Hart</td>\n",
       "      <td>Nicole Kidman</td>\n",
       "    </tr>\n",
       "  </tbody>\n",
       "</table>\n",
       "</div>"
      ],
      "text/plain": [
       "              Title  \\\n",
       "0       Escape Room   \n",
       "1        Rust Creek   \n",
       "2  American Hangman   \n",
       "3  A Dog's Way Home   \n",
       "4        The Upside   \n",
       "\n",
       "                                                                                    Cast and crew  \\\n",
       "0  Adam Robitel (director); Bragi F. Schut, Maria Melnik (screenplay); Taylor Russell, Logan M...   \n",
       "1  Jen McGowan (director); Julie Lipson (screenplay); Hermione Corfield, Jay Paulson, Sean O'B...   \n",
       "2  Wilson Coneybeare (director/screenplay); Donald Sutherland, Vincent Kartheiser, Oliver Denn...   \n",
       "3  Charles Martin Smith (director); W. Bruce Cameron (screenplay); Bryce Dallas Howard, Edward...   \n",
       "4    Neil Burger (director); Jon Hartmere (screenplay); Bryan Cranston, Kevin Hart, Nicole Kidman   \n",
       "\n",
       "                                     genres         director_name  \\\n",
       "0  Thriller Action Mystery Adventure Horror          Adam Robitel   \n",
       "1                            Thriller Drama           Jen McGowan   \n",
       "2                                  Thriller     Wilson Coneybeare   \n",
       "3                    Drama Adventure Family  Charles Martin Smith   \n",
       "4                              Comedy Drama           Neil Burger   \n",
       "\n",
       "           actor_1_name         actor_2_name       actor_3_name  \n",
       "0        Taylor Russell         Logan Miller   Deborah Ann Woll  \n",
       "1     Hermione Corfield          Jay Paulson       Sean O'Bryan  \n",
       "2     Donald Sutherland   Vincent Kartheiser      Oliver Dennis  \n",
       "3   Bryce Dallas Howard   Edward James Olmos    Alexandra Shipp  \n",
       "4        Bryan Cranston           Kevin Hart      Nicole Kidman  "
      ]
     },
     "execution_count": 144,
     "metadata": {},
     "output_type": "execute_result"
    }
   ],
   "source": [
    "data_2019.head()"
   ]
  },
  {
   "cell_type": "code",
   "execution_count": 145,
   "metadata": {},
   "outputs": [],
   "source": [
    "data_2019=data_2019.rename(columns={'Title':'movie_title'})"
   ]
  },
  {
   "cell_type": "code",
   "execution_count": 146,
   "metadata": {},
   "outputs": [],
   "source": [
    "data_2019=data_2019.loc[:,['director_name','actor_1_name','actor_2_name','actor_3_name','genres','movie_title']]"
   ]
  },
  {
   "cell_type": "code",
   "execution_count": 147,
   "metadata": {
    "scrolled": true
   },
   "outputs": [
    {
     "data": {
      "text/html": [
       "<div>\n",
       "<style scoped>\n",
       "    .dataframe tbody tr th:only-of-type {\n",
       "        vertical-align: middle;\n",
       "    }\n",
       "\n",
       "    .dataframe tbody tr th {\n",
       "        vertical-align: top;\n",
       "    }\n",
       "\n",
       "    .dataframe thead th {\n",
       "        text-align: right;\n",
       "    }\n",
       "</style>\n",
       "<table border=\"1\" class=\"dataframe\">\n",
       "  <thead>\n",
       "    <tr style=\"text-align: right;\">\n",
       "      <th></th>\n",
       "      <th>director_name</th>\n",
       "      <th>actor_1_name</th>\n",
       "      <th>actor_2_name</th>\n",
       "      <th>actor_3_name</th>\n",
       "      <th>genres</th>\n",
       "      <th>movie_title</th>\n",
       "    </tr>\n",
       "  </thead>\n",
       "  <tbody>\n",
       "    <tr>\n",
       "      <th>0</th>\n",
       "      <td>Adam Robitel</td>\n",
       "      <td>Taylor Russell</td>\n",
       "      <td>Logan Miller</td>\n",
       "      <td>Deborah Ann Woll</td>\n",
       "      <td>Thriller Action Mystery Adventure Horror</td>\n",
       "      <td>Escape Room</td>\n",
       "    </tr>\n",
       "    <tr>\n",
       "      <th>1</th>\n",
       "      <td>Jen McGowan</td>\n",
       "      <td>Hermione Corfield</td>\n",
       "      <td>Jay Paulson</td>\n",
       "      <td>Sean O'Bryan</td>\n",
       "      <td>Thriller Drama</td>\n",
       "      <td>Rust Creek</td>\n",
       "    </tr>\n",
       "    <tr>\n",
       "      <th>2</th>\n",
       "      <td>Wilson Coneybeare</td>\n",
       "      <td>Donald Sutherland</td>\n",
       "      <td>Vincent Kartheiser</td>\n",
       "      <td>Oliver Dennis</td>\n",
       "      <td>Thriller</td>\n",
       "      <td>American Hangman</td>\n",
       "    </tr>\n",
       "    <tr>\n",
       "      <th>3</th>\n",
       "      <td>Charles Martin Smith</td>\n",
       "      <td>Bryce Dallas Howard</td>\n",
       "      <td>Edward James Olmos</td>\n",
       "      <td>Alexandra Shipp</td>\n",
       "      <td>Drama Adventure Family</td>\n",
       "      <td>A Dog's Way Home</td>\n",
       "    </tr>\n",
       "    <tr>\n",
       "      <th>4</th>\n",
       "      <td>Neil Burger</td>\n",
       "      <td>Bryan Cranston</td>\n",
       "      <td>Kevin Hart</td>\n",
       "      <td>Nicole Kidman</td>\n",
       "      <td>Comedy Drama</td>\n",
       "      <td>The Upside</td>\n",
       "    </tr>\n",
       "  </tbody>\n",
       "</table>\n",
       "</div>"
      ],
      "text/plain": [
       "          director_name          actor_1_name         actor_2_name  \\\n",
       "0          Adam Robitel        Taylor Russell         Logan Miller   \n",
       "1           Jen McGowan     Hermione Corfield          Jay Paulson   \n",
       "2     Wilson Coneybeare     Donald Sutherland   Vincent Kartheiser   \n",
       "3  Charles Martin Smith   Bryce Dallas Howard   Edward James Olmos   \n",
       "4           Neil Burger        Bryan Cranston           Kevin Hart   \n",
       "\n",
       "        actor_3_name                                    genres  \\\n",
       "0   Deborah Ann Woll  Thriller Action Mystery Adventure Horror   \n",
       "1       Sean O'Bryan                            Thriller Drama   \n",
       "2      Oliver Dennis                                  Thriller   \n",
       "3    Alexandra Shipp                    Drama Adventure Family   \n",
       "4      Nicole Kidman                              Comedy Drama   \n",
       "\n",
       "        movie_title  \n",
       "0       Escape Room  \n",
       "1        Rust Creek  \n",
       "2  American Hangman  \n",
       "3  A Dog's Way Home  \n",
       "4        The Upside  "
      ]
     },
     "execution_count": 147,
     "metadata": {},
     "output_type": "execute_result"
    }
   ],
   "source": [
    "data_2019.head()"
   ]
  },
  {
   "cell_type": "code",
   "execution_count": 148,
   "metadata": {},
   "outputs": [
    {
     "data": {
      "text/plain": [
       "director_name     0\n",
       "actor_1_name      0\n",
       "actor_2_name      1\n",
       "actor_3_name     16\n",
       "genres            2\n",
       "movie_title       0\n",
       "dtype: int64"
      ]
     },
     "execution_count": 148,
     "metadata": {},
     "output_type": "execute_result"
    }
   ],
   "source": [
    "data_2019.isnull().sum()"
   ]
  },
  {
   "cell_type": "code",
   "execution_count": 149,
   "metadata": {},
   "outputs": [],
   "source": [
    "data_2019['actor_2_name']=data_2019.actor_2_name.replace(to_replace=np.nan, value='unknown')\n",
    "data_2019['actor_3_name']=data_2019.actor_3_name.replace(to_replace=np.nan, value='unknown')"
   ]
  },
  {
   "cell_type": "code",
   "execution_count": 150,
   "metadata": {},
   "outputs": [
    {
     "data": {
      "text/plain": [
       "director_name    0\n",
       "actor_1_name     0\n",
       "actor_2_name     0\n",
       "actor_3_name     0\n",
       "genres           2\n",
       "movie_title      0\n",
       "dtype: int64"
      ]
     },
     "execution_count": 150,
     "metadata": {},
     "output_type": "execute_result"
    }
   ],
   "source": [
    "data_2019.isnull().sum()"
   ]
  },
  {
   "cell_type": "code",
   "execution_count": 151,
   "metadata": {},
   "outputs": [],
   "source": [
    "data_2019['movie_title']=data_2019['movie_title'].str.lower()"
   ]
  },
  {
   "cell_type": "code",
   "execution_count": 152,
   "metadata": {},
   "outputs": [],
   "source": [
    "data_2019['Combinations']=data_2019['actor_1_name']+', '+data_2019['actor_2_name']+', '+data_2019['actor_3_name']+', '+data_2019['director_name']+', '+data_2019['genres']"
   ]
  },
  {
   "cell_type": "code",
   "execution_count": 153,
   "metadata": {},
   "outputs": [
    {
     "data": {
      "text/html": [
       "<div>\n",
       "<style scoped>\n",
       "    .dataframe tbody tr th:only-of-type {\n",
       "        vertical-align: middle;\n",
       "    }\n",
       "\n",
       "    .dataframe tbody tr th {\n",
       "        vertical-align: top;\n",
       "    }\n",
       "\n",
       "    .dataframe thead th {\n",
       "        text-align: right;\n",
       "    }\n",
       "</style>\n",
       "<table border=\"1\" class=\"dataframe\">\n",
       "  <thead>\n",
       "    <tr style=\"text-align: right;\">\n",
       "      <th></th>\n",
       "      <th>director_name</th>\n",
       "      <th>actor_1_name</th>\n",
       "      <th>actor_2_name</th>\n",
       "      <th>actor_3_name</th>\n",
       "      <th>genres</th>\n",
       "      <th>movie_title</th>\n",
       "      <th>Combinations</th>\n",
       "    </tr>\n",
       "  </thead>\n",
       "  <tbody>\n",
       "    <tr>\n",
       "      <th>0</th>\n",
       "      <td>Adam Robitel</td>\n",
       "      <td>Taylor Russell</td>\n",
       "      <td>Logan Miller</td>\n",
       "      <td>Deborah Ann Woll</td>\n",
       "      <td>Thriller Action Mystery Adventure Horror</td>\n",
       "      <td>escape room</td>\n",
       "      <td>Taylor Russell,  Logan Miller,  Deborah Ann Woll, Adam Robitel, Thriller Action Mystery Ad...</td>\n",
       "    </tr>\n",
       "    <tr>\n",
       "      <th>1</th>\n",
       "      <td>Jen McGowan</td>\n",
       "      <td>Hermione Corfield</td>\n",
       "      <td>Jay Paulson</td>\n",
       "      <td>Sean O'Bryan</td>\n",
       "      <td>Thriller Drama</td>\n",
       "      <td>rust creek</td>\n",
       "      <td>Hermione Corfield,  Jay Paulson,  Sean O'Bryan, Jen McGowan, Thriller Drama</td>\n",
       "    </tr>\n",
       "    <tr>\n",
       "      <th>2</th>\n",
       "      <td>Wilson Coneybeare</td>\n",
       "      <td>Donald Sutherland</td>\n",
       "      <td>Vincent Kartheiser</td>\n",
       "      <td>Oliver Dennis</td>\n",
       "      <td>Thriller</td>\n",
       "      <td>american hangman</td>\n",
       "      <td>Donald Sutherland,  Vincent Kartheiser,  Oliver Dennis, Wilson Coneybeare, Thriller</td>\n",
       "    </tr>\n",
       "    <tr>\n",
       "      <th>3</th>\n",
       "      <td>Charles Martin Smith</td>\n",
       "      <td>Bryce Dallas Howard</td>\n",
       "      <td>Edward James Olmos</td>\n",
       "      <td>Alexandra Shipp</td>\n",
       "      <td>Drama Adventure Family</td>\n",
       "      <td>a dog's way home</td>\n",
       "      <td>Bryce Dallas Howard,  Edward James Olmos,  Alexandra Shipp, Charles Martin Smith, Drama Ad...</td>\n",
       "    </tr>\n",
       "    <tr>\n",
       "      <th>4</th>\n",
       "      <td>Neil Burger</td>\n",
       "      <td>Bryan Cranston</td>\n",
       "      <td>Kevin Hart</td>\n",
       "      <td>Nicole Kidman</td>\n",
       "      <td>Comedy Drama</td>\n",
       "      <td>the upside</td>\n",
       "      <td>Bryan Cranston,  Kevin Hart,  Nicole Kidman, Neil Burger, Comedy Drama</td>\n",
       "    </tr>\n",
       "  </tbody>\n",
       "</table>\n",
       "</div>"
      ],
      "text/plain": [
       "          director_name          actor_1_name         actor_2_name  \\\n",
       "0          Adam Robitel        Taylor Russell         Logan Miller   \n",
       "1           Jen McGowan     Hermione Corfield          Jay Paulson   \n",
       "2     Wilson Coneybeare     Donald Sutherland   Vincent Kartheiser   \n",
       "3  Charles Martin Smith   Bryce Dallas Howard   Edward James Olmos   \n",
       "4           Neil Burger        Bryan Cranston           Kevin Hart   \n",
       "\n",
       "        actor_3_name                                    genres  \\\n",
       "0   Deborah Ann Woll  Thriller Action Mystery Adventure Horror   \n",
       "1       Sean O'Bryan                            Thriller Drama   \n",
       "2      Oliver Dennis                                  Thriller   \n",
       "3    Alexandra Shipp                    Drama Adventure Family   \n",
       "4      Nicole Kidman                              Comedy Drama   \n",
       "\n",
       "        movie_title  \\\n",
       "0       escape room   \n",
       "1        rust creek   \n",
       "2  american hangman   \n",
       "3  a dog's way home   \n",
       "4        the upside   \n",
       "\n",
       "                                                                                     Combinations  \n",
       "0   Taylor Russell,  Logan Miller,  Deborah Ann Woll, Adam Robitel, Thriller Action Mystery Ad...  \n",
       "1                     Hermione Corfield,  Jay Paulson,  Sean O'Bryan, Jen McGowan, Thriller Drama  \n",
       "2             Donald Sutherland,  Vincent Kartheiser,  Oliver Dennis, Wilson Coneybeare, Thriller  \n",
       "3   Bryce Dallas Howard,  Edward James Olmos,  Alexandra Shipp, Charles Martin Smith, Drama Ad...  \n",
       "4                          Bryan Cranston,  Kevin Hart,  Nicole Kidman, Neil Burger, Comedy Drama  "
      ]
     },
     "execution_count": 153,
     "metadata": {},
     "output_type": "execute_result"
    }
   ],
   "source": [
    "data_2019.head()"
   ]
  },
  {
   "cell_type": "code",
   "execution_count": null,
   "metadata": {},
   "outputs": [],
   "source": []
  },
  {
   "cell_type": "markdown",
   "metadata": {},
   "source": [
    "# Extracting 2020 movie data in a same way:"
   ]
  },
  {
   "cell_type": "code",
   "execution_count": 355,
   "metadata": {},
   "outputs": [],
   "source": [
    "url='https://en.wikipedia.org/wiki/List_of_American_films_of_2020'\n",
    "df9 =pd.read_html(url, header=0)[3]              # retreiving 2nd, 3rd, 4th, 5th table from wikipedia.\n",
    "df10=pd.read_html(url, header=0)[4]\n",
    "df11=pd.read_html(url, header=0)[5]\n",
    "df12=pd.read_html(url, header=0)[6]"
   ]
  },
  {
   "cell_type": "code",
   "execution_count": 356,
   "metadata": {},
   "outputs": [
    {
     "name": "stdout",
     "output_type": "stream",
     "text": [
      "(57, 6) (42, 6) (71, 6) (99, 6)\n"
     ]
    }
   ],
   "source": [
    "print(df9.shape, df10.shape, df11.shape, df12.shape)"
   ]
  },
  {
   "cell_type": "code",
   "execution_count": 373,
   "metadata": {},
   "outputs": [],
   "source": [
    "df_2=pd.concat([df9,df10,df11,df12], axis=0, ignore_index=True)"
   ]
  },
  {
   "cell_type": "code",
   "execution_count": 375,
   "metadata": {},
   "outputs": [
    {
     "data": {
      "text/plain": [
       "(269, 6)"
      ]
     },
     "execution_count": 375,
     "metadata": {},
     "output_type": "execute_result"
    }
   ],
   "source": [
    "df_2.shape"
   ]
  },
  {
   "cell_type": "code",
   "execution_count": 376,
   "metadata": {},
   "outputs": [
    {
     "data": {
      "text/html": [
       "<div>\n",
       "<style scoped>\n",
       "    .dataframe tbody tr th:only-of-type {\n",
       "        vertical-align: middle;\n",
       "    }\n",
       "\n",
       "    .dataframe tbody tr th {\n",
       "        vertical-align: top;\n",
       "    }\n",
       "\n",
       "    .dataframe thead th {\n",
       "        text-align: right;\n",
       "    }\n",
       "</style>\n",
       "<table border=\"1\" class=\"dataframe\">\n",
       "  <thead>\n",
       "    <tr style=\"text-align: right;\">\n",
       "      <th></th>\n",
       "      <th>Opening</th>\n",
       "      <th>Opening.1</th>\n",
       "      <th>Title</th>\n",
       "      <th>Production company</th>\n",
       "      <th>Cast and crew</th>\n",
       "      <th>Ref.</th>\n",
       "    </tr>\n",
       "  </thead>\n",
       "  <tbody>\n",
       "    <tr>\n",
       "      <th>0</th>\n",
       "      <td>JANUARY</td>\n",
       "      <td>3</td>\n",
       "      <td>The Grudge</td>\n",
       "      <td>Screen Gems / Stage 6 Films / Ghost House Pictures</td>\n",
       "      <td>Nicolas Pesce (director/screenplay); Andrea Riseborough, Demián Bichir, John Cho, Betty Gil...</td>\n",
       "      <td>[2]</td>\n",
       "    </tr>\n",
       "    <tr>\n",
       "      <th>1</th>\n",
       "      <td>JANUARY</td>\n",
       "      <td>10</td>\n",
       "      <td>Underwater</td>\n",
       "      <td>20th Century Fox / TSG Entertainment / Chernin Entertainment</td>\n",
       "      <td>William Eubank (director); Brian Duffield, Adam Cozad (screenplay); Kristen Stewart, Vincen...</td>\n",
       "      <td>[3]</td>\n",
       "    </tr>\n",
       "    <tr>\n",
       "      <th>2</th>\n",
       "      <td>JANUARY</td>\n",
       "      <td>10</td>\n",
       "      <td>Like a Boss</td>\n",
       "      <td>Paramount Pictures</td>\n",
       "      <td>Miguel Arteta (director); Sam Pitman, Adam Cole-Kelly (screenplay); Tiffany Haddish, Rose B...</td>\n",
       "      <td>[4]</td>\n",
       "    </tr>\n",
       "    <tr>\n",
       "      <th>3</th>\n",
       "      <td>JANUARY</td>\n",
       "      <td>10</td>\n",
       "      <td>Three Christs</td>\n",
       "      <td>IFC Films</td>\n",
       "      <td>Jon Avnet (director/screenplay); Eric Nazarian (screenplay); Richard Gere, Peter Dinklage, ...</td>\n",
       "      <td>NaN</td>\n",
       "    </tr>\n",
       "    <tr>\n",
       "      <th>4</th>\n",
       "      <td>JANUARY</td>\n",
       "      <td>10</td>\n",
       "      <td>Inherit the Viper</td>\n",
       "      <td>Barry Films / Tycor International Film Company</td>\n",
       "      <td>Anthony Jerjen (director); Andrew Crabtree (screenplay); Josh Hartnett, Margarita Levieva, ...</td>\n",
       "      <td>[5]</td>\n",
       "    </tr>\n",
       "  </tbody>\n",
       "</table>\n",
       "</div>"
      ],
      "text/plain": [
       "   Opening  Opening.1              Title  \\\n",
       "0  JANUARY          3         The Grudge   \n",
       "1  JANUARY         10         Underwater   \n",
       "2  JANUARY         10        Like a Boss   \n",
       "3  JANUARY         10      Three Christs   \n",
       "4  JANUARY         10  Inherit the Viper   \n",
       "\n",
       "                                             Production company  \\\n",
       "0            Screen Gems / Stage 6 Films / Ghost House Pictures   \n",
       "1  20th Century Fox / TSG Entertainment / Chernin Entertainment   \n",
       "2                                            Paramount Pictures   \n",
       "3                                                     IFC Films   \n",
       "4                Barry Films / Tycor International Film Company   \n",
       "\n",
       "                                                                                    Cast and crew  \\\n",
       "0  Nicolas Pesce (director/screenplay); Andrea Riseborough, Demián Bichir, John Cho, Betty Gil...   \n",
       "1  William Eubank (director); Brian Duffield, Adam Cozad (screenplay); Kristen Stewart, Vincen...   \n",
       "2  Miguel Arteta (director); Sam Pitman, Adam Cole-Kelly (screenplay); Tiffany Haddish, Rose B...   \n",
       "3  Jon Avnet (director/screenplay); Eric Nazarian (screenplay); Richard Gere, Peter Dinklage, ...   \n",
       "4  Anthony Jerjen (director); Andrew Crabtree (screenplay); Josh Hartnett, Margarita Levieva, ...   \n",
       "\n",
       "  Ref.  \n",
       "0  [2]  \n",
       "1  [3]  \n",
       "2  [4]  \n",
       "3  NaN  \n",
       "4  [5]  "
      ]
     },
     "execution_count": 376,
     "metadata": {},
     "output_type": "execute_result"
    }
   ],
   "source": [
    "df_2.head()"
   ]
  },
  {
   "cell_type": "code",
   "execution_count": 377,
   "metadata": {},
   "outputs": [
    {
     "data": {
      "text/html": [
       "<div>\n",
       "<style scoped>\n",
       "    .dataframe tbody tr th:only-of-type {\n",
       "        vertical-align: middle;\n",
       "    }\n",
       "\n",
       "    .dataframe tbody tr th {\n",
       "        vertical-align: top;\n",
       "    }\n",
       "\n",
       "    .dataframe thead th {\n",
       "        text-align: right;\n",
       "    }\n",
       "</style>\n",
       "<table border=\"1\" class=\"dataframe\">\n",
       "  <thead>\n",
       "    <tr style=\"text-align: right;\">\n",
       "      <th></th>\n",
       "      <th>Opening</th>\n",
       "      <th>Opening.1</th>\n",
       "      <th>Title</th>\n",
       "      <th>Production company</th>\n",
       "      <th>Cast and crew</th>\n",
       "      <th>Ref.</th>\n",
       "    </tr>\n",
       "  </thead>\n",
       "  <tbody>\n",
       "    <tr>\n",
       "      <th>159</th>\n",
       "      <td>SEPTEMBER</td>\n",
       "      <td>18</td>\n",
       "      <td>Killian &amp; the Comeback Kids</td>\n",
       "      <td>Hope Runs High</td>\n",
       "      <td>Taylor A. Purdee (director/screenplay); Taylor A. Purdee, John Donchak, Nathan Purdee, Kass...</td>\n",
       "      <td>[152]</td>\n",
       "    </tr>\n",
       "  </tbody>\n",
       "</table>\n",
       "</div>"
      ],
      "text/plain": [
       "       Opening  Opening.1                        Title Production company  \\\n",
       "159  SEPTEMBER         18  Killian & the Comeback Kids     Hope Runs High   \n",
       "\n",
       "                                                                                      Cast and crew  \\\n",
       "159  Taylor A. Purdee (director/screenplay); Taylor A. Purdee, John Donchak, Nathan Purdee, Kass...   \n",
       "\n",
       "      Ref.  \n",
       "159  [152]  "
      ]
     },
     "execution_count": 377,
     "metadata": {},
     "output_type": "execute_result"
    }
   ],
   "source": [
    "# Title 'Killian & the Comeback Kids' information not available on TMDB website: so need to remove this row:\n",
    "df_2.loc[df_2['Title']=='Killian & the Comeback Kids',:]"
   ]
  },
  {
   "cell_type": "code",
   "execution_count": 380,
   "metadata": {},
   "outputs": [],
   "source": [
    "# lets remove the above Movie from Title feature:\n",
    "df_3=df_2.drop(index=159)"
   ]
  },
  {
   "cell_type": "code",
   "execution_count": 381,
   "metadata": {},
   "outputs": [
    {
     "data": {
      "text/plain": [
       "(268, 6)"
      ]
     },
     "execution_count": 381,
     "metadata": {},
     "output_type": "execute_result"
    }
   ],
   "source": [
    "df_3.shape"
   ]
  },
  {
   "cell_type": "code",
   "execution_count": 382,
   "metadata": {},
   "outputs": [],
   "source": [
    "# lets get the 'genres' feature from TMDB web as retreived for previous year data:\n",
    "df_3['genres']=df_3['Title'].map(lambda x: get_genres(str(x)))"
   ]
  },
  {
   "cell_type": "code",
   "execution_count": 383,
   "metadata": {},
   "outputs": [
    {
     "data": {
      "text/html": [
       "<div>\n",
       "<style scoped>\n",
       "    .dataframe tbody tr th:only-of-type {\n",
       "        vertical-align: middle;\n",
       "    }\n",
       "\n",
       "    .dataframe tbody tr th {\n",
       "        vertical-align: top;\n",
       "    }\n",
       "\n",
       "    .dataframe thead th {\n",
       "        text-align: right;\n",
       "    }\n",
       "</style>\n",
       "<table border=\"1\" class=\"dataframe\">\n",
       "  <thead>\n",
       "    <tr style=\"text-align: right;\">\n",
       "      <th></th>\n",
       "      <th>Opening</th>\n",
       "      <th>Opening.1</th>\n",
       "      <th>Title</th>\n",
       "      <th>Production company</th>\n",
       "      <th>Cast and crew</th>\n",
       "      <th>Ref.</th>\n",
       "      <th>genres</th>\n",
       "    </tr>\n",
       "  </thead>\n",
       "  <tbody>\n",
       "    <tr>\n",
       "      <th>0</th>\n",
       "      <td>JANUARY</td>\n",
       "      <td>3</td>\n",
       "      <td>The Grudge</td>\n",
       "      <td>Screen Gems / Stage 6 Films / Ghost House Pictures</td>\n",
       "      <td>Nicolas Pesce (director/screenplay); Andrea Riseborough, Demián Bichir, John Cho, Betty Gil...</td>\n",
       "      <td>[2]</td>\n",
       "      <td>Horror Mystery</td>\n",
       "    </tr>\n",
       "    <tr>\n",
       "      <th>1</th>\n",
       "      <td>JANUARY</td>\n",
       "      <td>10</td>\n",
       "      <td>Underwater</td>\n",
       "      <td>20th Century Fox / TSG Entertainment / Chernin Entertainment</td>\n",
       "      <td>William Eubank (director); Brian Duffield, Adam Cozad (screenplay); Kristen Stewart, Vincen...</td>\n",
       "      <td>[3]</td>\n",
       "      <td>Action Horror Science Fiction Thriller</td>\n",
       "    </tr>\n",
       "    <tr>\n",
       "      <th>2</th>\n",
       "      <td>JANUARY</td>\n",
       "      <td>10</td>\n",
       "      <td>Like a Boss</td>\n",
       "      <td>Paramount Pictures</td>\n",
       "      <td>Miguel Arteta (director); Sam Pitman, Adam Cole-Kelly (screenplay); Tiffany Haddish, Rose B...</td>\n",
       "      <td>[4]</td>\n",
       "      <td>Comedy</td>\n",
       "    </tr>\n",
       "    <tr>\n",
       "      <th>3</th>\n",
       "      <td>JANUARY</td>\n",
       "      <td>10</td>\n",
       "      <td>Three Christs</td>\n",
       "      <td>IFC Films</td>\n",
       "      <td>Jon Avnet (director/screenplay); Eric Nazarian (screenplay); Richard Gere, Peter Dinklage, ...</td>\n",
       "      <td>NaN</td>\n",
       "      <td>Drama</td>\n",
       "    </tr>\n",
       "    <tr>\n",
       "      <th>4</th>\n",
       "      <td>JANUARY</td>\n",
       "      <td>10</td>\n",
       "      <td>Inherit the Viper</td>\n",
       "      <td>Barry Films / Tycor International Film Company</td>\n",
       "      <td>Anthony Jerjen (director); Andrew Crabtree (screenplay); Josh Hartnett, Margarita Levieva, ...</td>\n",
       "      <td>[5]</td>\n",
       "      <td>Drama Thriller Crime</td>\n",
       "    </tr>\n",
       "  </tbody>\n",
       "</table>\n",
       "</div>"
      ],
      "text/plain": [
       "   Opening  Opening.1              Title  \\\n",
       "0  JANUARY          3         The Grudge   \n",
       "1  JANUARY         10         Underwater   \n",
       "2  JANUARY         10        Like a Boss   \n",
       "3  JANUARY         10      Three Christs   \n",
       "4  JANUARY         10  Inherit the Viper   \n",
       "\n",
       "                                             Production company  \\\n",
       "0            Screen Gems / Stage 6 Films / Ghost House Pictures   \n",
       "1  20th Century Fox / TSG Entertainment / Chernin Entertainment   \n",
       "2                                            Paramount Pictures   \n",
       "3                                                     IFC Films   \n",
       "4                Barry Films / Tycor International Film Company   \n",
       "\n",
       "                                                                                    Cast and crew  \\\n",
       "0  Nicolas Pesce (director/screenplay); Andrea Riseborough, Demián Bichir, John Cho, Betty Gil...   \n",
       "1  William Eubank (director); Brian Duffield, Adam Cozad (screenplay); Kristen Stewart, Vincen...   \n",
       "2  Miguel Arteta (director); Sam Pitman, Adam Cole-Kelly (screenplay); Tiffany Haddish, Rose B...   \n",
       "3  Jon Avnet (director/screenplay); Eric Nazarian (screenplay); Richard Gere, Peter Dinklage, ...   \n",
       "4  Anthony Jerjen (director); Andrew Crabtree (screenplay); Josh Hartnett, Margarita Levieva, ...   \n",
       "\n",
       "  Ref.                                  genres  \n",
       "0  [2]                          Horror Mystery  \n",
       "1  [3]  Action Horror Science Fiction Thriller  \n",
       "2  [4]                                  Comedy  \n",
       "3  NaN                                   Drama  \n",
       "4  [5]                    Drama Thriller Crime  "
      ]
     },
     "execution_count": 383,
     "metadata": {},
     "output_type": "execute_result"
    }
   ],
   "source": [
    "df_3.head()"
   ]
  },
  {
   "cell_type": "code",
   "execution_count": 384,
   "metadata": {},
   "outputs": [],
   "source": [
    "data_2020=df_3.loc[:,['Title','Cast and crew','genres']]"
   ]
  },
  {
   "cell_type": "code",
   "execution_count": 385,
   "metadata": {},
   "outputs": [
    {
     "data": {
      "text/html": [
       "<div>\n",
       "<style scoped>\n",
       "    .dataframe tbody tr th:only-of-type {\n",
       "        vertical-align: middle;\n",
       "    }\n",
       "\n",
       "    .dataframe tbody tr th {\n",
       "        vertical-align: top;\n",
       "    }\n",
       "\n",
       "    .dataframe thead th {\n",
       "        text-align: right;\n",
       "    }\n",
       "</style>\n",
       "<table border=\"1\" class=\"dataframe\">\n",
       "  <thead>\n",
       "    <tr style=\"text-align: right;\">\n",
       "      <th></th>\n",
       "      <th>Title</th>\n",
       "      <th>Cast and crew</th>\n",
       "      <th>genres</th>\n",
       "    </tr>\n",
       "  </thead>\n",
       "  <tbody>\n",
       "    <tr>\n",
       "      <th>0</th>\n",
       "      <td>The Grudge</td>\n",
       "      <td>Nicolas Pesce (director/screenplay); Andrea Riseborough, Demián Bichir, John Cho, Betty Gil...</td>\n",
       "      <td>Horror Mystery</td>\n",
       "    </tr>\n",
       "    <tr>\n",
       "      <th>1</th>\n",
       "      <td>Underwater</td>\n",
       "      <td>William Eubank (director); Brian Duffield, Adam Cozad (screenplay); Kristen Stewart, Vincen...</td>\n",
       "      <td>Action Horror Science Fiction Thriller</td>\n",
       "    </tr>\n",
       "    <tr>\n",
       "      <th>2</th>\n",
       "      <td>Like a Boss</td>\n",
       "      <td>Miguel Arteta (director); Sam Pitman, Adam Cole-Kelly (screenplay); Tiffany Haddish, Rose B...</td>\n",
       "      <td>Comedy</td>\n",
       "    </tr>\n",
       "    <tr>\n",
       "      <th>3</th>\n",
       "      <td>Three Christs</td>\n",
       "      <td>Jon Avnet (director/screenplay); Eric Nazarian (screenplay); Richard Gere, Peter Dinklage, ...</td>\n",
       "      <td>Drama</td>\n",
       "    </tr>\n",
       "    <tr>\n",
       "      <th>4</th>\n",
       "      <td>Inherit the Viper</td>\n",
       "      <td>Anthony Jerjen (director); Andrew Crabtree (screenplay); Josh Hartnett, Margarita Levieva, ...</td>\n",
       "      <td>Drama Thriller Crime</td>\n",
       "    </tr>\n",
       "  </tbody>\n",
       "</table>\n",
       "</div>"
      ],
      "text/plain": [
       "               Title  \\\n",
       "0         The Grudge   \n",
       "1         Underwater   \n",
       "2        Like a Boss   \n",
       "3      Three Christs   \n",
       "4  Inherit the Viper   \n",
       "\n",
       "                                                                                    Cast and crew  \\\n",
       "0  Nicolas Pesce (director/screenplay); Andrea Riseborough, Demián Bichir, John Cho, Betty Gil...   \n",
       "1  William Eubank (director); Brian Duffield, Adam Cozad (screenplay); Kristen Stewart, Vincen...   \n",
       "2  Miguel Arteta (director); Sam Pitman, Adam Cole-Kelly (screenplay); Tiffany Haddish, Rose B...   \n",
       "3  Jon Avnet (director/screenplay); Eric Nazarian (screenplay); Richard Gere, Peter Dinklage, ...   \n",
       "4  Anthony Jerjen (director); Andrew Crabtree (screenplay); Josh Hartnett, Margarita Levieva, ...   \n",
       "\n",
       "                                   genres  \n",
       "0                          Horror Mystery  \n",
       "1  Action Horror Science Fiction Thriller  \n",
       "2                                  Comedy  \n",
       "3                                   Drama  \n",
       "4                    Drama Thriller Crime  "
      ]
     },
     "execution_count": 385,
     "metadata": {},
     "output_type": "execute_result"
    }
   ],
   "source": [
    "data_2020.head()"
   ]
  },
  {
   "cell_type": "code",
   "execution_count": 386,
   "metadata": {},
   "outputs": [],
   "source": [
    "# lets add new columns by mapping 'Cast and crew' function of data_2020 with previously made functions:\n",
    "data_2020['director_name']=data_2020['Cast and crew'].map(lambda x: get_director(x))\n",
    "data_2020['actor_1_name']=data_2020['Cast and crew'].map(lambda x: get_actor1(x))\n",
    "data_2020['actor_2_name']=data_2020['Cast and crew'].map(lambda x: get_actor2(x))\n",
    "data_2020['actor_3_name']=data_2020['Cast and crew'].map(lambda x: get_actor3(x))"
   ]
  },
  {
   "cell_type": "code",
   "execution_count": 387,
   "metadata": {},
   "outputs": [
    {
     "data": {
      "text/html": [
       "<div>\n",
       "<style scoped>\n",
       "    .dataframe tbody tr th:only-of-type {\n",
       "        vertical-align: middle;\n",
       "    }\n",
       "\n",
       "    .dataframe tbody tr th {\n",
       "        vertical-align: top;\n",
       "    }\n",
       "\n",
       "    .dataframe thead th {\n",
       "        text-align: right;\n",
       "    }\n",
       "</style>\n",
       "<table border=\"1\" class=\"dataframe\">\n",
       "  <thead>\n",
       "    <tr style=\"text-align: right;\">\n",
       "      <th></th>\n",
       "      <th>Title</th>\n",
       "      <th>Cast and crew</th>\n",
       "      <th>genres</th>\n",
       "      <th>director_name</th>\n",
       "      <th>actor_1_name</th>\n",
       "      <th>actor_2_name</th>\n",
       "      <th>actor_3_name</th>\n",
       "    </tr>\n",
       "  </thead>\n",
       "  <tbody>\n",
       "    <tr>\n",
       "      <th>0</th>\n",
       "      <td>The Grudge</td>\n",
       "      <td>Nicolas Pesce (director/screenplay); Andrea Riseborough, Demián Bichir, John Cho, Betty Gil...</td>\n",
       "      <td>Horror Mystery</td>\n",
       "      <td>Nicolas Pesce</td>\n",
       "      <td>Andrea Riseborough</td>\n",
       "      <td>Demián Bichir</td>\n",
       "      <td>John Cho</td>\n",
       "    </tr>\n",
       "    <tr>\n",
       "      <th>1</th>\n",
       "      <td>Underwater</td>\n",
       "      <td>William Eubank (director); Brian Duffield, Adam Cozad (screenplay); Kristen Stewart, Vincen...</td>\n",
       "      <td>Action Horror Science Fiction Thriller</td>\n",
       "      <td>William Eubank</td>\n",
       "      <td>Kristen Stewart</td>\n",
       "      <td>Vincent Cassel</td>\n",
       "      <td>Jessica Henwick</td>\n",
       "    </tr>\n",
       "    <tr>\n",
       "      <th>2</th>\n",
       "      <td>Like a Boss</td>\n",
       "      <td>Miguel Arteta (director); Sam Pitman, Adam Cole-Kelly (screenplay); Tiffany Haddish, Rose B...</td>\n",
       "      <td>Comedy</td>\n",
       "      <td>Miguel Arteta</td>\n",
       "      <td>Tiffany Haddish</td>\n",
       "      <td>Rose Byrne</td>\n",
       "      <td>Salma Hayek</td>\n",
       "    </tr>\n",
       "    <tr>\n",
       "      <th>3</th>\n",
       "      <td>Three Christs</td>\n",
       "      <td>Jon Avnet (director/screenplay); Eric Nazarian (screenplay); Richard Gere, Peter Dinklage, ...</td>\n",
       "      <td>Drama</td>\n",
       "      <td>Jon Avnet</td>\n",
       "      <td>Richard Gere</td>\n",
       "      <td>Peter Dinklage</td>\n",
       "      <td>Walton Goggins</td>\n",
       "    </tr>\n",
       "    <tr>\n",
       "      <th>4</th>\n",
       "      <td>Inherit the Viper</td>\n",
       "      <td>Anthony Jerjen (director); Andrew Crabtree (screenplay); Josh Hartnett, Margarita Levieva, ...</td>\n",
       "      <td>Drama Thriller Crime</td>\n",
       "      <td>Anthony Jerjen</td>\n",
       "      <td>Josh Hartnett</td>\n",
       "      <td>Margarita Levieva</td>\n",
       "      <td>Chandler Riggs</td>\n",
       "    </tr>\n",
       "  </tbody>\n",
       "</table>\n",
       "</div>"
      ],
      "text/plain": [
       "               Title  \\\n",
       "0         The Grudge   \n",
       "1         Underwater   \n",
       "2        Like a Boss   \n",
       "3      Three Christs   \n",
       "4  Inherit the Viper   \n",
       "\n",
       "                                                                                    Cast and crew  \\\n",
       "0  Nicolas Pesce (director/screenplay); Andrea Riseborough, Demián Bichir, John Cho, Betty Gil...   \n",
       "1  William Eubank (director); Brian Duffield, Adam Cozad (screenplay); Kristen Stewart, Vincen...   \n",
       "2  Miguel Arteta (director); Sam Pitman, Adam Cole-Kelly (screenplay); Tiffany Haddish, Rose B...   \n",
       "3  Jon Avnet (director/screenplay); Eric Nazarian (screenplay); Richard Gere, Peter Dinklage, ...   \n",
       "4  Anthony Jerjen (director); Andrew Crabtree (screenplay); Josh Hartnett, Margarita Levieva, ...   \n",
       "\n",
       "                                   genres   director_name  \\\n",
       "0                          Horror Mystery   Nicolas Pesce   \n",
       "1  Action Horror Science Fiction Thriller  William Eubank   \n",
       "2                                  Comedy   Miguel Arteta   \n",
       "3                                   Drama       Jon Avnet   \n",
       "4                    Drama Thriller Crime  Anthony Jerjen   \n",
       "\n",
       "          actor_1_name        actor_2_name      actor_3_name  \n",
       "0   Andrea Riseborough       Demián Bichir          John Cho  \n",
       "1      Kristen Stewart      Vincent Cassel   Jessica Henwick  \n",
       "2      Tiffany Haddish          Rose Byrne       Salma Hayek  \n",
       "3         Richard Gere      Peter Dinklage    Walton Goggins  \n",
       "4        Josh Hartnett   Margarita Levieva    Chandler Riggs  "
      ]
     },
     "execution_count": 387,
     "metadata": {},
     "output_type": "execute_result"
    }
   ],
   "source": [
    "data_2020.head()"
   ]
  },
  {
   "cell_type": "code",
   "execution_count": 388,
   "metadata": {},
   "outputs": [],
   "source": [
    "data_2020=data_2020.rename(columns={'Title':'movie_title'})"
   ]
  },
  {
   "cell_type": "code",
   "execution_count": 389,
   "metadata": {},
   "outputs": [],
   "source": [
    "data_2020=data_2020.loc[:,['director_name','actor_1_name','actor_2_name','actor_3_name','genres','movie_title']]"
   ]
  },
  {
   "cell_type": "code",
   "execution_count": 390,
   "metadata": {},
   "outputs": [
    {
     "data": {
      "text/html": [
       "<div>\n",
       "<style scoped>\n",
       "    .dataframe tbody tr th:only-of-type {\n",
       "        vertical-align: middle;\n",
       "    }\n",
       "\n",
       "    .dataframe tbody tr th {\n",
       "        vertical-align: top;\n",
       "    }\n",
       "\n",
       "    .dataframe thead th {\n",
       "        text-align: right;\n",
       "    }\n",
       "</style>\n",
       "<table border=\"1\" class=\"dataframe\">\n",
       "  <thead>\n",
       "    <tr style=\"text-align: right;\">\n",
       "      <th></th>\n",
       "      <th>director_name</th>\n",
       "      <th>actor_1_name</th>\n",
       "      <th>actor_2_name</th>\n",
       "      <th>actor_3_name</th>\n",
       "      <th>genres</th>\n",
       "      <th>movie_title</th>\n",
       "    </tr>\n",
       "  </thead>\n",
       "  <tbody>\n",
       "    <tr>\n",
       "      <th>0</th>\n",
       "      <td>Nicolas Pesce</td>\n",
       "      <td>Andrea Riseborough</td>\n",
       "      <td>Demián Bichir</td>\n",
       "      <td>John Cho</td>\n",
       "      <td>Horror Mystery</td>\n",
       "      <td>The Grudge</td>\n",
       "    </tr>\n",
       "    <tr>\n",
       "      <th>1</th>\n",
       "      <td>William Eubank</td>\n",
       "      <td>Kristen Stewart</td>\n",
       "      <td>Vincent Cassel</td>\n",
       "      <td>Jessica Henwick</td>\n",
       "      <td>Action Horror Science Fiction Thriller</td>\n",
       "      <td>Underwater</td>\n",
       "    </tr>\n",
       "    <tr>\n",
       "      <th>2</th>\n",
       "      <td>Miguel Arteta</td>\n",
       "      <td>Tiffany Haddish</td>\n",
       "      <td>Rose Byrne</td>\n",
       "      <td>Salma Hayek</td>\n",
       "      <td>Comedy</td>\n",
       "      <td>Like a Boss</td>\n",
       "    </tr>\n",
       "    <tr>\n",
       "      <th>3</th>\n",
       "      <td>Jon Avnet</td>\n",
       "      <td>Richard Gere</td>\n",
       "      <td>Peter Dinklage</td>\n",
       "      <td>Walton Goggins</td>\n",
       "      <td>Drama</td>\n",
       "      <td>Three Christs</td>\n",
       "    </tr>\n",
       "    <tr>\n",
       "      <th>4</th>\n",
       "      <td>Anthony Jerjen</td>\n",
       "      <td>Josh Hartnett</td>\n",
       "      <td>Margarita Levieva</td>\n",
       "      <td>Chandler Riggs</td>\n",
       "      <td>Drama Thriller Crime</td>\n",
       "      <td>Inherit the Viper</td>\n",
       "    </tr>\n",
       "  </tbody>\n",
       "</table>\n",
       "</div>"
      ],
      "text/plain": [
       "    director_name         actor_1_name        actor_2_name      actor_3_name  \\\n",
       "0   Nicolas Pesce   Andrea Riseborough       Demián Bichir          John Cho   \n",
       "1  William Eubank      Kristen Stewart      Vincent Cassel   Jessica Henwick   \n",
       "2   Miguel Arteta      Tiffany Haddish          Rose Byrne       Salma Hayek   \n",
       "3       Jon Avnet         Richard Gere      Peter Dinklage    Walton Goggins   \n",
       "4  Anthony Jerjen        Josh Hartnett   Margarita Levieva    Chandler Riggs   \n",
       "\n",
       "                                   genres        movie_title  \n",
       "0                          Horror Mystery         The Grudge  \n",
       "1  Action Horror Science Fiction Thriller         Underwater  \n",
       "2                                  Comedy        Like a Boss  \n",
       "3                                   Drama      Three Christs  \n",
       "4                    Drama Thriller Crime  Inherit the Viper  "
      ]
     },
     "execution_count": 390,
     "metadata": {},
     "output_type": "execute_result"
    }
   ],
   "source": [
    "data_2020.head()"
   ]
  },
  {
   "cell_type": "code",
   "execution_count": 391,
   "metadata": {},
   "outputs": [
    {
     "data": {
      "text/plain": [
       "director_name     0\n",
       "actor_1_name      0\n",
       "actor_2_name      3\n",
       "actor_3_name     26\n",
       "genres            0\n",
       "movie_title       0\n",
       "dtype: int64"
      ]
     },
     "execution_count": 391,
     "metadata": {},
     "output_type": "execute_result"
    }
   ],
   "source": [
    "# lets handled the missing values:\n",
    "data_2020.isnull().sum()"
   ]
  },
  {
   "cell_type": "code",
   "execution_count": 392,
   "metadata": {},
   "outputs": [],
   "source": [
    "data_2020['actor_2_name']=data_2020.actor_2_name.replace(to_replace=np.nan, value='unknown')\n",
    "data_2020['actor_3_name']=data_2020.actor_3_name.replace(to_replace=np.nan, value='unknown')"
   ]
  },
  {
   "cell_type": "code",
   "execution_count": 393,
   "metadata": {},
   "outputs": [
    {
     "data": {
      "text/plain": [
       "director_name    0\n",
       "actor_1_name     0\n",
       "actor_2_name     0\n",
       "actor_3_name     0\n",
       "genres           0\n",
       "movie_title      0\n",
       "dtype: int64"
      ]
     },
     "execution_count": 393,
     "metadata": {},
     "output_type": "execute_result"
    }
   ],
   "source": [
    "data_2020.isnull().sum()"
   ]
  },
  {
   "cell_type": "code",
   "execution_count": 395,
   "metadata": {},
   "outputs": [],
   "source": [
    "# lets lowercase the movie_title:\n",
    "data_2020['movie_title']=data_2020['movie_title'].str.lower()"
   ]
  },
  {
   "cell_type": "code",
   "execution_count": 396,
   "metadata": {},
   "outputs": [],
   "source": [
    "data_2020['Combinations']=data_2020['actor_1_name']+', '+data_2020['actor_2_name']+', '+data_2020['actor_3_name']+', '+data_2020['director_name']+', '+data_2020['genres']"
   ]
  },
  {
   "cell_type": "code",
   "execution_count": 397,
   "metadata": {},
   "outputs": [
    {
     "data": {
      "text/html": [
       "<div>\n",
       "<style scoped>\n",
       "    .dataframe tbody tr th:only-of-type {\n",
       "        vertical-align: middle;\n",
       "    }\n",
       "\n",
       "    .dataframe tbody tr th {\n",
       "        vertical-align: top;\n",
       "    }\n",
       "\n",
       "    .dataframe thead th {\n",
       "        text-align: right;\n",
       "    }\n",
       "</style>\n",
       "<table border=\"1\" class=\"dataframe\">\n",
       "  <thead>\n",
       "    <tr style=\"text-align: right;\">\n",
       "      <th></th>\n",
       "      <th>director_name</th>\n",
       "      <th>actor_1_name</th>\n",
       "      <th>actor_2_name</th>\n",
       "      <th>actor_3_name</th>\n",
       "      <th>genres</th>\n",
       "      <th>movie_title</th>\n",
       "      <th>Combinations</th>\n",
       "    </tr>\n",
       "  </thead>\n",
       "  <tbody>\n",
       "    <tr>\n",
       "      <th>0</th>\n",
       "      <td>Nicolas Pesce</td>\n",
       "      <td>Andrea Riseborough</td>\n",
       "      <td>Demián Bichir</td>\n",
       "      <td>John Cho</td>\n",
       "      <td>Horror Mystery</td>\n",
       "      <td>the grudge</td>\n",
       "      <td>Andrea Riseborough,  Demián Bichir,  John Cho, Nicolas Pesce, Horror Mystery</td>\n",
       "    </tr>\n",
       "    <tr>\n",
       "      <th>1</th>\n",
       "      <td>William Eubank</td>\n",
       "      <td>Kristen Stewart</td>\n",
       "      <td>Vincent Cassel</td>\n",
       "      <td>Jessica Henwick</td>\n",
       "      <td>Action Horror Science Fiction Thriller</td>\n",
       "      <td>underwater</td>\n",
       "      <td>Kristen Stewart,  Vincent Cassel,  Jessica Henwick, William Eubank, Action Horror Science ...</td>\n",
       "    </tr>\n",
       "    <tr>\n",
       "      <th>2</th>\n",
       "      <td>Miguel Arteta</td>\n",
       "      <td>Tiffany Haddish</td>\n",
       "      <td>Rose Byrne</td>\n",
       "      <td>Salma Hayek</td>\n",
       "      <td>Comedy</td>\n",
       "      <td>like a boss</td>\n",
       "      <td>Tiffany Haddish,  Rose Byrne,  Salma Hayek, Miguel Arteta, Comedy</td>\n",
       "    </tr>\n",
       "    <tr>\n",
       "      <th>3</th>\n",
       "      <td>Jon Avnet</td>\n",
       "      <td>Richard Gere</td>\n",
       "      <td>Peter Dinklage</td>\n",
       "      <td>Walton Goggins</td>\n",
       "      <td>Drama</td>\n",
       "      <td>three christs</td>\n",
       "      <td>Richard Gere,  Peter Dinklage,  Walton Goggins, Jon Avnet, Drama</td>\n",
       "    </tr>\n",
       "    <tr>\n",
       "      <th>4</th>\n",
       "      <td>Anthony Jerjen</td>\n",
       "      <td>Josh Hartnett</td>\n",
       "      <td>Margarita Levieva</td>\n",
       "      <td>Chandler Riggs</td>\n",
       "      <td>Drama Thriller Crime</td>\n",
       "      <td>inherit the viper</td>\n",
       "      <td>Josh Hartnett,  Margarita Levieva,  Chandler Riggs, Anthony Jerjen, Drama Thriller Crime</td>\n",
       "    </tr>\n",
       "  </tbody>\n",
       "</table>\n",
       "</div>"
      ],
      "text/plain": [
       "    director_name         actor_1_name        actor_2_name      actor_3_name  \\\n",
       "0   Nicolas Pesce   Andrea Riseborough       Demián Bichir          John Cho   \n",
       "1  William Eubank      Kristen Stewart      Vincent Cassel   Jessica Henwick   \n",
       "2   Miguel Arteta      Tiffany Haddish          Rose Byrne       Salma Hayek   \n",
       "3       Jon Avnet         Richard Gere      Peter Dinklage    Walton Goggins   \n",
       "4  Anthony Jerjen        Josh Hartnett   Margarita Levieva    Chandler Riggs   \n",
       "\n",
       "                                   genres        movie_title  \\\n",
       "0                          Horror Mystery         the grudge   \n",
       "1  Action Horror Science Fiction Thriller         underwater   \n",
       "2                                  Comedy        like a boss   \n",
       "3                                   Drama      three christs   \n",
       "4                    Drama Thriller Crime  inherit the viper   \n",
       "\n",
       "                                                                                     Combinations  \n",
       "0                    Andrea Riseborough,  Demián Bichir,  John Cho, Nicolas Pesce, Horror Mystery  \n",
       "1   Kristen Stewart,  Vincent Cassel,  Jessica Henwick, William Eubank, Action Horror Science ...  \n",
       "2                               Tiffany Haddish,  Rose Byrne,  Salma Hayek, Miguel Arteta, Comedy  \n",
       "3                                Richard Gere,  Peter Dinklage,  Walton Goggins, Jon Avnet, Drama  \n",
       "4        Josh Hartnett,  Margarita Levieva,  Chandler Riggs, Anthony Jerjen, Drama Thriller Crime  "
      ]
     },
     "execution_count": 397,
     "metadata": {},
     "output_type": "execute_result"
    }
   ],
   "source": [
    "data_2020.head()"
   ]
  },
  {
   "cell_type": "markdown",
   "metadata": {},
   "source": [
    "# finally lets merge the entire data for year 2017(new.csv),2018,2019,2020:"
   ]
  },
  {
   "cell_type": "code",
   "execution_count": 399,
   "metadata": {},
   "outputs": [],
   "source": [
    "final=pd.concat([new, data_2018, data_2019, data_2020], axis=0, ignore_index=True)"
   ]
  },
  {
   "cell_type": "code",
   "execution_count": 400,
   "metadata": {},
   "outputs": [
    {
     "data": {
      "text/plain": [
       "(6145, 7)"
      ]
     },
     "execution_count": 400,
     "metadata": {},
     "output_type": "execute_result"
    }
   ],
   "source": [
    "final.shape"
   ]
  },
  {
   "cell_type": "code",
   "execution_count": 401,
   "metadata": {},
   "outputs": [
    {
     "data": {
      "text/html": [
       "<div>\n",
       "<style scoped>\n",
       "    .dataframe tbody tr th:only-of-type {\n",
       "        vertical-align: middle;\n",
       "    }\n",
       "\n",
       "    .dataframe tbody tr th {\n",
       "        vertical-align: top;\n",
       "    }\n",
       "\n",
       "    .dataframe thead th {\n",
       "        text-align: right;\n",
       "    }\n",
       "</style>\n",
       "<table border=\"1\" class=\"dataframe\">\n",
       "  <thead>\n",
       "    <tr style=\"text-align: right;\">\n",
       "      <th></th>\n",
       "      <th>director_name</th>\n",
       "      <th>actor_1_name</th>\n",
       "      <th>actor_2_name</th>\n",
       "      <th>actor_3_name</th>\n",
       "      <th>genres</th>\n",
       "      <th>movie_title</th>\n",
       "      <th>Combinations</th>\n",
       "    </tr>\n",
       "  </thead>\n",
       "  <tbody>\n",
       "    <tr>\n",
       "      <th>0</th>\n",
       "      <td>James Cameron</td>\n",
       "      <td>CCH Pounder</td>\n",
       "      <td>Joel David Moore</td>\n",
       "      <td>Wes Studi</td>\n",
       "      <td>Action Adventure Fantasy Sci-Fi</td>\n",
       "      <td>avatar</td>\n",
       "      <td>CCH Pounder, Joel David Moore, Wes Studi, James Cameron, Action Adventure Fantasy Sci-Fi</td>\n",
       "    </tr>\n",
       "    <tr>\n",
       "      <th>1</th>\n",
       "      <td>Gore Verbinski</td>\n",
       "      <td>Johnny Depp</td>\n",
       "      <td>Orlando Bloom</td>\n",
       "      <td>Jack Davenport</td>\n",
       "      <td>Action Adventure Fantasy</td>\n",
       "      <td>pirates of the caribbean: at world's end</td>\n",
       "      <td>Johnny Depp, Orlando Bloom, Jack Davenport, Gore Verbinski, Action Adventure Fantasy</td>\n",
       "    </tr>\n",
       "    <tr>\n",
       "      <th>2</th>\n",
       "      <td>Sam Mendes</td>\n",
       "      <td>Christoph Waltz</td>\n",
       "      <td>Rory Kinnear</td>\n",
       "      <td>Stephanie Sigman</td>\n",
       "      <td>Action Adventure Thriller</td>\n",
       "      <td>spectre</td>\n",
       "      <td>Christoph Waltz, Rory Kinnear, Stephanie Sigman, Sam Mendes, Action Adventure Thriller</td>\n",
       "    </tr>\n",
       "    <tr>\n",
       "      <th>3</th>\n",
       "      <td>Christopher Nolan</td>\n",
       "      <td>Tom Hardy</td>\n",
       "      <td>Christian Bale</td>\n",
       "      <td>Joseph Gordon-Levitt</td>\n",
       "      <td>Action Thriller</td>\n",
       "      <td>the dark knight rises</td>\n",
       "      <td>Tom Hardy, Christian Bale, Joseph Gordon-Levitt, Christopher Nolan, Action Thriller</td>\n",
       "    </tr>\n",
       "    <tr>\n",
       "      <th>4</th>\n",
       "      <td>Doug Walker</td>\n",
       "      <td>Doug Walker</td>\n",
       "      <td>Rob Walker</td>\n",
       "      <td>unknown</td>\n",
       "      <td>Documentary</td>\n",
       "      <td>star wars: episode vii - the force awakens</td>\n",
       "      <td>Doug Walker, Rob Walker, unknown, Doug Walker, Documentary</td>\n",
       "    </tr>\n",
       "  </tbody>\n",
       "</table>\n",
       "</div>"
      ],
      "text/plain": [
       "       director_name     actor_1_name      actor_2_name          actor_3_name  \\\n",
       "0      James Cameron      CCH Pounder  Joel David Moore             Wes Studi   \n",
       "1     Gore Verbinski      Johnny Depp     Orlando Bloom        Jack Davenport   \n",
       "2         Sam Mendes  Christoph Waltz      Rory Kinnear      Stephanie Sigman   \n",
       "3  Christopher Nolan        Tom Hardy    Christian Bale  Joseph Gordon-Levitt   \n",
       "4        Doug Walker      Doug Walker        Rob Walker               unknown   \n",
       "\n",
       "                            genres  \\\n",
       "0  Action Adventure Fantasy Sci-Fi   \n",
       "1         Action Adventure Fantasy   \n",
       "2        Action Adventure Thriller   \n",
       "3                  Action Thriller   \n",
       "4                      Documentary   \n",
       "\n",
       "                                              movie_title  \\\n",
       "0                                                  avatar   \n",
       "1                pirates of the caribbean: at world's end   \n",
       "2                                                 spectre   \n",
       "3                                   the dark knight rises   \n",
       "4  star wars: episode vii - the force awakens               \n",
       "\n",
       "                                                                               Combinations  \n",
       "0  CCH Pounder, Joel David Moore, Wes Studi, James Cameron, Action Adventure Fantasy Sci-Fi  \n",
       "1      Johnny Depp, Orlando Bloom, Jack Davenport, Gore Verbinski, Action Adventure Fantasy  \n",
       "2    Christoph Waltz, Rory Kinnear, Stephanie Sigman, Sam Mendes, Action Adventure Thriller  \n",
       "3       Tom Hardy, Christian Bale, Joseph Gordon-Levitt, Christopher Nolan, Action Thriller  \n",
       "4                                Doug Walker, Rob Walker, unknown, Doug Walker, Documentary  "
      ]
     },
     "execution_count": 401,
     "metadata": {},
     "output_type": "execute_result"
    }
   ],
   "source": [
    "final.head()"
   ]
  },
  {
   "cell_type": "code",
   "execution_count": 402,
   "metadata": {},
   "outputs": [
    {
     "data": {
      "text/plain": [
       "director_name    0\n",
       "actor_1_name     0\n",
       "actor_2_name     0\n",
       "actor_3_name     0\n",
       "genres           5\n",
       "movie_title      0\n",
       "Combinations     5\n",
       "dtype: int64"
      ]
     },
     "execution_count": 402,
     "metadata": {},
     "output_type": "execute_result"
    }
   ],
   "source": [
    "# lets finally handle the missing values:\n",
    "final.isnull().sum()"
   ]
  },
  {
   "cell_type": "code",
   "execution_count": 404,
   "metadata": {},
   "outputs": [],
   "source": [
    "final=final.dropna(how='any')"
   ]
  },
  {
   "cell_type": "code",
   "execution_count": 405,
   "metadata": {},
   "outputs": [
    {
     "data": {
      "text/plain": [
       "director_name    0\n",
       "actor_1_name     0\n",
       "actor_2_name     0\n",
       "actor_3_name     0\n",
       "genres           0\n",
       "movie_title      0\n",
       "Combinations     0\n",
       "dtype: int64"
      ]
     },
     "execution_count": 405,
     "metadata": {},
     "output_type": "execute_result"
    }
   ],
   "source": [
    "final.isnull().sum()"
   ]
  },
  {
   "cell_type": "code",
   "execution_count": 407,
   "metadata": {},
   "outputs": [
    {
     "data": {
      "text/plain": [
       "0"
      ]
     },
     "execution_count": 407,
     "metadata": {},
     "output_type": "execute_result"
    }
   ],
   "source": [
    "# lets check the duplicate data:\n",
    "final.duplicated().sum()"
   ]
  },
  {
   "cell_type": "code",
   "execution_count": 408,
   "metadata": {},
   "outputs": [],
   "source": [
    "final.to_csv('D:\\\\Study\\\\Python\\\\scripts\\\\Machine_Learning\\\\Supervised_Model\\\\Movie_Recommendation\\\\MY_Prectice\\\\final.csv', index=False)"
   ]
  },
  {
   "cell_type": "code",
   "execution_count": null,
   "metadata": {},
   "outputs": [],
   "source": []
  },
  {
   "cell_type": "code",
   "execution_count": null,
   "metadata": {},
   "outputs": [],
   "source": []
  }
 ],
 "metadata": {
  "kernelspec": {
   "display_name": "Python 3",
   "language": "python",
   "name": "python3"
  },
  "language_info": {
   "codemirror_mode": {
    "name": "ipython",
    "version": 3
   },
   "file_extension": ".py",
   "mimetype": "text/x-python",
   "name": "python",
   "nbconvert_exporter": "python",
   "pygments_lexer": "ipython3",
   "version": "3.7.4"
  }
 },
 "nbformat": 4,
 "nbformat_minor": 4
}
